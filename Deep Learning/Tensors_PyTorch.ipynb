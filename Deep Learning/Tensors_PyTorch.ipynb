{
  "nbformat": 4,
  "nbformat_minor": 0,
  "metadata": {
    "colab": {
      "provenance": [],
      "gpuType": "T4"
    },
    "kernelspec": {
      "name": "python3",
      "display_name": "Python 3"
    },
    "language_info": {
      "name": "python"
    },
    "accelerator": "GPU"
  },
  "cells": [
    {
      "cell_type": "code",
      "execution_count": null,
      "metadata": {
        "colab": {
          "base_uri": "https://localhost:8080/"
        },
        "id": "FV8H-I5jWZjA",
        "outputId": "d7692fa7-cf16-4b55-9d5e-507e4767d890"
      },
      "outputs": [
        {
          "output_type": "stream",
          "name": "stdout",
          "text": [
            "2.5.1+cu124\n"
          ]
        }
      ],
      "source": [
        "import torch\n",
        "print(torch.__version__) # Checking version of PyTorch"
      ]
    },
    {
      "cell_type": "code",
      "source": [
        "# Checking if GPU is available or not\n",
        "if torch.cuda.is_available():\n",
        "  print(\"GPU is available!\")\n",
        "  print(f\"Using GPU: {torch.cuda.get_device_name(0)}\")\n",
        "else:\n",
        "  print(\"GPU not available. Using CPU.\")"
      ],
      "metadata": {
        "colab": {
          "base_uri": "https://localhost:8080/"
        },
        "id": "LK0YPJdtWjMN",
        "outputId": "8f2796fb-90da-46e4-b423-0d42d155b954"
      },
      "execution_count": null,
      "outputs": [
        {
          "output_type": "stream",
          "name": "stdout",
          "text": [
            "GPU is available!\n",
            "Using GPU: Tesla T4\n"
          ]
        }
      ]
    },
    {
      "cell_type": "markdown",
      "source": [
        "## Creating Tensors"
      ],
      "metadata": {
        "id": "eXGX_UrsYLf6"
      }
    },
    {
      "cell_type": "code",
      "source": [
        "# Using empty\n",
        "torch.empty(2,3)"
      ],
      "metadata": {
        "colab": {
          "base_uri": "https://localhost:8080/"
        },
        "id": "fy-WS_IvWwQF",
        "outputId": "34c4f779-88ef-4de8-9068-4137b594045f"
      },
      "execution_count": null,
      "outputs": [
        {
          "output_type": "execute_result",
          "data": {
            "text/plain": [
              "tensor([[0., 0., 0.],\n",
              "        [0., 0., 0.]])"
            ]
          },
          "metadata": {},
          "execution_count": 4
        }
      ]
    },
    {
      "cell_type": "markdown",
      "source": [
        "Empty function allocates memory 1st or creates spaces and shows those random values which are already there in that space."
      ],
      "metadata": {
        "id": "SELh-PPWYXNh"
      }
    },
    {
      "cell_type": "code",
      "source": [
        "# Using empty\n",
        "torch.empty(2,3)"
      ],
      "metadata": {
        "colab": {
          "base_uri": "https://localhost:8080/"
        },
        "id": "MsRMa2H0YS69",
        "outputId": "270de340-94dd-4a51-d374-b61460cfdea2"
      },
      "execution_count": null,
      "outputs": [
        {
          "output_type": "execute_result",
          "data": {
            "text/plain": [
              "tensor([[4.3665e-10, 4.4717e-41, 4.3665e-10],\n",
              "        [4.4717e-41, 0.0000e+00, 0.0000e+00]])"
            ]
          },
          "metadata": {},
          "execution_count": 5
        }
      ]
    },
    {
      "cell_type": "code",
      "source": [
        "# Checking type\n",
        "a = torch.empty(2,3)\n",
        "print(type(a))"
      ],
      "metadata": {
        "colab": {
          "base_uri": "https://localhost:8080/"
        },
        "id": "ZpupxMZuYn7J",
        "outputId": "b5f87b59-f3b5-41f4-bd8d-fc3aa2cd6292"
      },
      "execution_count": null,
      "outputs": [
        {
          "output_type": "stream",
          "name": "stdout",
          "text": [
            "<class 'torch.Tensor'>\n"
          ]
        }
      ]
    },
    {
      "cell_type": "code",
      "source": [
        "a.dtype"
      ],
      "metadata": {
        "colab": {
          "base_uri": "https://localhost:8080/"
        },
        "id": "MnsF_cqVYzWd",
        "outputId": "4ce55710-3807-4ff7-b54d-d2692cbb42b8"
      },
      "execution_count": null,
      "outputs": [
        {
          "output_type": "execute_result",
          "data": {
            "text/plain": [
              "torch.float32"
            ]
          },
          "metadata": {},
          "execution_count": 7
        }
      ]
    },
    {
      "cell_type": "code",
      "source": [
        "# Using zeros\n",
        "torch.zeros(2,3)"
      ],
      "metadata": {
        "colab": {
          "base_uri": "https://localhost:8080/"
        },
        "id": "hIvvWRgVY14o",
        "outputId": "a0139c94-ad79-4015-fa0d-ee521ffd1969"
      },
      "execution_count": null,
      "outputs": [
        {
          "output_type": "execute_result",
          "data": {
            "text/plain": [
              "tensor([[0., 0., 0.],\n",
              "        [0., 0., 0.]])"
            ]
          },
          "metadata": {},
          "execution_count": 8
        }
      ]
    },
    {
      "cell_type": "code",
      "source": [
        "# Using Ones\n",
        "torch.ones(2,3)"
      ],
      "metadata": {
        "colab": {
          "base_uri": "https://localhost:8080/"
        },
        "id": "MtwesvhVY7lX",
        "outputId": "ea7c2482-8706-40d2-c3dd-c85b2d2cb2b3"
      },
      "execution_count": null,
      "outputs": [
        {
          "output_type": "execute_result",
          "data": {
            "text/plain": [
              "tensor([[1., 1., 1.],\n",
              "        [1., 1., 1.]])"
            ]
          },
          "metadata": {},
          "execution_count": 9
        }
      ]
    },
    {
      "cell_type": "code",
      "source": [
        "# Using rand\n",
        "torch.rand(2,3)"
      ],
      "metadata": {
        "colab": {
          "base_uri": "https://localhost:8080/"
        },
        "id": "J8_J_yv5ZDWz",
        "outputId": "eb5eaf68-1846-4e72-b355-09a594996fda"
      },
      "execution_count": null,
      "outputs": [
        {
          "output_type": "execute_result",
          "data": {
            "text/plain": [
              "tensor([[0.9105, 0.4023, 0.9852],\n",
              "        [0.2696, 0.8721, 0.4968]])"
            ]
          },
          "metadata": {},
          "execution_count": 10
        }
      ]
    },
    {
      "cell_type": "markdown",
      "source": [
        "Rand will give random values from 0 to 1"
      ],
      "metadata": {
        "id": "FIvmxY8TZJv0"
      }
    },
    {
      "cell_type": "code",
      "source": [
        "# Manual seed\n",
        "torch.manual_seed(42)\n",
        "torch.rand(2,3)"
      ],
      "metadata": {
        "colab": {
          "base_uri": "https://localhost:8080/"
        },
        "id": "oVZghg10ZHrB",
        "outputId": "a29f1a58-e1b0-4a49-acd4-7748429b61cc"
      },
      "execution_count": null,
      "outputs": [
        {
          "output_type": "execute_result",
          "data": {
            "text/plain": [
              "tensor([[0.8823, 0.9150, 0.3829],\n",
              "        [0.9593, 0.3904, 0.6009]])"
            ]
          },
          "metadata": {},
          "execution_count": 11
        }
      ]
    },
    {
      "cell_type": "code",
      "source": [
        "torch.manual_seed(42)\n",
        "torch.rand(2,3)"
      ],
      "metadata": {
        "colab": {
          "base_uri": "https://localhost:8080/"
        },
        "id": "GHc_VRo5ZshW",
        "outputId": "1b232bc4-1e0a-4c56-be97-91942c476930"
      },
      "execution_count": null,
      "outputs": [
        {
          "output_type": "execute_result",
          "data": {
            "text/plain": [
              "tensor([[0.8823, 0.9150, 0.3829],\n",
              "        [0.9593, 0.3904, 0.6009]])"
            ]
          },
          "metadata": {},
          "execution_count": 12
        }
      ]
    },
    {
      "cell_type": "markdown",
      "source": [
        "Manual seed helps to keep the random values constant over the time no matter how many times we run that particular code, the values will be same. Here, in this case, it will show:\n",
        "\n",
        "tensor([[0.8823, 0.9150, 0.3829],\n",
        "        [0.9593, 0.3904, 0.6009]])"
      ],
      "metadata": {
        "id": "mDzKcufeZyiO"
      }
    },
    {
      "cell_type": "code",
      "source": [
        "# Using tensor\n",
        "torch.tensor([[1,2,3],\n",
        "              [4,5,6],\n",
        "              [7,8,9]]) # Creating custom tensors"
      ],
      "metadata": {
        "colab": {
          "base_uri": "https://localhost:8080/"
        },
        "id": "3F9E8ECbZwh7",
        "outputId": "bac4cf4d-f0c3-42da-9844-d228e541748e"
      },
      "execution_count": null,
      "outputs": [
        {
          "output_type": "execute_result",
          "data": {
            "text/plain": [
              "tensor([[1, 2, 3],\n",
              "        [4, 5, 6],\n",
              "        [7, 8, 9]])"
            ]
          },
          "metadata": {},
          "execution_count": 13
        }
      ]
    },
    {
      "cell_type": "code",
      "source": [
        "# Other ways to create tensor\n",
        "\n",
        "# arange\n",
        "print(\"using arange ->\", torch.arange(0,10,2))\n",
        "\n",
        "# using linspace\n",
        "print(\"using linspace ->\", torch.linspace(0,10,10))\n",
        "\n",
        "# using eye\n",
        "print(\"using eye ->\", torch.eye(5))\n",
        "\n",
        "# using full\n",
        "print(\"using full ->\", torch.full((3, 3), 5))"
      ],
      "metadata": {
        "colab": {
          "base_uri": "https://localhost:8080/"
        },
        "id": "HOpKJIiPaGfD",
        "outputId": "2910fd51-1e40-46cb-8bf3-d7b969e0ed1f"
      },
      "execution_count": null,
      "outputs": [
        {
          "output_type": "stream",
          "name": "stdout",
          "text": [
            "using arange -> tensor([0, 2, 4, 6, 8])\n",
            "using linspace -> tensor([ 0.0000,  1.1111,  2.2222,  3.3333,  4.4444,  5.5556,  6.6667,  7.7778,\n",
            "         8.8889, 10.0000])\n",
            "using eye -> tensor([[1., 0., 0., 0., 0.],\n",
            "        [0., 1., 0., 0., 0.],\n",
            "        [0., 0., 1., 0., 0.],\n",
            "        [0., 0., 0., 1., 0.],\n",
            "        [0., 0., 0., 0., 1.]])\n",
            "using full -> tensor([[5, 5, 5],\n",
            "        [5, 5, 5],\n",
            "        [5, 5, 5]])\n"
          ]
        }
      ]
    },
    {
      "cell_type": "markdown",
      "source": [
        "## Tensor Shape"
      ],
      "metadata": {
        "id": "PgQLF2pzbIau"
      }
    },
    {
      "cell_type": "code",
      "source": [
        "x = torch.tensor([[1,2,3],[4,5,6]])\n",
        "print(x)\n",
        "print(x.shape)"
      ],
      "metadata": {
        "colab": {
          "base_uri": "https://localhost:8080/"
        },
        "id": "wI73K4s5asNJ",
        "outputId": "5dd2c19e-6a2a-4197-deaf-7e9a9c53ddc1"
      },
      "execution_count": null,
      "outputs": [
        {
          "output_type": "stream",
          "name": "stdout",
          "text": [
            "tensor([[1, 2, 3],\n",
            "        [4, 5, 6]])\n",
            "torch.Size([2, 3])\n"
          ]
        }
      ]
    },
    {
      "cell_type": "code",
      "source": [
        "# Using empty_like\n",
        "torch.empty_like(x)"
      ],
      "metadata": {
        "colab": {
          "base_uri": "https://localhost:8080/"
        },
        "id": "MwiEgM-JbOYE",
        "outputId": "137d3811-c675-4947-98b0-de88a66f1cd0"
      },
      "execution_count": null,
      "outputs": [
        {
          "output_type": "execute_result",
          "data": {
            "text/plain": [
              "tensor([[0, 0, 0],\n",
              "        [0, 1, 0]])"
            ]
          },
          "metadata": {},
          "execution_count": 16
        }
      ]
    },
    {
      "cell_type": "markdown",
      "source": [
        "By using this function, it will create a new tensor but with the same shape."
      ],
      "metadata": {
        "id": "gO9pf0CjbWxC"
      }
    },
    {
      "cell_type": "code",
      "source": [
        "torch.zeros_like(x)"
      ],
      "metadata": {
        "colab": {
          "base_uri": "https://localhost:8080/"
        },
        "id": "FaV7JoCcbTXR",
        "outputId": "46697776-c149-4248-d183-0de0b131f284"
      },
      "execution_count": null,
      "outputs": [
        {
          "output_type": "execute_result",
          "data": {
            "text/plain": [
              "tensor([[0, 0, 0],\n",
              "        [0, 0, 0]])"
            ]
          },
          "metadata": {},
          "execution_count": 17
        }
      ]
    },
    {
      "cell_type": "code",
      "source": [
        "torch.ones_like(x)"
      ],
      "metadata": {
        "colab": {
          "base_uri": "https://localhost:8080/"
        },
        "id": "VeYgripzbgCP",
        "outputId": "b2ddf5dd-ab24-4d0f-b392-a5288fb8b22c"
      },
      "execution_count": null,
      "outputs": [
        {
          "output_type": "execute_result",
          "data": {
            "text/plain": [
              "tensor([[1, 1, 1],\n",
              "        [1, 1, 1]])"
            ]
          },
          "metadata": {},
          "execution_count": 18
        }
      ]
    },
    {
      "cell_type": "code",
      "source": [
        "torch.rand_like(x,\n",
        "                dtype=torch.float32)"
      ],
      "metadata": {
        "colab": {
          "base_uri": "https://localhost:8080/"
        },
        "id": "rQp0HKo6bhwv",
        "outputId": "cf4726b9-53e4-40a6-c110-9ecb35163e4c"
      },
      "execution_count": null,
      "outputs": [
        {
          "output_type": "execute_result",
          "data": {
            "text/plain": [
              "tensor([[0.2566, 0.7936, 0.9408],\n",
              "        [0.1332, 0.9346, 0.5936]])"
            ]
          },
          "metadata": {},
          "execution_count": 19
        }
      ]
    },
    {
      "cell_type": "markdown",
      "source": [
        "## Tensor Datatype"
      ],
      "metadata": {
        "id": "2fNRXr6cbzqh"
      }
    },
    {
      "cell_type": "code",
      "source": [
        "x.dtype"
      ],
      "metadata": {
        "colab": {
          "base_uri": "https://localhost:8080/"
        },
        "id": "sWaZsNF0ble7",
        "outputId": "94577dce-012f-4f40-8ed2-c73c3794aed8"
      },
      "execution_count": null,
      "outputs": [
        {
          "output_type": "execute_result",
          "data": {
            "text/plain": [
              "torch.int64"
            ]
          },
          "metadata": {},
          "execution_count": 20
        }
      ]
    },
    {
      "cell_type": "code",
      "source": [
        "torch.tensor([1.0,2.0,3.0],\n",
        "             dtype=torch.int32)"
      ],
      "metadata": {
        "colab": {
          "base_uri": "https://localhost:8080/"
        },
        "id": "j9-HYCvocciz",
        "outputId": "6cb3d598-6056-4f4c-fc1b-b1889b69f5be"
      },
      "execution_count": null,
      "outputs": [
        {
          "output_type": "execute_result",
          "data": {
            "text/plain": [
              "tensor([1, 2, 3], dtype=torch.int32)"
            ]
          },
          "metadata": {},
          "execution_count": 21
        }
      ]
    },
    {
      "cell_type": "code",
      "source": [
        "torch.tensor([1,2,3],\n",
        "             dtype=torch.float64)"
      ],
      "metadata": {
        "colab": {
          "base_uri": "https://localhost:8080/"
        },
        "id": "N61eZ6QkcmB9",
        "outputId": "c73c9f75-2e34-40e0-8c14-206a920e78e4"
      },
      "execution_count": null,
      "outputs": [
        {
          "output_type": "execute_result",
          "data": {
            "text/plain": [
              "tensor([1., 2., 3.], dtype=torch.float64)"
            ]
          },
          "metadata": {},
          "execution_count": 22
        }
      ]
    },
    {
      "cell_type": "code",
      "source": [
        "# using to()\n",
        "x.to(torch.float32)"
      ],
      "metadata": {
        "colab": {
          "base_uri": "https://localhost:8080/"
        },
        "id": "7rgoaFDCcuZR",
        "outputId": "9dca8320-6fd3-415e-a71c-8e5a710ec8c6"
      },
      "execution_count": null,
      "outputs": [
        {
          "output_type": "execute_result",
          "data": {
            "text/plain": [
              "tensor([[1., 2., 3.],\n",
              "        [4., 5., 6.]])"
            ]
          },
          "metadata": {},
          "execution_count": 23
        }
      ]
    },
    {
      "cell_type": "markdown",
      "source": [
        "## Mathematical Operations"
      ],
      "metadata": {
        "id": "xKjOMP5vdKs1"
      }
    },
    {
      "cell_type": "markdown",
      "source": [
        "### Scalar operation"
      ],
      "metadata": {
        "id": "NgS3pjqUdhHq"
      }
    },
    {
      "cell_type": "code",
      "source": [
        "x = torch.rand([2,2])"
      ],
      "metadata": {
        "id": "DJUrrC4jdIxN"
      },
      "execution_count": null,
      "outputs": []
    },
    {
      "cell_type": "code",
      "source": [
        "x"
      ],
      "metadata": {
        "colab": {
          "base_uri": "https://localhost:8080/"
        },
        "id": "iDGpMqLudnFi",
        "outputId": "191fabc1-d88d-4ac5-a9b3-3b02540f50c4"
      },
      "execution_count": null,
      "outputs": [
        {
          "output_type": "execute_result",
          "data": {
            "text/plain": [
              "tensor([[0.8694, 0.5677],\n",
              "        [0.7411, 0.4294]])"
            ]
          },
          "metadata": {},
          "execution_count": 25
        }
      ]
    },
    {
      "cell_type": "code",
      "source": [
        "# Addition\n",
        "print(x)\n",
        "print(x+1)"
      ],
      "metadata": {
        "colab": {
          "base_uri": "https://localhost:8080/"
        },
        "id": "66NY6pjAdnio",
        "outputId": "441895d6-9f08-4698-8669-3f36f3d75b3b"
      },
      "execution_count": null,
      "outputs": [
        {
          "output_type": "stream",
          "name": "stdout",
          "text": [
            "tensor([[0.8694, 0.5677],\n",
            "        [0.7411, 0.4294]])\n",
            "tensor([[1.8694, 1.5677],\n",
            "        [1.7411, 1.4294]])\n"
          ]
        }
      ]
    },
    {
      "cell_type": "markdown",
      "source": [
        "### Element wise operation"
      ],
      "metadata": {
        "id": "A77cGJCQd595"
      }
    },
    {
      "cell_type": "code",
      "source": [
        "a = torch.rand([2,2])\n",
        "b = torch.rand([2,2])\n",
        "\n",
        "print(a)\n",
        "print(b)"
      ],
      "metadata": {
        "colab": {
          "base_uri": "https://localhost:8080/"
        },
        "id": "ivwk08AVdrLj",
        "outputId": "753f1dfa-d9e0-490c-a2a5-3e7f2b62e87f"
      },
      "execution_count": null,
      "outputs": [
        {
          "output_type": "stream",
          "name": "stdout",
          "text": [
            "tensor([[0.8854, 0.5739],\n",
            "        [0.2666, 0.6274]])\n",
            "tensor([[0.2696, 0.4414],\n",
            "        [0.2969, 0.8317]])\n"
          ]
        }
      ]
    },
    {
      "cell_type": "code",
      "source": [
        "a = torch.rand([2,2])\n",
        "b = torch.rand([2,2])\n",
        "\n",
        "print(a)\n",
        "print(b)\n",
        "\n",
        "# Addition\n",
        "print(a+b)\n",
        "\n",
        "# Subtraction\n",
        "print(a-b)"
      ],
      "metadata": {
        "colab": {
          "base_uri": "https://localhost:8080/"
        },
        "id": "1GGeuiFLeDzR",
        "outputId": "404890fb-d35d-468d-864f-a8596ee12af5"
      },
      "execution_count": null,
      "outputs": [
        {
          "output_type": "stream",
          "name": "stdout",
          "text": [
            "tensor([[0.1053, 0.2695],\n",
            "        [0.3588, 0.1994]])\n",
            "tensor([[0.5472, 0.0062],\n",
            "        [0.9516, 0.0753]])\n",
            "tensor([[0.6525, 0.2757],\n",
            "        [1.3104, 0.2746]])\n",
            "tensor([[-0.4419,  0.2633],\n",
            "        [-0.5927,  0.1241]])\n"
          ]
        }
      ]
    },
    {
      "cell_type": "code",
      "source": [
        "# Absolute value\n",
        "c = torch.tensor([1, -8, 9, -6])\n",
        "\n",
        "print(torch.abs(c))"
      ],
      "metadata": {
        "colab": {
          "base_uri": "https://localhost:8080/"
        },
        "id": "N3dyEDKfeSZm",
        "outputId": "e3e6688a-47ae-4f65-fcf6-4b0d82427e0f"
      },
      "execution_count": null,
      "outputs": [
        {
          "output_type": "stream",
          "name": "stdout",
          "text": [
            "tensor([1, 8, 9, 6])\n"
          ]
        }
      ]
    },
    {
      "cell_type": "code",
      "source": [
        "# Round\n",
        "d = torch.tensor([1.9, 2.3, 3.7, 4.4])\n",
        "\n",
        "torch.round(d)"
      ],
      "metadata": {
        "colab": {
          "base_uri": "https://localhost:8080/"
        },
        "id": "uELuY3eBehK9",
        "outputId": "01da3145-564e-462f-b006-458d84d0ed9d"
      },
      "execution_count": null,
      "outputs": [
        {
          "output_type": "execute_result",
          "data": {
            "text/plain": [
              "tensor([2., 2., 4., 4.])"
            ]
          },
          "metadata": {},
          "execution_count": 30
        }
      ]
    },
    {
      "cell_type": "code",
      "source": [
        "# clamp\n",
        "torch.clamp(d, min=2, max=3)"
      ],
      "metadata": {
        "colab": {
          "base_uri": "https://localhost:8080/"
        },
        "id": "tpHRyYK8esom",
        "outputId": "858fcc3e-1bbb-49a4-c7cf-ee3235bba1ca"
      },
      "execution_count": null,
      "outputs": [
        {
          "output_type": "execute_result",
          "data": {
            "text/plain": [
              "tensor([2.0000, 2.3000, 3.0000, 3.0000])"
            ]
          },
          "metadata": {},
          "execution_count": 31
        }
      ]
    },
    {
      "cell_type": "markdown",
      "source": [
        "### Reduction Operation"
      ],
      "metadata": {
        "id": "GiMKVjI3ew9P"
      }
    },
    {
      "cell_type": "code",
      "source": [
        "e = torch.randint(size=(2,3), low=0, high=10)\n",
        "print(e)\n",
        "\n",
        "# Sum\n",
        "print(torch.sum(e))\n",
        "\n",
        "# Sum along columns\n",
        "print(torch.sum(e, dim=0))\n",
        "\n",
        "# Sum along rows\n",
        "print(torch.sum(e, dim=1))"
      ],
      "metadata": {
        "colab": {
          "base_uri": "https://localhost:8080/"
        },
        "id": "eXaBAGfbevAT",
        "outputId": "4ff06c26-dcff-44a4-dd9f-ec62997bbff6"
      },
      "execution_count": null,
      "outputs": [
        {
          "output_type": "stream",
          "name": "stdout",
          "text": [
            "tensor([[0, 9, 0],\n",
            "        [9, 6, 9]])\n",
            "tensor(33)\n",
            "tensor([ 9, 15,  9])\n",
            "tensor([ 9, 24])\n"
          ]
        }
      ]
    },
    {
      "cell_type": "markdown",
      "source": [
        "## Matrix Operations"
      ],
      "metadata": {
        "id": "l186uj_jT6m4"
      }
    },
    {
      "cell_type": "code",
      "source": [
        "# Random Matrices\n",
        "f = torch.randint(size=(2,3), low=0, high=10)\n",
        "g = torch.randint(size=(3,2), low=0, high=10)\n",
        "\n",
        "print(f)\n",
        "print(g)\n",
        "\n",
        "# Matrix Multiplcation\n",
        "print(\"Multiplication:\", torch.matmul(f,g))"
      ],
      "metadata": {
        "colab": {
          "base_uri": "https://localhost:8080/"
        },
        "id": "VSQteLT4TzZC",
        "outputId": "a41878c6-0bbc-4e5b-c368-735dbf69495e"
      },
      "execution_count": null,
      "outputs": [
        {
          "output_type": "stream",
          "name": "stdout",
          "text": [
            "tensor([[1, 4, 0],\n",
            "        [3, 7, 5]])\n",
            "tensor([[7, 1],\n",
            "        [5, 7],\n",
            "        [5, 8]])\n",
            "Multiplication: tensor([[27, 29],\n",
            "        [81, 92]])\n"
          ]
        }
      ]
    },
    {
      "cell_type": "markdown",
      "source": [
        "## Special Functions"
      ],
      "metadata": {
        "id": "dpk8vWFHZDWX"
      }
    },
    {
      "cell_type": "code",
      "source": [
        "k = torch.randint(size=(2,3), low=0, high=10)\n",
        "print(k)\n",
        "\n",
        "# log\n",
        "print(torch.log(k))\n",
        "\n",
        "# exp\n",
        "print(torch.exp(k))\n",
        "\n",
        "# sqrt\n",
        "print(torch.sqrt(k))\n",
        "\n",
        "# sigmoid\n",
        "print(torch.sigmoid(k))\n",
        "\n",
        "# softmax\n",
        "# print(torch.softmax(k, dim=0))"
      ],
      "metadata": {
        "colab": {
          "base_uri": "https://localhost:8080/"
        },
        "id": "gnnYkkk1UE45",
        "outputId": "3d003205-e9fc-403b-f8e4-45ac68876877"
      },
      "execution_count": null,
      "outputs": [
        {
          "output_type": "stream",
          "name": "stdout",
          "text": [
            "tensor([[9, 1, 7],\n",
            "        [8, 6, 0]])\n",
            "tensor([[2.1972, 0.0000, 1.9459],\n",
            "        [2.0794, 1.7918,   -inf]])\n",
            "tensor([[8.1031e+03, 2.7183e+00, 1.0966e+03],\n",
            "        [2.9810e+03, 4.0343e+02, 1.0000e+00]])\n",
            "tensor([[3.0000, 1.0000, 2.6458],\n",
            "        [2.8284, 2.4495, 0.0000]])\n",
            "tensor([[0.9999, 0.7311, 0.9991],\n",
            "        [0.9997, 0.9975, 0.5000]])\n"
          ]
        }
      ]
    },
    {
      "cell_type": "markdown",
      "source": [
        "## Copying tensor"
      ],
      "metadata": {
        "id": "t1N3ri2neHWI"
      }
    },
    {
      "cell_type": "code",
      "source": [
        "a = torch.rand(2,3)\n",
        "print(a)\n",
        "\n",
        "b = a\n",
        "print(a)\n",
        "print(b)"
      ],
      "metadata": {
        "colab": {
          "base_uri": "https://localhost:8080/"
        },
        "id": "BQ7CT_RdZwIq",
        "outputId": "7ab8e952-a993-4ce6-ea4f-6b194e041f5d"
      },
      "execution_count": null,
      "outputs": [
        {
          "output_type": "stream",
          "name": "stdout",
          "text": [
            "tensor([[0.6947, 0.0897, 0.8712],\n",
            "        [0.1330, 0.4137, 0.6044]])\n",
            "tensor([[0.6947, 0.0897, 0.8712],\n",
            "        [0.1330, 0.4137, 0.6044]])\n",
            "tensor([[0.6947, 0.0897, 0.8712],\n",
            "        [0.1330, 0.4137, 0.6044]])\n"
          ]
        }
      ]
    },
    {
      "cell_type": "markdown",
      "source": [
        "## Tensor Operations on GPU"
      ],
      "metadata": {
        "id": "uxlf4czYfHHw"
      }
    },
    {
      "cell_type": "code",
      "source": [
        "torch.cuda.is_available()"
      ],
      "metadata": {
        "colab": {
          "base_uri": "https://localhost:8080/"
        },
        "id": "RRm5aynWeRS5",
        "outputId": "65872bdf-b64d-478f-90d4-6bd50f8893de"
      },
      "execution_count": null,
      "outputs": [
        {
          "output_type": "execute_result",
          "data": {
            "text/plain": [
              "True"
            ]
          },
          "metadata": {},
          "execution_count": 47
        }
      ]
    },
    {
      "cell_type": "code",
      "source": [
        "device = torch.device('cuda')"
      ],
      "metadata": {
        "id": "_nEtOgt_hUy1"
      },
      "execution_count": null,
      "outputs": []
    },
    {
      "cell_type": "code",
      "source": [
        "# Creating a new tensor on GPU\n",
        "torch.rand((2,3), device=device)"
      ],
      "metadata": {
        "colab": {
          "base_uri": "https://localhost:8080/"
        },
        "id": "wlFkADZRhauo",
        "outputId": "401cb043-8807-4241-e6ea-5df362dda0b4"
      },
      "execution_count": null,
      "outputs": [
        {
          "output_type": "execute_result",
          "data": {
            "text/plain": [
              "tensor([[0.6130, 0.0101, 0.3984],\n",
              "        [0.0403, 0.1563, 0.4825]], device='cuda:0')"
            ]
          },
          "metadata": {},
          "execution_count": 49
        }
      ]
    },
    {
      "cell_type": "code",
      "source": [
        "# Moving an existing tensor to GPU\n",
        "a = torch.rand(2,3)"
      ],
      "metadata": {
        "id": "MBYyvgToh2MI"
      },
      "execution_count": null,
      "outputs": []
    },
    {
      "cell_type": "code",
      "source": [
        "a"
      ],
      "metadata": {
        "colab": {
          "base_uri": "https://localhost:8080/"
        },
        "id": "XIKVx6wDiC3z",
        "outputId": "6bb0b343-a289-4650-eb32-2fd5b3097617"
      },
      "execution_count": null,
      "outputs": [
        {
          "output_type": "execute_result",
          "data": {
            "text/plain": [
              "tensor([[0.7581, 0.9037, 0.9555],\n",
              "        [0.1035, 0.6258, 0.2849]])"
            ]
          },
          "metadata": {},
          "execution_count": 51
        }
      ]
    },
    {
      "cell_type": "markdown",
      "source": [
        "This tensor a is created on CPU"
      ],
      "metadata": {
        "id": "6E3_-p4ZiE0T"
      }
    },
    {
      "cell_type": "code",
      "source": [
        "a.to(device)"
      ],
      "metadata": {
        "colab": {
          "base_uri": "https://localhost:8080/"
        },
        "id": "GgoUuYNxiDjH",
        "outputId": "0ada11ec-ebcc-46a8-cf47-462f7945411c"
      },
      "execution_count": null,
      "outputs": [
        {
          "output_type": "execute_result",
          "data": {
            "text/plain": [
              "tensor([[0.7581, 0.9037, 0.9555],\n",
              "        [0.1035, 0.6258, 0.2849]], device='cuda:0')"
            ]
          },
          "metadata": {},
          "execution_count": 52
        }
      ]
    },
    {
      "cell_type": "markdown",
      "source": [
        "Now, this a is transferred to and stored in GPU"
      ],
      "metadata": {
        "id": "hf1qwK_SirTQ"
      }
    },
    {
      "cell_type": "code",
      "source": [],
      "metadata": {
        "id": "wO2hOqxxipWq"
      },
      "execution_count": null,
      "outputs": []
    }
  ]
}