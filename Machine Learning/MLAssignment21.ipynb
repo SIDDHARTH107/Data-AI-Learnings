{
  "nbformat": 4,
  "nbformat_minor": 0,
  "metadata": {
    "colab": {
      "provenance": []
    },
    "kernelspec": {
      "name": "python3",
      "display_name": "Python 3"
    },
    "language_info": {
      "name": "python"
    }
  },
  "cells": [
    {
      "cell_type": "markdown",
      "source": [
        "Q2. You have built an SVM regression model and are trying to decide between using MSE or R-squared as\n",
        "your evaluation metric. Which metric would be more appropriate if your goal is to predict the actual price\n",
        "of a house as accurately as possible?\n",
        "\n",
        "If your goal is to predict the actual price of a house as accurately as possible, then the MSE metric would be more appropriate than the R-squared metric. This is because the MSE metric measures the average squared error between the predicted values and the actual values, while the R-squared metric measures the proportion of the variance in the target variable that is explained by the model. In other words, the MSE metric is more sensitive to outliers than the R-squared metric.\n",
        "\n",
        "Q3. You have a dataset with a significant number of outliers and are trying to select an appropriate\n",
        "regression metric to use with your SVM model. Which metric would be the most appropriate in this\n",
        "scenario?\n",
        "\n",
        "If you have a dataset with a significant number of outliers, then the MAE metric would be the most appropriate regression metric to use with your SVM model. This is because the MAE metric is less sensitive to outliers than the MSE metric. The MAE metric measures the average absolute error between the predicted values and the actual values.\n",
        "\n",
        "Q4. You have built an SVM regression model using a polynomial kernel and are trying to select the best\n",
        "metric to evaluate its performance. You have calculated both MSE and RMSE and found that both values\n",
        "are very close. Which metric should you choose to use in this case?\n",
        "\n",
        "In this case, you can use either the MSE or the RMSE metric. Both metrics are equally appropriate for evaluating the performance of an SVM regression model that uses a polynomial kernel. The MSE metric is more sensitive to outliers than the RMSE metric, but the RMSE metric is easier to interpret.\n",
        "\n",
        "Q5. You are comparing the performance of different SVM regression models using different kernels (linear,\n",
        "polynomial, and RBF) and are trying to select the best evaluation metric. Which metric would be most\n",
        "appropriate if your goal is to measure how well the model explains the variance in the target variable?\n",
        "\n",
        "If your goal is to measure how well the model explains the variance in the target variable, then the R-squared metric would be the most appropriate evaluation metric. This is because the R-squared metric measures the proportion of the variance in the target variable that is explained by the model. The higher the R-squared value, the better the model explains the variance in the target variable."
      ],
      "metadata": {
        "id": "NcyTyoK-zUpC"
      }
    },
    {
      "cell_type": "code",
      "source": [],
      "metadata": {
        "id": "po_mDPhfzxIf"
      },
      "execution_count": null,
      "outputs": []
    }
  ]
}