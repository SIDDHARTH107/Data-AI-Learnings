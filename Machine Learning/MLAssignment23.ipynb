{
  "nbformat": 4,
  "nbformat_minor": 0,
  "metadata": {
    "colab": {
      "provenance": []
    },
    "kernelspec": {
      "name": "python3",
      "display_name": "Python 3"
    },
    "language_info": {
      "name": "python"
    }
  },
  "cells": [
    {
      "cell_type": "markdown",
      "source": [
        "Q1. A company conducted a survey of its employees and found that 70% of the employees use the\n",
        "company's health insurance plan, while 40% of the employees who use the plan are smokers. What is the\n",
        "probability that an employee is a smoker given that he/she uses the health insurance plan?\n",
        "\n",
        "The probability that an employee is a smoker given that he/she uses the health insurance plan can be calculated using Bayes' theorem. The formula for Bayes' theorem is as follows:\n",
        "\n",
        "P(A|B) = P(B|A) * P(A) / P(B)\n",
        "where:\n",
        "\n",
        "P(A|B) is the probability of event A occurring given that event B has already occurred\n",
        "P(B|A) is the probability of event B occurring given that event A has already occurred\n",
        "P(A) is the prior probability of event A occurring\n",
        "P(B) is the prior probability of event B occurring\n",
        "In this case, event A is \"employee is a smoker\" and event B is \"employee uses the health insurance plan\". The prior probabilities are as follows:\n",
        "\n",
        "P(A) = 40%\n",
        "P(B) = 70%\n",
        "The conditional probability P(B|A) can be calculated from the survey data. It is the probability that an employee uses the health insurance plan given that he/she is a smoker. In this case, P(B|A) = 40%.\n",
        "\n",
        "We can now plug these values into the Bayes' theorem formula to get the probability that an employee is a smoker given that he/she uses the health insurance plan:\n",
        "\n",
        "P(A|B) = (40%) * (40%) / (70%) = 28.6%\n",
        "Therefore, the probability that an employee is a smoker given that he/she uses the health insurance plan is 28.6%.\n",
        "\n",
        "Q2. What is the difference between Bernoulli Naive Bayes and Multinomial Naive Bayes?\n",
        "\n",
        "Bernoulli Naive Bayes and Multinomial Naive Bayes are both types of Naive Bayes classifiers. However, they differ in the way that they handle the features.\n",
        "\n",
        "Bernoulli Naive Bayes is used for classification problems where the features are binary. This means that each feature can only take on two values, such as \"true\" or \"false\". For example, a Bernoulli Naive Bayes classifier could be used to classify whether or not an email is spam, where the features are the presence or absence of certain keywords in the email.\n",
        "\n",
        "Multinomial Naive Bayes is used for classification problems where the features are categorical. This means that each feature can take on multiple values, such as the genre of a movie. For example, a Multinomial Naive Bayes classifier could be used to classify movies into different genres, where the features are the words that appear in the movie's title.\n",
        "\n",
        "Q3. How does Bernoulli Naive Bayes handle missing values?\n",
        "\n",
        "Bernoulli Naive Bayes handles missing values by assuming that the missing value is equal to the prior probability of the feature. For example, if the prior probability of a feature being \"true\" is 50%, then a missing value for that feature will be treated as if it were \"true\" with probability 50% and \"false\" with probability 50%.\n",
        "\n",
        "Q4. Can Gaussian Naive Bayes be used for multi-class classification?\n",
        "\n",
        "Yes, Gaussian Naive Bayes can be used for multi-class classification. However, it is not as efficient as other methods for multi-class classification, such as support vector machines or decision trees.\n",
        "\n",
        "Gaussian Naive Bayes assumes that the features are normally distributed. This means that the features are distributed in a bell-shaped curve. If the features are not normally distributed, then Gaussian Naive Bayes may not be accurate.\n",
        "\n",
        "In addition, Gaussian Naive Bayes requires that the features be independent. This means that the features cannot affect each other. If the features are not independent, then Gaussian Naive Bayes may not be accurate.\n",
        "\n",
        "Despite these limitations, Gaussian Naive Bayes can be a useful tool for multi-class classification. It is relatively simple to implement and it can be efficient for small datasets."
      ],
      "metadata": {
        "id": "NcyTyoK-zUpC"
      }
    },
    {
      "cell_type": "code",
      "source": [],
      "metadata": {
        "id": "po_mDPhfzxIf"
      },
      "execution_count": null,
      "outputs": []
    }
  ]
}