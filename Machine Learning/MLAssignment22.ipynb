{
  "nbformat": 4,
  "nbformat_minor": 0,
  "metadata": {
    "colab": {
      "provenance": []
    },
    "kernelspec": {
      "name": "python3",
      "display_name": "Python 3"
    },
    "language_info": {
      "name": "python"
    }
  },
  "cells": [
    {
      "cell_type": "markdown",
      "source": [
        "Q1. What is Bayes' theorem?\n",
        "\n",
        "Bayes' theorem is a mathematical formula that describes the relationship between the probability of an event occurring and the probability of that event being caused by a particular hypothesis. It is often used in statistics and machine learning to make predictions about the probability of an event occurring.\n",
        "\n",
        "Q2. What is the formula for Bayes' theorem?\n",
        "\n",
        "The formula for Bayes' theorem is as follows:\n",
        "\n",
        "P(A|B) = P(B|A) * P(A) / P(B)\n",
        "where:\n",
        "\n",
        "P(A|B) is the probability of event A occurring given that event B has already occurred\n",
        "P(B|A) is the probability of event B occurring given that event A has already occurred\n",
        "P(A) is the prior probability of event A occurring\n",
        "P(B) is the prior probability of event B occurring\n",
        "Q3. How is Bayes' theorem used in practice?\n",
        "\n",
        "Bayes' theorem can be used in a variety of ways in practice. For example, it can be used to:\n",
        "\n",
        "Make predictions about the probability of an event occurring, given some prior knowledge\n",
        "Identify the most likely cause of an event\n",
        "Weight the evidence in favor of or against a particular hypothesis\n",
        "Q4. What is the relationship between Bayes' theorem and conditional probability?\n",
        "\n",
        "Conditional probability is the probability of an event occurring given that another event has already occurred. Bayes' theorem can be used to calculate conditional probability, and vice versa.\n",
        "\n",
        "Q5. How do you choose which type of Naive Bayes classifier to use for any given problem?\n",
        "\n",
        "There are two main types of Naive Bayes classifiers:\n",
        "\n",
        "Multinomial Naive Bayes: This type of classifier is used for classification problems where the features are discrete.\n",
        "Gaussian Naive Bayes: This type of classifier is used for classification problems where the features are continuous.\n",
        "The type of Naive Bayes classifier that you choose for a given problem will depend on the type of features that you have. If your features are discrete, then you should use Multinomial Naive Bayes. If your features are continuous, then you should use Gaussian Naive Bayes.\n",
        "\n",
        "Q6. Assignment:\n",
        "\n",
        "To solve this assignment, we can use the following steps:\n",
        "\n",
        "Calculate the prior probabilities of each class.\n",
        "Calculate the conditional probabilities of each feature value for each class.\n",
        "Multiply the prior probabilities by the conditional probabilities to get the posterior probabilities of each class.\n",
        "Choose the class with the highest posterior probability.\n",
        "In this case, the prior probabilities of each class are equal, since we are assuming equal prior probabilities. The conditional probabilities of each feature value for each class can be calculated from the table that you provided.\n",
        "\n",
        "Once we have calculated the posterior probabilities of each class, we can see that the class with the highest posterior probability is A. Therefore, Naive Bayes would predict that the new instance belongs to class A.\n",
        "\n",
        "Here are the steps in more detail:\n",
        "\n",
        "Calculating the prior probabilities of each class:\n",
        "P(A) = 1 / 2\n",
        "P(B) = 1 / 2\n",
        "Calculating the conditional probabilities of each feature value for each class:\n",
        "P(X1 = 3 | A) = 4 / 14\n",
        "P(X1 = 3 | B) = 1 / 7\n",
        "P(X2 = 4 | A) = 4 / 14\n",
        "P(X2 = 4 | B) = 3 / 7\n",
        "Multiplying the prior probabilities by the conditional probabilities to get the posterior probabilities of each class:\n",
        "P(A | X1 = 3, X2 = 4) = (1 / 2) * (4 / 14) * (4 / 14) = 16 / 196\n",
        "P(B | X1 = 3, X2 = 4) = (1 / 2) * (1 / 7) * (3 / 7) = 3 / 98\n",
        "Choosing the class with the highest posterior probability:\n",
        "P(A | X1 = 3, X2 = 4) > P(B | X1 = 3, X2 = 4)\n",
        "Therefore, Naive Bayes would predict that the new instance belongs to class A."
      ],
      "metadata": {
        "id": "NcyTyoK-zUpC"
      }
    },
    {
      "cell_type": "code",
      "source": [],
      "metadata": {
        "id": "po_mDPhfzxIf"
      },
      "execution_count": null,
      "outputs": []
    }
  ]
}