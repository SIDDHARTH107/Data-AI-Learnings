{
  "nbformat": 4,
  "nbformat_minor": 0,
  "metadata": {
    "colab": {
      "provenance": []
    },
    "kernelspec": {
      "name": "python3",
      "display_name": "Python 3"
    },
    "language_info": {
      "name": "python"
    }
  },
  "cells": [
    {
      "cell_type": "markdown",
      "source": [
        "Q1. What is an ensemble technique in machine learning?\n",
        "\n",
        "An ensemble technique is a machine learning method that combines multiple models to create a more accurate or robust model. Ensemble techniques are often used to improve the performance of machine learning models when the individual models are not very accurate.\n",
        "\n",
        "Q2. Why are ensemble techniques used in machine learning?\n",
        "\n",
        "Ensemble techniques are used in machine learning for a variety of reasons, including:\n",
        "\n",
        "To improve the accuracy of machine learning models.\n",
        "To make machine learning models more robust to noise and outliers.\n",
        "To reduce the variance of machine learning models.\n",
        "To create more interpretable machine learning models.\n",
        "Q3. What is bagging?\n",
        "\n",
        "Bagging is an ensemble technique that creates multiple models by bootstrap aggregating the original data. Bootstrap aggregating is a resampling technique that randomly samples the original data with replacement. This means that some data points may be included in multiple models, while other data points may not be included in any models.\n",
        "\n",
        "Q4. What is boosting?\n",
        "\n",
        "Boosting is an ensemble technique that creates multiple models by sequentially adding models to the ensemble. Each model in the ensemble is trained to correct the errors of the previous models. This process of sequential learning helps to improve the accuracy of the ensemble.\n",
        "\n",
        "Q5. What are the benefits of using ensemble techniques?\n",
        "\n",
        "The benefits of using ensemble techniques include:\n",
        "\n",
        "Improved accuracy. Ensemble techniques can often improve the accuracy of machine learning models.\n",
        "Increased robustness. Ensemble techniques can make machine learning models more robust to noise and outliers.\n",
        "Reduced variance. Ensemble techniques can reduce the variance of machine learning models, which can help to improve the stability of the models.\n",
        "Increased interpretability. Ensemble techniques can sometimes make machine learning models more interpretable.\n",
        "Q6. Are ensemble techniques always better than individual models?\n",
        "\n",
        "Ensemble techniques are not always better than individual models. In some cases, individual models may be more accurate than ensemble techniques. However, ensemble techniques are often a good choice when the individual models are not very accurate.\n",
        "\n",
        "Q7. How is the confidence interval calculated using bootstrap?\n",
        "\n",
        "The confidence interval can be calculated using bootstrap by repeatedly resampling the original data with replacement and calculating the statistic of interest for each resample. The confidence interval is then estimated by finding the 2.5th and 97.5th percentiles of the distribution of the statistic of interest.\n",
        "\n",
        "Q8. How does bootstrap work and What are the steps involved in bootstrap?\n",
        "\n",
        "Bootstrap is a statistical technique that can be used to estimate the sampling distribution of a statistic. The steps involved in bootstrap are:\n",
        "\n",
        "Calculate the statistic of interest on the original data.\n",
        "Resample the original data with replacement.\n",
        "Calculate the statistic of interest on the resample.\n",
        "Repeat steps 2 and 3 a large number of times.\n",
        "Estimate the confidence interval by finding the 2.5th and 97.5th percentiles of the distribution of the statistic of interest.\n",
        "\n",
        "Q9. A researcher wants to estimate the mean height of a population of trees. They measure the height of a\n",
        "sample of 50 trees and obtain a mean height of 15 meters and a standard deviation of 2 meters. Use\n",
        "bootstrap to estimate the 95% confidence interval for the population mean height.\n",
        "\n",
        "To estimate the 95% confidence interval for the population mean height using bootstrap, we would:\n",
        "\n",
        "Calculate the mean height of the sample, which is 15 meters.\n",
        "Resample the sample with replacement 1000 times.\n",
        "Calculate the mean height of each resample.\n",
        "Sort the mean heights from smallest to largest.\n",
        "Find the 25th and 975th mean heights in the sorted list.\n",
        "The 95% confidence interval is the range between the 25th and 975th mean heights, which is (13.8, 16.2) meters."
      ],
      "metadata": {
        "id": "NcyTyoK-zUpC"
      }
    },
    {
      "cell_type": "code",
      "source": [],
      "metadata": {
        "id": "po_mDPhfzxIf"
      },
      "execution_count": null,
      "outputs": []
    }
  ]
}