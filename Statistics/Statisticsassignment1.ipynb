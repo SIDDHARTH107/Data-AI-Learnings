{
  "nbformat": 4,
  "nbformat_minor": 0,
  "metadata": {
    "colab": {
      "provenance": []
    },
    "kernelspec": {
      "name": "python3",
      "display_name": "Python 3"
    },
    "language_info": {
      "name": "python"
    }
  },
  "cells": [
    {
      "cell_type": "markdown",
      "source": [
        "# Statistics is the science of collecting, organizing and analyzing data"
      ],
      "metadata": {
        "id": "YjW9v8XYFFSs"
      }
    },
    {
      "cell_type": "markdown",
      "source": [
        "# There are two main types of statistics: descriptive statistics and inferential statistics.\n",
        "\n",
        "# Descriptive Statistics: Descriptive statistics involves the methods of organizing, summarizing, and presenting data in a meaningful way. It provides a summary of the data that is being studied, but does not draw any conclusions beyond what is presented in the data. Examples of descriptive statistics include measures of central tendency (e.g. mean, median, mode) and measures of variability (e.g. range, standard deviation).\n",
        "# Example: A market researcher might use descriptive statistics to summarize the average income, age, and spending habits of a group of consumers to gain a better understanding of their target market.\n",
        "\n",
        "# Inferential Statistics: Inferential statistics involves using data from a sample to make inferences about a larger population. This type of statistics is used to test hypotheses, draw conclusions, and make predictions based on the data that is being studied. Examples of inferential statistics include hypothesis testing and regression analysis.\n",
        "# Example: A medical researcher might use inferential statistics to test whether a new drug is more effective than an existing drug in treating a particular condition. They might use a sample of patients to draw conclusions about the effectiveness of the drug for the larger population of patients with the same condition."
      ],
      "metadata": {
        "id": "KKGUzFqMFeCL"
      }
    },
    {
      "cell_type": "markdown",
      "source": [
        "# There are four main types of data: nominal, ordinal, interval, and ratio.\n",
        "\n",
        "# Nominal Data: Nominal data is categorical data where the values are names or labels that cannot be quantified. Nominal data cannot be put in any order and there is no inherent numerical value to the categories.\n",
        "# Example: Eye color, gender, or political affiliation.\n",
        "\n",
        "# Ordinal Data: Ordinal data is categorical data that can be ordered or ranked according to some criteria or scale, but there is no fixed unit of measurement.\n",
        "# Example: The rankings in a competition or customer satisfaction survey rated as “very satisfied,” “satisfied,” “neutral,” “dissatisfied,” or “very dissatisfied.”\n",
        "\n",
        "# Interval Data: Interval data is numeric data where the difference between two values is meaningful and can be measured, but there is no true zero point.\n",
        "# Example: Temperature measured in Celsius or Fahrenheit, where 0 degrees does not indicate the absence of temperature.\n",
        "\n",
        "# Ratio Data: Ratio data is numeric data that has a true zero point and can be expressed in ratios.\n",
        "# Example: Height, weight, age, or income where zero indicates a complete absence of the attribute.\n",
        "\n",
        "# The main difference between these types of data is the level of measurement and the nature of the values. Nominal and ordinal data are considered categorical data, while interval and ratio data are considered numerical data. Interval and ratio data have a fixed numerical scale, but ratio data has a true zero point, meaning that ratios can be calculated, while this is not possible for interval data."
      ],
      "metadata": {
        "id": "B3GxCGbMF29O"
      }
    },
    {
      "cell_type": "markdown",
      "source": [
        "# Qualitative (Ordinal)\n",
        "# Qualitative (Nominal)\n",
        "# Quantitative (Continuous, Ratio)\n",
        "# Quantitative (Discrete, Ratio)"
      ],
      "metadata": {
        "id": "qGEHRcsSGKWa"
      }
    },
    {
      "cell_type": "markdown",
      "source": [
        "# Levels of measurement, also known as scales of measurement, refer to the different ways in which data can be measured or classified. There are four main levels of measurement: nominal, ordinal, interval, and ratio.\n",
        "\n",
        "# Nominal: Nominal data is the lowest level of measurement and involves data that can be categorized but not quantified. Data at this level are described by labels or names and cannot be ordered. Examples include gender, race, and religion.\n",
        "\n",
        "# Ordinal: Ordinal data involves data that can be ordered or ranked but not measured in terms of differences between the values. Examples of ordinal data include rankings of preference, letter grades, and levels of satisfaction.\n",
        "\n",
        "# Interval: Interval data involves data that can be ordered and has meaningful differences between values but does not have a true zero point. Examples of interval data include temperature measured in degrees Celsius or Fahrenheit.\n",
        "\n",
        "# Ratio: Ratio data involves data that can be ordered, has meaningful differences between values, and has a true zero point. Examples of ratio data include weight, height, and income.\n",
        "\n",
        "# Examples of variables for each level of measurement:\n",
        "\n",
        "Nominal:\n",
        "Marital status (e.g., single, married, divorced)\n",
        "Type of pet (e.g., dog, cat, fish)\n",
        "Ordinal:\n",
        "Ranking of sports teams in a league\n",
        "Grades on a test (A, B, C, D, F)\n",
        "Interval:\n",
        "Temperature measured in Celsius or Fahrenheit\n",
        "Year (there is no \"zero\" year)\n",
        "Ratio:\n",
        "Age\n",
        "Income\n",
        "Height"
      ],
      "metadata": {
        "id": "Y-xN1GIvGsXA"
      }
    },
    {
      "cell_type": "markdown",
      "source": [
        "# It is important to understand the level of measurement when analyzing data because it helps determine which statistical analysis can be applied to the data. Different statistical tests are appropriate for different levels of measurement. Using an inappropriate statistical test can result in invalid or misleading results.\n",
        "\n",
        "# For example, if we have data on the colors of cars and want to know which color is the most popular, we would use the mode as a measure of central tendency. However, if we have data on the weights of cars and want to compare the mean weight of two different car models, we would need to use a test appropriate for continuous data, such as a t-test or ANOVA. If we use the mode to compare the weights of two car models, we would be using an inappropriate statistical test, which would lead to incorrect conclusions.\n",
        "\n",
        "# Therefore, understanding the level of measurement is crucial to determine which statistical methods and tests are appropriate to use, and to ensure that the results obtained from the analysis are reliable and valid."
      ],
      "metadata": {
        "id": "cixtVYHqG-5o"
      }
    },
    {
      "cell_type": "markdown",
      "source": [
        "# Nominal data and ordinal data are two types of categorical data, but they differ in terms of the level of measurement.\n",
        "\n",
        "# Nominal data involve data that can be categorized but not quantified. The data at this level are described by labels or names and cannot be ordered. Examples of nominal data include gender, race, and religion.\n",
        "\n",
        "# Ordinal data, on the other hand, involve data that can be ordered or ranked but not measured in terms of differences between the values. Examples of ordinal data include rankings of preference, letter grades, and levels of satisfaction.\n",
        "\n",
        "# The key difference between nominal and ordinal data is that nominal data can only be categorized, while ordinal data can be ranked or ordered. Nominal data are often used to identify and classify variables, while ordinal data are used to describe the relative position of variables in relation to one another."
      ],
      "metadata": {
        "id": "dv_6iPyOHNCD"
      }
    },
    {
      "cell_type": "markdown",
      "source": [
        "# A box plot, also known as a box-and-whisker plot, is a type of plot that can be used to display data in terms of range. "
      ],
      "metadata": {
        "id": "pBBAsYFMHfAA"
      }
    },
    {
      "cell_type": "markdown",
      "source": [
        "# Descriptive statistics and inferential statistics are two branches of statistics that serve different purposes.\n",
        "\n",
        "# Descriptive statistics involves methods for organizing, summarizing, and presenting data in a way that can be easily understood. This type of statistics is used to describe and summarize the features of a data set, such as its central tendency, variability, and distribution. Some common descriptive statistics include measures of central tendency (mean, median, mode), measures of variability (range, standard deviation), and graphical displays (histograms, box plots, scatter plots).\n",
        "\n",
        "# An example of descriptive statistics is calculating the mean and standard deviation of a set of exam scores to describe the performance of a group of students. This type of analysis helps to understand the average score of the group, as well as the degree of variability in the scores.\n",
        "\n",
        "# In contrast, inferential statistics involves methods for making inferences or generalizations about a population based on a sample of data. This type of statistics is used to draw conclusions or make predictions about a larger group, based on a smaller subset of the group. Some common inferential statistics include hypothesis testing, confidence intervals, and regression analysis.\n",
        "\n",
        "# An example of inferential statistics is testing whether a new medication is effective in treating a disease by comparing the outcomes of a group of patients who received the medication to a group of patients who received a placebo. This type of analysis allows us to make conclusions about the effectiveness of the medication for the larger population of patients with the disease.\n",
        "\n",
        "# Overall, descriptive statistics helps to summarize and describe data, while inferential statistics helps to make inferences and draw conclusions about a larger population based on a smaller sample of data."
      ],
      "metadata": {
        "id": "TOaDzQMsH9ok"
      }
    },
    {
      "cell_type": "markdown",
      "source": [
        "# Measures of central tendency and variability are used to describe the distribution of a dataset. Some common measures of central tendency include mean, median, and mode, while some common measures of variability include range, variance, and standard deviation.\n",
        "\n",
        "# The mean, denoted by µ (mu), is the sum of all the values in a dataset divided by the number of values. The mean is used to describe the typical value in a dataset and is sensitive to outliers.\n",
        "\n",
        "# The median is the middle value in a dataset when the values are arranged in order. If the dataset contains an even number of values, the median is the average of the two middle values. The median is used to describe the central value in a dataset and is less sensitive to outliers than the mean.\n",
        "\n",
        "# The mode is the value that occurs most frequently in a dataset. The mode is used to describe the most common value in a dataset.\n",
        "\n",
        "# The range is the difference between the maximum and minimum values in a dataset. The range is used to describe the spread of values in a dataset.\n",
        "\n",
        "# The variance is the average of the squared deviations from the mean. The variance is used to describe how much the values in a dataset deviate from the mean and is often used to calculate other statistics, such as the standard deviation.\n",
        "\n",
        "# The standard deviation is the square root of the variance. The standard deviation is used to describe the spread of values in a dataset and is often used to determine how much the values deviate from the mean.\n",
        "\n",
        "# For example, suppose we have a dataset of exam scores for a group of students: [70, 75, 80, 85, 90]. The mean of the dataset is (70+75+80+85+90)/5 = 80, the median is 80, and there is no mode. The range is 20, the variance is 50, and the standard deviation is the square root of 50, which is approximately 7.07. These measures can be used to describe the typical exam score for the group of students (80), as well as the spread of scores (range, variance, standard deviation)."
      ],
      "metadata": {
        "id": "bgnHNj8UIYKp"
      }
    },
    {
      "cell_type": "code",
      "source": [],
      "metadata": {
        "id": "KRqshV2WFQSk"
      },
      "execution_count": null,
      "outputs": []
    }
  ]
}