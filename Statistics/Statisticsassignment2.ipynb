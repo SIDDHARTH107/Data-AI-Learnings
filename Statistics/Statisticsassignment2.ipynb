{
  "nbformat": 4,
  "nbformat_minor": 0,
  "metadata": {
    "colab": {
      "provenance": []
    },
    "kernelspec": {
      "name": "python3",
      "display_name": "Python 3"
    },
    "language_info": {
      "name": "python"
    }
  },
  "cells": [
    {
      "cell_type": "markdown",
      "source": [
        "# Mean Median Mode"
      ],
      "metadata": {
        "id": "SJpRhGRuFaVq"
      }
    },
    {
      "cell_type": "markdown",
      "source": [
        "# The mean, median, and mode are all measures of central tendency used to describe the typical value in a dataset. However, they are calculated in different ways and provide different types of information about the data.\n",
        "\n",
        "# The mean is the arithmetic average of all the values in a dataset. To calculate the mean, you add up all the values and divide by the number of values. The mean is sensitive to extreme values, which means that if there are outliers in the data, the mean can be pulled towards them.\n",
        "\n",
        "# The median is the middle value in a dataset when the values are arranged in order. To calculate the median, you first arrange the data in order from smallest to largest. If there are an odd number of values, the median is the middle value. If there are an even number of values, the median is the average of the two middle values. The median is not affected by extreme values, making it a more robust measure of central tendency than the mean.\n",
        "\n",
        "# The mode is the value that appears most frequently in a dataset. If no value appears more than once, then there is no mode. The mode can be used to identify the most common value in a dataset."
      ],
      "metadata": {
        "id": "BeyDS0uQFciL"
      }
    },
    {
      "cell_type": "markdown",
      "source": [
        "# Mean = 176.94 cm\n",
        "# Median = 176.1 cm\n",
        "# Mode = 178 cm"
      ],
      "metadata": {
        "id": "4W9gLszAF5Ii"
      }
    },
    {
      "cell_type": "markdown",
      "source": [
        "# Mean = 176.94 cm\n",
        "# Standard Deviation = sqrt(47.296/16) = 1.687 "
      ],
      "metadata": {
        "id": "Im9V900GGJtx"
      }
    },
    {
      "cell_type": "markdown",
      "source": [
        "# Measures of dispersion such as range, variance, and standard deviation are used to describe the spread or variability of a dataset. They provide information about how much the individual data points in a dataset vary from each other and from the central tendency of the dataset.\n",
        "\n",
        "# The range is the simplest measure of dispersion, and it is simply the difference between the maximum and minimum values in a dataset. For example, if a dataset consists of the ages of 10 people and the range is 20 years, it means that the oldest person in the group is 20 years older than the youngest person.\n",
        " \n",
        "# The variance and standard deviation are more sophisticated measures of dispersion, and they take into account the distance of each data point from the mean of the dataset. The variance is the average of the squared differences between each data point and the mean of the dataset. The standard deviation is the square root of the variance, and it is measured in the same units as the original data. For example, if a dataset consists of the test scores of 100 students and the standard deviation is 10 points, it means that the average distance of each student's score from the mean score is 10 points.\n",
        "\n",
        "# In general, a larger range, variance, or standard deviation indicates a greater degree of variability in the dataset. For example, if two datasets have the same mean but different ranges or standard deviations, the dataset with the larger range or standard deviation will have more variability or spread.\n",
        "\n",
        "# For example, let's consider two datasets of the weights of two different groups of people:\n",
        "\n",
        "# Dataset 1: 130, 140, 150, 160, 170\n",
        "# Dataset 2: 140, 140, 140, 160, 160\n",
        "\n",
        "# Both datasets have the same mean weight of 150 pounds. However, Dataset 1 has a larger range and standard deviation than Dataset 2, indicating that there is more variability or spread in the weights of the people in Dataset 1. Specifically, the range of Dataset 1 is 40 pounds, while the range of Dataset 2 is only 20 pounds. The variance of Dataset 1 is 250, while the variance of Dataset 2 is only 80. Therefore, measures of dispersion can help us compare the variability of different datasets and provide valuable insights about the data."
      ],
      "metadata": {
        "id": "NQVXQyr0Gz4p"
      }
    },
    {
      "cell_type": "markdown",
      "source": [
        "# A Venn diagram is a graphical representation used to visually illustrate the relationships between different sets of objects or data. It consists of one or more overlapping circles or shapes, where each circle or shape represents a set or category, and the overlapping regions represent the elements or data that are common to two or more sets."
      ],
      "metadata": {
        "id": "uq-8RVtyHB9J"
      }
    },
    {
      "cell_type": "markdown",
      "source": [
        "# A intersection B = {2,6}\n",
        "# A union B = {0,2,3,4,5,6,7,8,10}"
      ],
      "metadata": {
        "id": "J1CP11p_HI90"
      }
    },
    {
      "cell_type": "markdown",
      "source": [
        "# Skewness in data is a measure of the degree of asymmetry of a probability distribution. In a symmetric distribution, the mean, median, and mode are all equal. However, when a distribution is skewed, these measures of central tendency can differ.\n",
        "\n",
        "# Positive skewness occurs when the tail of the distribution is longer on the positive side, meaning that there are more extreme values on the right side of the distribution. In this case, the mean is typically higher than the median and mode.\n",
        "\n",
        "# Negative skewness occurs when the tail of the distribution is longer on the negative side, meaning that there are more extreme values on the left side of the distribution. In this case, the mean is typically lower than the median and mode.\n",
        "\n",
        "# Skewness can affect data analysis and interpretation, as it can impact the accuracy of measures of central tendency and the validity of statistical tests that assume normality. Therefore, it is important to assess the skewness of a dataset before performing any statistical analyses. Skewness can be measured using statistical methods such as the skewness coefficient or graphical methods such as histogram and box plots."
      ],
      "metadata": {
        "id": "YNjFWuvYHfgU"
      }
    },
    {
      "cell_type": "markdown",
      "source": [
        "# If a data is right-skewed, meaning that it has a long tail to the right side, then the position of the median will typically be less than the mean. This is because the mean is influenced by the extreme values on the right side of the distribution, which pull it towards the higher end of the data. On the other hand, the median is less affected by extreme values and represents the midpoint of the data, which is often closer to the lower end of the data in a right-skewed distribution. In general, in a right-skewed distribution, the median will be closer to the first quartile than to the third quartile, while the mean will be closer to the third quartile than to the first quartile."
      ],
      "metadata": {
        "id": "Ve1lzkHwHpzx"
      }
    },
    {
      "cell_type": "markdown",
      "source": [
        "# Covariance and correlation are both measures used in statistical analysis to assess the relationship between two variables, but they have some important differences.\n",
        "\n",
        "# Covariance measures the strength and direction of the linear relationship between two variables. It is calculated as the average of the products of the deviations of each variable from their respective means. Covariance can take on any value, with positive values indicating a positive relationship, negative values indicating a negative relationship, and values close to zero indicating little or no relationship.\n",
        "\n",
        "# Correlation, on the other hand, is a standardized measure of the linear relationship between two variables. It ranges from -1 to +1, where -1 indicates a perfect negative correlation, +1 indicates a perfect positive correlation, and 0 indicates no correlation. Correlation is calculated by dividing the covariance of the two variables by the product of their standard deviations.\n",
        "\n",
        "# The key difference between covariance and correlation is that covariance is affected by the scale of the variables, while correlation is not. This means that covariance can be difficult to interpret when the units of the variables are different, while correlation can be used to compare the strength of the relationship between variables with different units.\n",
        "\n",
        "# Both covariance and correlation are used in statistical analysis to assess the relationship between variables and to identify patterns and trends in data. They are often used in regression analysis to model the relationship between a dependent variable and one or more independent variables. They are also used in exploratory data analysis to identify potential outliers or influential data points that may be affecting the relationship between variables. In general, correlation is a more widely used measure than covariance due to its standardized nature and ease of interpretation."
      ],
      "metadata": {
        "id": "UzO-N7REH3Fj"
      }
    },
    {
      "cell_type": "markdown",
      "source": [
        "# The formula for calculating the sample mean is:\n",
        "\n",
        "sample mean = (sum of all values in the sample) / (number of values in the sample)\n",
        "\n",
        "In other words, to find the sample mean, you need to add up all the values in the sample and then divide by the total number of values.\n",
        "\n",
        "Here's an example calculation for a dataset:\n",
        "\n",
        "Suppose we have the following dataset:\n",
        "\n",
        "5, 7, 3, 9, 6, 4, 8, 2\n",
        "\n",
        "To calculate the sample mean, we add up all the values and then divide by the total number of values:\n",
        "\n",
        "sample mean = (5 + 7 + 3 + 9 + 6 + 4 + 8 + 2) / 8\n",
        "sample mean = 44 / 8\n",
        "sample mean = 5.5\n",
        "\n",
        "Therefore, the sample mean for this dataset is 5.5."
      ],
      "metadata": {
        "id": "OvFCBQEcID_v"
      }
    },
    {
      "cell_type": "markdown",
      "source": [
        "# For a normal distribution, the three measures of central tendency (mean, median, and mode) are equal. This means that the data is symmetrically distributed around the central value, with an equal number of data points on either side. The mean, which is the arithmetic average of all the data points, is typically used as the main measure of central tendency for normally distributed data. The median and mode, which are both measures of the central value, are also equal to the mean in a normal distribution."
      ],
      "metadata": {
        "id": "wz-y-sASIPul"
      }
    },
    {
      "cell_type": "markdown",
      "source": [
        "# Covariance and correlation are both measures used to describe the relationship between two variables, but they are different in a few important ways.\n",
        "\n",
        "# Covariance is a measure of the direction and strength of the linear relationship between two variables. It measures how much two variables change together, and it can be positive, negative, or zero. A positive covariance indicates that the two variables tend to increase or decrease together, while a negative covariance indicates that they tend to move in opposite directions. However, covariance does not tell us the magnitude of the relationship, and it can be difficult to compare covariances between different datasets because they are affected by the scale of the variables.\n",
        "\n",
        "# Correlation, on the other hand, is a standardized measure of the linear relationship between two variables. It measures the strength and direction of the relationship, and it ranges from -1 to 1. A correlation of +1 indicates a perfect positive relationship, -1 indicates a perfect negative relationship, and 0 indicates no relationship. Correlation is calculated by dividing the covariance by the product of the standard deviations of the two variables, which makes it a standardized measure that is not affected by the scale of the variables.\n",
        "\n",
        "# In summary, covariance measures the direction and strength of the linear relationship between two variables, while correlation measures the strength and direction of the relationship in a standardized way. Correlation is a more commonly used measure in statistics because it is easier to interpret and compare between different datasets."
      ],
      "metadata": {
        "id": "KzvTEiLXIedh"
      }
    },
    {
      "cell_type": "markdown",
      "source": [
        "# Outliers are data points that are significantly different from the other values in a dataset. They can have a significant impact on measures of central tendency and dispersion.\n",
        "\n",
        "# Measures of central tendency, such as the mean and median, are particularly sensitive to outliers. If there is an outlier in a dataset, it can pull the mean in the direction of the outlier, making it a less representative measure of the \"typical\" value in the dataset. For example, consider the following dataset of exam scores:\n",
        "\n",
        "# 85, 90, 91, 92, 93, 94, 95, 96, 97, 98, 99, 100, 105\n",
        "\n",
        "# The mean score for this dataset is 93.92, which is higher than most of the scores in the dataset because of the outlier value of 105. The median score, which is less affected by outliers, is 95.\n",
        "\n",
        "# Outliers can also affect measures of dispersion, such as the range, variance, and standard deviation. If there is an outlier in a dataset, it can increase the range and the variance, making the data appear more spread out than it actually is. For example, consider the following dataset of heights (in inches):\n",
        "\n",
        "# 62, 63, 64, 65, 66, 67, 68, 69, 70, 71, 72, 73, 74, 78\n",
        "\n",
        "# The range of this dataset is 16, which is larger than it would be without the outlier value of 78. The variance and standard deviation are also larger than they would be without the outlier value, indicating that the data is more spread out than it actually is.\n",
        "\n",
        "# In summary, outliers can have a significant impact on measures of central tendency and dispersion, making them less representative of the true \"typical\" values and increasing the appearance of data spread. It is important to identify and deal with outliers appropriately in statistical analysis"
      ],
      "metadata": {
        "id": "W-dqAaCnIz7n"
      }
    },
    {
      "cell_type": "code",
      "source": [],
      "metadata": {
        "id": "6xzo9ncMFb-x"
      },
      "execution_count": null,
      "outputs": []
    }
  ]
}