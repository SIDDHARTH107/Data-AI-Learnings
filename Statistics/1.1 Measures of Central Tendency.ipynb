{
 "cells": [
  {
   "cell_type": "markdown",
   "id": "0d6d4ab9-0f19-439e-9d06-f0a51bd477b0",
   "metadata": {},
   "source": [
    "# Measures of Central Tendency"
   ]
  },
  {
   "cell_type": "code",
   "execution_count": 1,
   "id": "099ebf12-8d18-4496-abd8-4a36fb5483f3",
   "metadata": {},
   "outputs": [],
   "source": [
    "# Mean i.e Average\n",
    "age = [22,34,45,56,67,77,12,11,34,22,23,67,45,50]"
   ]
  },
  {
   "cell_type": "code",
   "execution_count": 5,
   "id": "2deb65db-36ae-4812-9893-85b2d1062d5a",
   "metadata": {},
   "outputs": [
    {
     "data": {
      "text/plain": [
       "40.357142857142854"
      ]
     },
     "execution_count": 5,
     "metadata": {},
     "output_type": "execute_result"
    }
   ],
   "source": [
    "import numpy as np\n",
    "np.mean(age) # Calculating mean"
   ]
  },
  {
   "cell_type": "code",
   "execution_count": 8,
   "id": "5a970002-a344-4123-b9b6-a10e97ebecfd",
   "metadata": {},
   "outputs": [],
   "source": [
    "import seaborn as sns\n",
    "# There are some random in-built dataset inside seaborn\n",
    "# One of them is called 'tips'\n",
    "df = sns.load_dataset('tips')"
   ]
  },
  {
   "cell_type": "code",
   "execution_count": 9,
   "id": "fd93b289-470a-45a7-b7fb-15caae5abe73",
   "metadata": {},
   "outputs": [
    {
     "data": {
      "text/html": [
       "<div>\n",
       "<style scoped>\n",
       "    .dataframe tbody tr th:only-of-type {\n",
       "        vertical-align: middle;\n",
       "    }\n",
       "\n",
       "    .dataframe tbody tr th {\n",
       "        vertical-align: top;\n",
       "    }\n",
       "\n",
       "    .dataframe thead th {\n",
       "        text-align: right;\n",
       "    }\n",
       "</style>\n",
       "<table border=\"1\" class=\"dataframe\">\n",
       "  <thead>\n",
       "    <tr style=\"text-align: right;\">\n",
       "      <th></th>\n",
       "      <th>total_bill</th>\n",
       "      <th>tip</th>\n",
       "      <th>sex</th>\n",
       "      <th>smoker</th>\n",
       "      <th>day</th>\n",
       "      <th>time</th>\n",
       "      <th>size</th>\n",
       "    </tr>\n",
       "  </thead>\n",
       "  <tbody>\n",
       "    <tr>\n",
       "      <th>0</th>\n",
       "      <td>16.99</td>\n",
       "      <td>1.01</td>\n",
       "      <td>Female</td>\n",
       "      <td>No</td>\n",
       "      <td>Sun</td>\n",
       "      <td>Dinner</td>\n",
       "      <td>2</td>\n",
       "    </tr>\n",
       "    <tr>\n",
       "      <th>1</th>\n",
       "      <td>10.34</td>\n",
       "      <td>1.66</td>\n",
       "      <td>Male</td>\n",
       "      <td>No</td>\n",
       "      <td>Sun</td>\n",
       "      <td>Dinner</td>\n",
       "      <td>3</td>\n",
       "    </tr>\n",
       "    <tr>\n",
       "      <th>2</th>\n",
       "      <td>21.01</td>\n",
       "      <td>3.50</td>\n",
       "      <td>Male</td>\n",
       "      <td>No</td>\n",
       "      <td>Sun</td>\n",
       "      <td>Dinner</td>\n",
       "      <td>3</td>\n",
       "    </tr>\n",
       "    <tr>\n",
       "      <th>3</th>\n",
       "      <td>23.68</td>\n",
       "      <td>3.31</td>\n",
       "      <td>Male</td>\n",
       "      <td>No</td>\n",
       "      <td>Sun</td>\n",
       "      <td>Dinner</td>\n",
       "      <td>2</td>\n",
       "    </tr>\n",
       "    <tr>\n",
       "      <th>4</th>\n",
       "      <td>24.59</td>\n",
       "      <td>3.61</td>\n",
       "      <td>Female</td>\n",
       "      <td>No</td>\n",
       "      <td>Sun</td>\n",
       "      <td>Dinner</td>\n",
       "      <td>4</td>\n",
       "    </tr>\n",
       "  </tbody>\n",
       "</table>\n",
       "</div>"
      ],
      "text/plain": [
       "   total_bill   tip     sex smoker  day    time  size\n",
       "0       16.99  1.01  Female     No  Sun  Dinner     2\n",
       "1       10.34  1.66    Male     No  Sun  Dinner     3\n",
       "2       21.01  3.50    Male     No  Sun  Dinner     3\n",
       "3       23.68  3.31    Male     No  Sun  Dinner     2\n",
       "4       24.59  3.61  Female     No  Sun  Dinner     4"
      ]
     },
     "execution_count": 9,
     "metadata": {},
     "output_type": "execute_result"
    }
   ],
   "source": [
    "df.head()"
   ]
  },
  {
   "cell_type": "code",
   "execution_count": 12,
   "id": "6b21d0fe-4c1d-49b2-b216-77154285b68e",
   "metadata": {},
   "outputs": [
    {
     "data": {
      "text/plain": [
       "19.78594262295082"
      ]
     },
     "execution_count": 12,
     "metadata": {},
     "output_type": "execute_result"
    }
   ],
   "source": [
    "np.mean(df['total_bill']) \n",
    "# Finding the mean of 'total_bill' column"
   ]
  },
  {
   "cell_type": "code",
   "execution_count": 13,
   "id": "9a940d7a-3c19-4613-87a3-de2aca63250b",
   "metadata": {},
   "outputs": [],
   "source": [
    "# Median\n",
    "age = [22,34,45,56,67,77,12,11,34,22,23,67,45,50]"
   ]
  },
  {
   "cell_type": "code",
   "execution_count": 14,
   "id": "dbc7235c-1892-4810-8b16-70a2671e57dd",
   "metadata": {},
   "outputs": [
    {
     "data": {
      "text/plain": [
       "39.5"
      ]
     },
     "execution_count": 14,
     "metadata": {},
     "output_type": "execute_result"
    }
   ],
   "source": [
    "import numpy as np\n",
    "np.median(age)"
   ]
  },
  {
   "cell_type": "code",
   "execution_count": 15,
   "id": "e941933f-e289-4bc5-b96a-8a3f8b9f2f40",
   "metadata": {},
   "outputs": [],
   "source": [
    "# Handling outliers\n",
    "age = [22,34,45,56,67,77,12,11,34,22,23,67,45,50,1000]"
   ]
  },
  {
   "cell_type": "code",
   "execution_count": 16,
   "id": "99b9321e-57ab-4a31-bed7-269a36b7842e",
   "metadata": {},
   "outputs": [
    {
     "data": {
      "text/plain": [
       "104.33333333333333"
      ]
     },
     "execution_count": 16,
     "metadata": {},
     "output_type": "execute_result"
    }
   ],
   "source": [
    "np.mean(age)"
   ]
  },
  {
   "cell_type": "code",
   "execution_count": 17,
   "id": "3a5189c1-8a28-403c-a27a-2e86d93a557e",
   "metadata": {},
   "outputs": [
    {
     "data": {
      "text/plain": [
       "45.0"
      ]
     },
     "execution_count": 17,
     "metadata": {},
     "output_type": "execute_result"
    }
   ],
   "source": [
    "np.median(age)"
   ]
  },
  {
   "cell_type": "markdown",
   "id": "4dd5ea28-d3de-4c11-b364-73353bbb5e65",
   "metadata": {},
   "source": [
    "## So, we can see the difference while handling the outliers"
   ]
  },
  {
   "cell_type": "code",
   "execution_count": 18,
   "id": "dfb9e045-ad11-4341-8975-fc897928016c",
   "metadata": {},
   "outputs": [],
   "source": [
    "# Mode\n",
    "# For finding mode we need a special library called scipy\n",
    "age = [22,34,45,56,67,77,12,11,34,22,23,67,45,50,50,50,50]"
   ]
  },
  {
   "cell_type": "code",
   "execution_count": null,
   "id": "c54ac57e-7488-48d2-842b-600a59a0b1b8",
   "metadata": {},
   "outputs": [],
   "source": [
    "from scipy import stats\n",
    "stats.mode(age)"
   ]
  },
  {
   "cell_type": "code",
   "execution_count": null,
   "id": "d3e85f34-fa83-43cf-a724-4495981d020f",
   "metadata": {},
   "outputs": [],
   "source": []
  }
 ],
 "metadata": {
  "kernelspec": {
   "display_name": "Python 3 (ipykernel)",
   "language": "python",
   "name": "python3"
  },
  "language_info": {
   "codemirror_mode": {
    "name": "ipython",
    "version": 3
   },
   "file_extension": ".py",
   "mimetype": "text/x-python",
   "name": "python",
   "nbconvert_exporter": "python",
   "pygments_lexer": "ipython3",
   "version": "3.10.8"
  }
 },
 "nbformat": 4,
 "nbformat_minor": 5
}
