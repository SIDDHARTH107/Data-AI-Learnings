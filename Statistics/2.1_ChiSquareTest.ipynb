{
 "cells": [
  {
   "cell_type": "code",
   "execution_count": 5,
   "id": "206b2a99-b224-4b13-a539-13c6c9389fd1",
   "metadata": {},
   "outputs": [],
   "source": [
    "import scipy.stats as stat # For statistical analysis\n",
    "import numpy as np"
   ]
  },
  {
   "cell_type": "code",
   "execution_count": 6,
   "id": "628208b1-89c3-4b0b-85d7-f2954b7a2212",
   "metadata": {},
   "outputs": [],
   "source": [
    "# Let's take a random problem statement\n",
    "# Asking hostel warden to find no. of hours student study in hostel in a weekly basis daily\n",
    "expected_data = [8, 6, 7, 9, 6, 9, 7] # Expect data\n",
    "# Mon: 8 hrs, Teus: 6 hrs, and so on...\n",
    "observed_data = [7, 8, 6, 8, 9, 6, 7]\n",
    "# After taking some students manually, we found they study 7, 8, 6, 8, 9, 6, 7 hrs respectively from Mon to Sun"
   ]
  },
  {
   "cell_type": "code",
   "execution_count": 7,
   "id": "30263dcd-2fd3-476c-9f9e-41007d8c7735",
   "metadata": {},
   "outputs": [
    {
     "data": {
      "text/plain": [
       "52"
      ]
     },
     "execution_count": 7,
     "metadata": {},
     "output_type": "execute_result"
    }
   ],
   "source": [
    "sum(expected_data)"
   ]
  },
  {
   "cell_type": "code",
   "execution_count": 8,
   "id": "15fd09c5-689b-4762-9405-a4bc58446fad",
   "metadata": {},
   "outputs": [
    {
     "data": {
      "text/plain": [
       "51"
      ]
     },
     "execution_count": 8,
     "metadata": {},
     "output_type": "execute_result"
    }
   ],
   "source": [
    "sum(observed_data)"
   ]
  },
  {
   "cell_type": "code",
   "execution_count": 9,
   "id": "14ff87b7-f450-4ef7-b4dc-5fa4f490f645",
   "metadata": {},
   "outputs": [],
   "source": [
    "# Let's take a random problem statement\n",
    "# Asking hostel warden to find no. of hours student study in hostel in a weekly basis daily\n",
    "expected_data = [8, 6, 7, 9, 6, 9, 7] # Expect data\n",
    "# Mon: 8 hrs, Teus: 6 hrs, and so on...\n",
    "observed_data = [7, 8, 6, 9, 9, 6, 7]\n",
    "# After taking some students manually, we found they study 7, 8, 6, 8, 9, 6, 7 hrs respectively from Mon to Sun"
   ]
  },
  {
   "cell_type": "code",
   "execution_count": 11,
   "id": "a691472a-2be3-47fe-ba3f-e85237cb1791",
   "metadata": {},
   "outputs": [
    {
     "data": {
      "text/plain": [
       "52"
      ]
     },
     "execution_count": 11,
     "metadata": {},
     "output_type": "execute_result"
    }
   ],
   "source": [
    "sum(observed_data)\n",
    "# We need to make sum of both data equal "
   ]
  },
  {
   "cell_type": "code",
   "execution_count": 14,
   "id": "7ff83347-5aa2-477a-99ba-67daecadc003",
   "metadata": {},
   "outputs": [],
   "source": [
    "chi_square_test_statistic, p_value = stat.chisquare(observed_data, expected_data)"
   ]
  },
  {
   "cell_type": "code",
   "execution_count": 15,
   "id": "a8ec24ce-89fa-41f8-a61a-7b1eda3d7d93",
   "metadata": {},
   "outputs": [
    {
     "data": {
      "text/plain": [
       "(3.4345238095238093, 0.7526596580922865)"
      ]
     },
     "execution_count": 15,
     "metadata": {},
     "output_type": "execute_result"
    }
   ],
   "source": [
    "chi_square_test_statistic, p_value"
   ]
  },
  {
   "cell_type": "code",
   "execution_count": 17,
   "id": "da469a38-ee24-4377-aaf9-14c04cc38766",
   "metadata": {},
   "outputs": [
    {
     "name": "stdout",
     "output_type": "stream",
     "text": [
      "7\n"
     ]
    }
   ],
   "source": [
    "# Find the critical value\n",
    "significance_value = 0.05\n",
    "dof = len(expected_data)\n",
    "print(dof) # Degree of Freedom\n",
    "critical_value = stat.chi2.ppf(1-significance_value, dof)"
   ]
  },
  {
   "cell_type": "code",
   "execution_count": 18,
   "id": "1d9452dc-dd29-4010-a150-a7e17db9a5be",
   "metadata": {},
   "outputs": [
    {
     "data": {
      "text/plain": [
       "14.067140449340169"
      ]
     },
     "execution_count": 18,
     "metadata": {},
     "output_type": "execute_result"
    }
   ],
   "source": [
    "critical_value"
   ]
  },
  {
   "cell_type": "code",
   "execution_count": null,
   "id": "d500ae5c-67bc-44c5-9dae-2dbb121a21c8",
   "metadata": {},
   "outputs": [],
   "source": [
    "if chi_square_test_statistic"
   ]
  }
 ],
 "metadata": {
  "kernelspec": {
   "display_name": "Python 3 (ipykernel)",
   "language": "python",
   "name": "python3"
  },
  "language_info": {
   "codemirror_mode": {
    "name": "ipython",
    "version": 3
   },
   "file_extension": ".py",
   "mimetype": "text/x-python",
   "name": "python",
   "nbconvert_exporter": "python",
   "pygments_lexer": "ipython3",
   "version": "3.10.8"
  }
 },
 "nbformat": 4,
 "nbformat_minor": 5
}
