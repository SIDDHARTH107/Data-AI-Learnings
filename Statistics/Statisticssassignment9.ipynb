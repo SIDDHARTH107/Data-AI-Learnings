{
  "nbformat": 4,
  "nbformat_minor": 0,
  "metadata": {
    "colab": {
      "provenance": []
    },
    "kernelspec": {
      "name": "python3",
      "display_name": "Python 3"
    },
    "language_info": {
      "name": "python"
    }
  },
  "cells": [
    {
      "cell_type": "code",
      "source": [
        "import numpy as np\n",
        "from scipy.stats import f\n",
        "\n",
        "def var_ratio_test(data1, data2):\n",
        "    n1 = len(data1)\n",
        "    n2 = len(data2)\n",
        "    s1_sq = np.var(data1, ddof=1)\n",
        "    s2_sq = np.var(data2, ddof=1)\n",
        "    F = s1_sq / s2_sq\n",
        "    df1 = n1 - 1\n",
        "    df2 = n2 - 1\n",
        "    p_value = f.sf(F, df1, df2)\n",
        "    return F, p_value"
      ],
      "metadata": {
        "id": "alefw8UI7Bji"
      },
      "execution_count": 1,
      "outputs": []
    },
    {
      "cell_type": "code",
      "source": [
        "from scipy.stats import f\n",
        "\n",
        "def crit_f_value(alpha, dfn, dfd):\n",
        "    return f.ppf(alpha/2, dfn, dfd), f.isf(alpha/2, dfn, dfd)\n"
      ],
      "metadata": {
        "id": "P5ZyufZb7DG_"
      },
      "execution_count": 2,
      "outputs": []
    },
    {
      "cell_type": "code",
      "source": [
        "import numpy as np\n",
        "from scipy.stats import f\n",
        "\n",
        "def f_test_variances_equal(data1, data2):\n",
        "    n1 = len(data1)\n",
        "    n2 = len(data2)\n",
        "    var1 = 2.0\n",
        "    var2 = 2.0\n",
        "    alpha = 0.05\n",
        "    F = np.var(data1, ddof=1) / np.var(data2, ddof=1)\n",
        "    df1 = n1 - 1\n",
        "    df2 = n2 - 1\n",
        "    p_value = f.sf(F, df1, df2)\n",
        "    if p_value < alpha:\n",
        "        print(\"The variances are not equal.\")\n",
        "    else:\n",
        "        print(\"The variances are equal.\")\n",
        "    print(\"F =\", F)\n",
        "    print(\"df1 =\", df1)\n",
        "    print(\"df2 =\", df2)\n",
        "    print(\"p-value =\", p_value)\n",
        "    \n"
      ],
      "metadata": {
        "id": "OK6KdNbe7Hxu"
      },
      "execution_count": 3,
      "outputs": []
    },
    {
      "cell_type": "code",
      "source": [
        "data1 = np.random.normal(loc=0, scale=np.sqrt(10), size=12)\n",
        "data2 = np.random.normal(loc=0, scale=np.sqrt(15), size=12)\n",
        "\n",
        "F, p_value = var_ratio_test(data1, data2)\n",
        "\n",
        "alpha = 0.05\n",
        "if p_value < alpha:\n",
        "    print(\"The variances are significantly different.\")\n",
        "else:\n",
        "    print(\"The variances are not significantly different.\")\n",
        "print(\"F =\", F)\n",
        "print(\"p-value =\", p_value)\n",
        "\n"
      ],
      "metadata": {
        "colab": {
          "base_uri": "https://localhost:8080/"
        },
        "id": "3ZONsTrI7cSF",
        "outputId": "d9d91ff9-8ea1-4635-e8e2-6ac9344b6f89"
      },
      "execution_count": 4,
      "outputs": [
        {
          "output_type": "stream",
          "name": "stdout",
          "text": [
            "The variances are not significantly different.\n",
            "F = 0.5725969632325394\n",
            "p-value = 0.8154773632935791\n"
          ]
        }
      ]
    },
    {
      "cell_type": "code",
      "source": [
        "n = 25\n",
        "var_claimed = 0.005\n",
        "var_sample = 0.006\n",
        "\n",
        "F = var_sample / var_claimed\n",
        "df1 = n - 1\n",
        "df2 = n - 1\n",
        "p_value = f.sf(F, df1, df2)\n",
        "\n",
        "alpha = 0.01\n",
        "if p_value < alpha:\n",
        "    print(\"The claim is not justified.\")\n",
        "else:\n",
        "    print(\"The claim is justified.\")\n",
        "print(\"F =\", F)\n",
        "print(\"p-value =\", p_value)\n"
      ],
      "metadata": {
        "colab": {
          "base_uri": "https://localhost:8080/"
        },
        "id": "BuFtAOME788h",
        "outputId": "3f57d3f7-b7e3-4416-91cf-d7f822da92c8"
      },
      "execution_count": 5,
      "outputs": [
        {
          "output_type": "stream",
          "name": "stdout",
          "text": [
            "The claim is justified.\n",
            "F = 1.2\n",
            "p-value = 0.32936546828172447\n"
          ]
        }
      ]
    },
    {
      "cell_type": "code",
      "source": [
        "def f_dist_mean_var(dfn, dfd):\n",
        "    if dfn <= 0 or dfd <= 0:\n",
        "        raise ValueError(\"Degrees of freedom must be positive.\")\n",
        "    if dfd <= 2:\n",
        "        raise ValueError(\"Degrees of freedom for the denominator must be greater than 2.\")\n",
        "    mean = dfd / (dfd - 2)\n",
        "    var = (2 * (dfd ** 2) * (dfn + dfd - 2)) / (dfn * ((dfd - 2) ** 2) * (dfd - 4))\n",
        "    return mean, var\n"
      ],
      "metadata": {
        "id": "8cQxJo9s8Bqi"
      },
      "execution_count": 6,
      "outputs": []
    },
    {
      "cell_type": "markdown",
      "source": [
        "Let's denote the sample variances as s1^2 and s2^2, and the degrees of freedom for the two samples as n1-1 and n2-1. The test statistic is calculated as:\n",
        "\n",
        "F = s1^2 / s2^2\n",
        "\n",
        "Under the null hypothesis, this statistic follows an F-distribution with n1-1 degrees of freedom in the numerator and n2-1 degrees of freedom in the denominator. We can then calculate the p-value as the probability of observing an F-value as extreme or more extreme than the observed one, assuming the null hypothesis is true.\n",
        "\n",
        "In this case, we have:\n",
        "\n",
        "s1^2 = 25, n1 = 10\n",
        "s2^2 = 20, n2 = 15\n",
        "\n",
        "The F-value is:\n",
        "\n",
        "F = s1^2 / s2^2 = 25 / 20 = 1.25\n",
        "\n",
        "The degrees of freedom are:\n",
        "\n",
        "df1 = n1-1 = 10-1 = 9\n",
        "df2 = n2-1 = 15-1 = 14\n",
        "\n",
        "Using a significance level of 10%, we can find the critical F-value from an F-distribution table or using a Python function, as in Q2. For df1=9 and df2=14, the critical F-value is approximately 2.60.\n",
        "\n",
        "Since the observed F-value is smaller than the critical F-value, we fail to reject the null hypothesis and conclude that there is not enough evidence to suggest that the variances of the two populations are significantly different at the 10% significance level.\n",
        "\n",
        "Therefore, we can say that the variances of the two populations are not significantly different at the 10% level of significance.\n",
        "\n",
        "\n",
        "Let's denote the sample variances as s1^2 and s2^2, and the degrees of freedom for the two samples as n1-1 and n2-1. The test statistic is calculated as:\n",
        "\n",
        "F = s1^2 / s2^2\n",
        "\n",
        "Under the null hypothesis, this statistic follows an F-distribution with n1-1 degrees of freedom in the numerator and n2-1 degrees of freedom in the denominator. We can then calculate the p-value as the probability of observing an F-value as extreme or more extreme than the observed one, assuming the null hypothesis is true.\n",
        "\n",
        "In this case, we have:\n",
        "\n",
        "Restaurant A: 24, 25, 28, 23, 22, 20, 27\n",
        "s1^2 = 6.857, n1 = 7\n",
        "Restaurant B: 31, 33, 35, 30, 32, 36\n",
        "s2^2 = 6.667, n2 = 6\n",
        "\n",
        "The F-value is:\n",
        "\n",
        "F = s1^2 / s2^2 = 6.857 / 6.667 = 1.028\n",
        "\n",
        "The degrees of freedom are:\n",
        "\n",
        "df1 = n1-1 = 7-1 = 6\n",
        "df2 = n2-1 = 6-1 = 5\n",
        "\n",
        "Using a significance level of 5%, we can find the critical F-value from an F-distribution table or using a Python function, as in Q2. For df1=6 and df2=5,\n",
        "\n",
        "\n",
        "Step 1: Define the null and alternative hypotheses:\n",
        "\n",
        "Null Hypothesis (H0): The variances of the two groups are equal.\n",
        "Alternative Hypothesis (Ha): The variances of the two groups are not equal.\n",
        "Step 2: Set the level of significance (alpha) = 0.01.\n",
        "\n",
        "Step 3: Compute the F-value using the formula:\n",
        "F = s1^2 / s2^2, where s1^2 is the sample variance of Group A, and s2^2 is the sample variance of Group B.\n",
        "\n",
        "Step 4: Calculate the degrees of freedom for the numerator and denominator using the following formulas:\n",
        "df1 = n1 - 1, where n1 is the sample size of Group A.\n",
        "df2 = n2 - 1, where n2 is the sample size of Group B.\n",
        "\n",
        "Step 5: Determine the p-value using an F-distribution table or statistical software.\n",
        "\n",
        "Step 6: Compare the p-value with the level of significance (alpha) and make a decision. If the p-value is less than or equal to alpha, reject the null hypothesis; otherwise, fail to reject the null hypothesis."
      ],
      "metadata": {
        "id": "yLuBb5qD8oii"
      }
    },
    {
      "cell_type": "code",
      "source": [
        "import numpy as np\n",
        "from scipy.stats import f\n",
        "\n",
        "# Step 1: Define the data\n",
        "group_a = np.array([80, 85, 90, 92, 87, 83])\n",
        "group_b = np.array([75, 78, 82, 79, 81, 84])\n",
        "\n",
        "# Step 2: Set the level of significance\n",
        "alpha = 0.01\n",
        "\n",
        "# Step 3: Compute the F-value\n",
        "s1_sq = np.var(group_a, ddof=1)\n",
        "s2_sq = np.var(group_b, ddof=1)\n",
        "F = s1_sq / s2_sq\n",
        "\n",
        "# Step 4: Calculate the degrees of freedom\n",
        "df1 = len(group_a) - 1\n",
        "df2 = len(group_b) - 1\n",
        "\n",
        "# Step 5: Determine the p-value\n",
        "p_value = 2 * (1 - f.cdf(F, df1, df2))\n",
        "\n",
        "# Step 6: Compare the p-value with alpha and make a decision\n",
        "if p_value <= alpha:\n",
        "    print(\"Reject the null hypothesis.\")\n",
        "else:\n",
        "    print(\"Fail to reject the null hypothesis.\")\n"
      ],
      "metadata": {
        "colab": {
          "base_uri": "https://localhost:8080/"
        },
        "id": "1CzSGNWA8HtC",
        "outputId": "b6ed3cf3-cbce-416f-8df9-38d0e03b32c3"
      },
      "execution_count": 7,
      "outputs": [
        {
          "output_type": "stream",
          "name": "stdout",
          "text": [
            "Fail to reject the null hypothesis.\n"
          ]
        }
      ]
    },
    {
      "cell_type": "code",
      "source": [],
      "metadata": {
        "id": "P0MREBfi9IID"
      },
      "execution_count": null,
      "outputs": []
    }
  ]
}