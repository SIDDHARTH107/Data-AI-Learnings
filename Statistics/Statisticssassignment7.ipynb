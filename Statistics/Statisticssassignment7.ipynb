{
  "nbformat": 4,
  "nbformat_minor": 0,
  "metadata": {
    "colab": {
      "provenance": []
    },
    "kernelspec": {
      "name": "python3",
      "display_name": "Python 3"
    },
    "language_info": {
      "name": "python"
    }
  },
  "cells": [
    {
      "cell_type": "code",
      "source": [
        "import scipy.stats as stats\n",
        "\n",
        "sample_mean = 50\n",
        "sample_std = 5\n",
        "n = 100\n",
        "\n",
        "# Calculate standard error\n",
        "std_error = sample_std / (n**0.5)\n",
        "\n",
        "# Calculate confidence interval\n",
        "conf_int = stats.norm.interval(0.95, loc=sample_mean, scale=std_error)\n",
        "\n",
        "print(\"The 95% confidence interval is:\", conf_int)\n"
      ],
      "metadata": {
        "colab": {
          "base_uri": "https://localhost:8080/"
        },
        "id": "iCapoGWqjVUn",
        "outputId": "0da1652d-61cb-48cd-9199-685e79fd78a0"
      },
      "execution_count": 1,
      "outputs": [
        {
          "output_type": "stream",
          "name": "stdout",
          "text": [
            "The 95% confidence interval is: (49.02001800772997, 50.97998199227003)\n"
          ]
        }
      ]
    },
    {
      "cell_type": "code",
      "source": [
        "import numpy as np\n",
        "from scipy.stats import chisquare\n",
        "\n",
        "observed_freq = np.array([24, 18, 15, 10, 12, 21])\n",
        "expected_freq = np.array([20, 20, 20, 10, 10, 20])\n",
        "\n",
        "# Calculate chi-square test statistic and p-value\n",
        "chi_stat, p_val = chisquare(f_obs=observed_freq, f_exp=expected_freq)\n",
        "\n",
        "alpha = 0.05\n",
        "\n",
        "# Print results\n",
        "print(f\"Chi-Square Statistic: {chi_stat:.2f}\")\n",
        "print(f\"P-value: {p_val:.4f}\")\n",
        "if p_val <= alpha:\n",
        "    print(\"We reject the null hypothesis.\")\n",
        "else:\n",
        "    print(\"We fail to reject the null hypothesis.\")\n"
      ],
      "metadata": {
        "colab": {
          "base_uri": "https://localhost:8080/"
        },
        "id": "AIVhorRCjV77",
        "outputId": "cd9c5630-519f-42bd-ae63-641b5c479144"
      },
      "execution_count": 2,
      "outputs": [
        {
          "output_type": "stream",
          "name": "stdout",
          "text": [
            "Chi-Square Statistic: 2.70\n",
            "P-value: 0.7461\n",
            "We fail to reject the null hypothesis.\n"
          ]
        }
      ]
    },
    {
      "cell_type": "code",
      "source": [
        "import numpy as np\n",
        "from scipy.stats import chi2_contingency\n",
        "\n",
        "contingency_table = np.array([[20, 10, 15], [15, 25, 20]])\n",
        "\n",
        "# Calculate chi-square test statistic, p-value, degrees of freedom, and expected frequencies\n",
        "chi_stat, p_val, dof, expected_freq = chi2_contingency(contingency_table)\n",
        "\n",
        "# Print results\n",
        "print(f\"Chi-Square Statistic: {chi_stat:.2f}\")\n",
        "print(f\"P-value: {p_val:.4f}\")\n",
        "print(f\"Degrees of Freedom: {dof}\")\n",
        "print(\"Expected Frequencies:\")\n",
        "print(expected_freq)\n"
      ],
      "metadata": {
        "colab": {
          "base_uri": "https://localhost:8080/"
        },
        "id": "mO_2W99wjasC",
        "outputId": "e02211bb-42ec-4706-d3e1-4608ea32c327"
      },
      "execution_count": 3,
      "outputs": [
        {
          "output_type": "stream",
          "name": "stdout",
          "text": [
            "Chi-Square Statistic: 5.83\n",
            "P-value: 0.0541\n",
            "Degrees of Freedom: 2\n",
            "Expected Frequencies:\n",
            "[[15. 15. 15.]\n",
            " [20. 20. 20.]]\n"
          ]
        }
      ]
    },
    {
      "cell_type": "code",
      "source": [
        "import scipy.stats as stats\n",
        "\n",
        "n = 500\n",
        "observed_proportion = 60/n\n",
        "\n",
        "lower, upper = stats.proportion_confint(observed_proportion*n, n, alpha=0.05)\n",
        "print(f\"The 95% confidence interval for the true proportion of individuals in the population who smoke is ({lower:.4f}, {upper:.4f})\")\n"
      ],
      "metadata": {
        "colab": {
          "base_uri": "https://localhost:8080/",
          "height": 217
        },
        "id": "qfShUM_Njrks",
        "outputId": "092a6906-9ca2-48b7-ac64-aedd7480b92b"
      },
      "execution_count": 4,
      "outputs": [
        {
          "output_type": "error",
          "ename": "AttributeError",
          "evalue": "ignored",
          "traceback": [
            "\u001b[0;31m---------------------------------------------------------------------------\u001b[0m",
            "\u001b[0;31mAttributeError\u001b[0m                            Traceback (most recent call last)",
            "\u001b[0;32m<ipython-input-4-49b9e5632ff1>\u001b[0m in \u001b[0;36m<cell line: 6>\u001b[0;34m()\u001b[0m\n\u001b[1;32m      4\u001b[0m \u001b[0mobserved_proportion\u001b[0m \u001b[0;34m=\u001b[0m \u001b[0;36m60\u001b[0m\u001b[0;34m/\u001b[0m\u001b[0mn\u001b[0m\u001b[0;34m\u001b[0m\u001b[0;34m\u001b[0m\u001b[0m\n\u001b[1;32m      5\u001b[0m \u001b[0;34m\u001b[0m\u001b[0m\n\u001b[0;32m----> 6\u001b[0;31m \u001b[0mlower\u001b[0m\u001b[0;34m,\u001b[0m \u001b[0mupper\u001b[0m \u001b[0;34m=\u001b[0m \u001b[0mstats\u001b[0m\u001b[0;34m.\u001b[0m\u001b[0mproportion_confint\u001b[0m\u001b[0;34m(\u001b[0m\u001b[0mobserved_proportion\u001b[0m\u001b[0;34m*\u001b[0m\u001b[0mn\u001b[0m\u001b[0;34m,\u001b[0m \u001b[0mn\u001b[0m\u001b[0;34m,\u001b[0m \u001b[0malpha\u001b[0m\u001b[0;34m=\u001b[0m\u001b[0;36m0.05\u001b[0m\u001b[0;34m)\u001b[0m\u001b[0;34m\u001b[0m\u001b[0;34m\u001b[0m\u001b[0m\n\u001b[0m\u001b[1;32m      7\u001b[0m \u001b[0mprint\u001b[0m\u001b[0;34m(\u001b[0m\u001b[0;34mf\"The 95% confidence interval for the true proportion of individuals in the population who smoke is ({lower:.4f}, {upper:.4f})\"\u001b[0m\u001b[0;34m)\u001b[0m\u001b[0;34m\u001b[0m\u001b[0;34m\u001b[0m\u001b[0m\n",
            "\u001b[0;31mAttributeError\u001b[0m: module 'scipy.stats' has no attribute 'proportion_confint'"
          ]
        }
      ]
    },
    {
      "cell_type": "code",
      "source": [
        "import scipy.stats as stats\n",
        "\n",
        "n = 1  # sample size\n",
        "sample_mean = 75\n",
        "sample_std = 12\n",
        "\n",
        "lower, upper = stats.t.interval(alpha=0.9, df=n-1, loc=sample_mean, scale=sample_std/n**0.5)\n",
        "print(f\"The 90% confidence interval for the true mean is ({lower:.4f}, {upper:.4f})\")\n"
      ],
      "metadata": {
        "colab": {
          "base_uri": "https://localhost:8080/"
        },
        "id": "TihC7yAZlTXU",
        "outputId": "6acf83b0-aa47-4efe-9c84-b64f50376311"
      },
      "execution_count": 5,
      "outputs": [
        {
          "output_type": "stream",
          "name": "stdout",
          "text": [
            "The 90% confidence interval for the true mean is (nan, nan)\n"
          ]
        },
        {
          "output_type": "stream",
          "name": "stderr",
          "text": [
            "<ipython-input-5-e4f6ff9e9a09>:7: DeprecationWarning: Use of keyword argument 'alpha' for method 'interval' is deprecated and wil be removed in SciPy 1.11.0. Use first positional argument or keyword argument 'confidence' instead.\n",
            "  lower, upper = stats.t.interval(alpha=0.9, df=n-1, loc=sample_mean, scale=sample_std/n**0.5)\n"
          ]
        }
      ]
    },
    {
      "cell_type": "code",
      "source": [
        "import numpy as np\n",
        "import scipy.stats as stats\n",
        "import matplotlib.pyplot as plt\n",
        "\n",
        "df = 10\n",
        "chi2_dist = stats.chi2(df)\n",
        "\n",
        "x = np.linspace(0, 25, 500)\n",
        "y = chi2_dist.pdf(x)\n",
        "\n",
        "plt.plot(x, y)\n",
        "plt.fill_between(x[x>15], y[x>15], 0, alpha=0.5)\n",
        "plt.xlabel('Chi-square statistic')\n",
        "plt.ylabel('Probability density')\n",
        "plt.title(f'Chi-square distribution with {df} degrees of freedom')\n",
        "plt.show()\n"
      ],
      "metadata": {
        "colab": {
          "base_uri": "https://localhost:8080/",
          "height": 472
        },
        "id": "_Jp89p6ylaHb",
        "outputId": "14044634-1d7c-406a-ba87-256501690e43"
      },
      "execution_count": 6,
      "outputs": [
        {
          "output_type": "display_data",
          "data": {
            "text/plain": [
              "<Figure size 640x480 with 1 Axes>"
            ],
            "image/png": "[encoded data removed]"
          },
          "metadata": {}
        }
      ]
    },
    {
      "cell_type": "code",
      "source": [
        "import numpy as np\n",
        "from scipy.stats import chi2_contingency\n",
        "\n",
        "# create the contingency table\n",
        "obs = np.array([[180, 20], [75, 225]])\n",
        "\n",
        "# conduct chi-square test for independence\n",
        "chi2, p, dof, expected = chi2_contingency(obs)\n",
        "\n",
        "# print the results\n",
        "print(\"Chi-square statistic:\", chi2)\n",
        "print(\"P-value:\", p)\n",
        "print(\"Degrees of freedom:\", dof)\n",
        "print(\"Expected frequencies:\\n\", expected)\n"
      ],
      "metadata": {
        "colab": {
          "base_uri": "https://localhost:8080/"
        },
        "id": "l6njcsxelc36",
        "outputId": "36f37bb9-f8cf-4003-b6b9-7322f136de35"
      },
      "execution_count": 7,
      "outputs": [
        {
          "output_type": "stream",
          "name": "stdout",
          "text": [
            "Chi-square statistic: 200.28844871281845\n",
            "P-value: 1.806700454760723e-45\n",
            "Degrees of freedom: 1\n",
            "Expected frequencies:\n",
            " [[102.  98.]\n",
            " [153. 147.]]\n"
          ]
        }
      ]
    },
    {
      "cell_type": "markdown",
      "source": [
        "8. To conduct a chi-square goodness of fit test, we first need to determine the expected frequencies for a fair coin. Assuming that a fair coin would result in a 50/50 split between heads and tails, we can calculate the expected frequency for tails by multiplying the total number of flips by 0.5. In this case, the expected frequency for tails is 50.\n",
        "\n",
        "Using the observed frequency of 45 tails, we can calculate the chi-square statistic as follows:\n",
        "\n",
        "chi_square = ((45 - 50) ** 2) / 50 + ((55 - 50) ** 2) / 50\n",
        "chi_square = 1\n",
        "\n",
        "To determine if this value is significant at a significance level of 0.05 with 1 degree of freedom, we can use a chi-square distribution table or use Python to calculate the p-value:\n",
        "\n",
        "from scipy.stats import chi2\n",
        "\n",
        "p_value = 1 - chi2.cdf(1, 1)\n",
        "p_value = 0.3173\n",
        "\n",
        "Since the p-value is greater than the significance level of 0.05, we fail to reject the null hypothesis that the observed frequencies match the expected frequencies of a fair coin. We do not have sufficient evidence to conclude that the coin is biased towards tails."
      ],
      "metadata": {
        "id": "tELZ19tompoA"
      }
    },
    {
      "cell_type": "markdown",
      "source": [
        "To conduct a chi-square test for independence, we first need to calculate the expected frequencies under the assumption that smoking status and lung cancer diagnosis are independent. We can do this by multiplying the row and column totals to get the expected frequency for each cell. For example, the expected frequency for smokers who have lung cancer is:\n",
        "\n",
        "(150/500) * (200/500) * 500 = 60\n",
        "\n",
        "Using these expected frequencies and the observed frequencies from the contingency table, we can calculate the chi-square statistic:\n",
        "\n",
        "chi_square = ((50-60)**2)/60 + ((100-90)**2)/90 + ((100-140)**2)/140 + ((250-210)**2)/210\n",
        "chi_square = 12.09\n",
        "\n",
        "To determine if this value is significant at a significance level of 0.05 with 1 degree of freedom, we can use a chi-square distribution table or use Python to calculate the p-value:\n",
        "\n",
        "from scipy.stats import chi2\n",
        "\n",
        "p_value = 1 - chi2.cdf(12.09, 1)\n",
        "p_value = 0.0005\n",
        "\n",
        "Since the p-value is less than the significance level of 0.05, we reject the null hypothesis that smoking status and lung cancer diagnosis are independent. We have sufficient evidence to conclude that there is a significant association between smoking status and lung cancer diagnosis."
      ],
      "metadata": {
        "id": "pbjQzHLVm-Ot"
      }
    },
    {
      "cell_type": "code",
      "source": [],
      "metadata": {
        "id": "FtdanbibmN2q"
      },
      "execution_count": null,
      "outputs": []
    }
  ]
}