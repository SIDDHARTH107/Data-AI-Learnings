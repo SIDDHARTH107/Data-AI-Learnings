{
  "nbformat": 4,
  "nbformat_minor": 0,
  "metadata": {
    "colab": {
      "provenance": []
    },
    "kernelspec": {
      "name": "python3",
      "display_name": "Python 3"
    },
    "language_info": {
      "name": "python"
    }
  },
  "cells": [
    {
      "cell_type": "markdown",
      "source": [
        "Estimation statistics is a branch of statistics concerned with estimating unknown population parameters based on sample data. It is a method of using sample data to make inferences about the population.\n",
        "\n",
        "There are two types of estimation: point estimate and interval estimate.\n",
        "\n",
        "Point Estimate: A point estimate is a single value that is used to estimate the value of an unknown population parameter. It is the best guess of the value of the parameter based on the available sample data. For example, the sample mean is a point estimate of the population mean.\n",
        "\n",
        "Interval Estimate: An interval estimate is a range of values that is used to estimate the value of an unknown population parameter. It provides a more precise estimate than a point estimate because it includes a range of values that the population parameter is likely to fall within. The interval estimate is based on the sample data and a measure of variability such as the standard error. The most common type of interval estimate is the confidence interval. For example, a 95% confidence interval for the population mean would include a range of values that is likely to contain the true population mean with 95% confidence.\n",
        "\n",
        "In summary, estimation statistics is the process of using sample data to estimate population parameters. Point estimates provide a single value estimate, while interval estimates provide a range of values within which the true population parameter is likely to fall."
      ],
      "metadata": {
        "id": "hl_58mMuapoo"
      }
    },
    {
      "cell_type": "code",
      "source": [
        "import math\n",
        "\n",
        "def estimate_population_mean(sample_mean, sample_std, sample_size):\n",
        "    # Calculate the standard error of the mean\n",
        "    standard_error = sample_std / math.sqrt(sample_size)\n",
        "    \n",
        "    # Calculate the margin of error using a 95% confidence interval\n",
        "    z_critical = 1.96  # Z-value for 95% confidence interval\n",
        "    margin_of_error = z_critical * standard_error\n",
        "    \n",
        "    # Calculate the lower and upper bounds of the confidence interval\n",
        "    lower_bound = sample_mean - margin_of_error\n",
        "    upper_bound = sample_mean + margin_of_error\n",
        "    \n",
        "    # Return the estimated population mean\n",
        "    return (lower_bound + upper_bound) / 2\n"
      ],
      "metadata": {
        "id": "f1KVa0HGaqUd"
      },
      "execution_count": 1,
      "outputs": []
    },
    {
      "cell_type": "markdown",
      "source": [
        "Hypothesis testing is a statistical method used to determine whether an assumption (or hypothesis) about a population parameter is supported by the sample data. In hypothesis testing, a null hypothesis and an alternative hypothesis are formulated based on the research question. The null hypothesis is typically a statement of no effect or no difference, while the alternative hypothesis is a statement of an effect or difference.\n",
        "\n",
        "The null hypothesis is then tested using the sample data to determine whether there is enough evidence to reject it. This is done by calculating a test statistic and comparing it to a critical value or p-value. If the test statistic falls in the rejection region, the null hypothesis is rejected in favor of the alternative hypothesis. If the test statistic falls in the acceptance region, the null hypothesis is not rejected.\n",
        "\n",
        "Hypothesis testing is used in many fields, including science, business, medicine, and social sciences. It is used to make decisions based on sample data and to draw conclusions about population parameters. For example, a pharmaceutical company may use hypothesis testing to determine whether a new drug is effective in treating a disease. A business may use hypothesis testing to determine whether a new marketing strategy is effective in increasing sales.\n",
        "\n",
        "The importance of hypothesis testing lies in its ability to provide a systematic approach for decision-making based on sample data. It helps to avoid making decisions based on intuition or personal bias. Hypothesis testing also helps to establish the statistical significance of a result, which is important in determining whether a result is due to chance or is a true effect."
      ],
      "metadata": {
        "id": "5MvbqSJdbf9s"
      }
    },
    {
      "cell_type": "markdown",
      "source": [
        "The null hypothesis for this scenario would be that the average weight of male college students is not significantly different from the average weight of female college students.\n",
        "\n",
        "H0: µ_male = µ_female\n",
        "\n",
        "The alternative hypothesis would be that the average weight of male college students is significantly greater than the average weight of female college students.\n",
        "\n",
        "Ha: µ_male > µ_female\n",
        "\n",
        "Where µ_male represents the population mean weight of male college students and µ_female represents the population mean weight of female college students. The hypothesis can be tested by collecting a sample of weights from male and female college students and using hypothesis testing techniques to determine if there is enough evidence to reject the null hypothesis in favor of the alternative hypothesis."
      ],
      "metadata": {
        "id": "2UdK82lJcW_I"
      }
    },
    {
      "cell_type": "code",
      "source": [
        "import numpy as np\n",
        "from scipy.stats import ttest_ind\n",
        "\n",
        "# Generate two random samples with different means and standard deviations\n",
        "np.random.seed(123)\n",
        "sample1 = np.random.normal(10, 2, size=100)\n",
        "sample2 = np.random.normal(12, 3, size=100)\n",
        "\n",
        "# Conduct a two-sample t-test with equal variances assumed\n",
        "t_stat, p_val = ttest_ind(sample1, sample2, equal_var=True)\n",
        "\n",
        "# Set the significance level\n",
        "alpha = 0.05\n",
        "\n",
        "# Determine if the null hypothesis is rejected based on the p-value\n",
        "if p_val < alpha:\n",
        "    print(\"The null hypothesis is rejected. There is enough evidence to support the alternative hypothesis.\")\n",
        "else:\n",
        "    print(\"The null hypothesis is not rejected. There is not enough evidence to support the alternative hypothesis.\")\n"
      ],
      "metadata": {
        "colab": {
          "base_uri": "https://localhost:8080/"
        },
        "id": "konieTNfbPtP",
        "outputId": "4db7b96f-d609-4c6d-aaca-aac98387be8b"
      },
      "execution_count": 2,
      "outputs": [
        {
          "output_type": "stream",
          "name": "stdout",
          "text": [
            "The null hypothesis is rejected. There is enough evidence to support the alternative hypothesis.\n"
          ]
        }
      ]
    },
    {
      "cell_type": "markdown",
      "source": [
        "In statistical hypothesis testing, the null hypothesis and alternative hypothesis are two competing hypotheses about a population parameter or a relationship between variables. The null hypothesis is the default assumption that there is no significant difference or relationship between the variables, while the alternative hypothesis is a statement of what we are trying to find evidence for, usually in the form of a directional or non-directional claim. The hypothesis test then determines whether the sample data provides enough evidence to reject the null hypothesis in favor of the alternative hypothesis.\n",
        "\n",
        "Here are some examples of null and alternative hypotheses:\n",
        "\n",
        "Null hypothesis: There is no difference in the average height between men and women.\n",
        "Alternative hypothesis: The average height of men is greater than the average height of women.\n",
        "\n",
        "Null hypothesis: There is no correlation between a student's attendance and their grades.\n",
        "Alternative hypothesis: There is a positive correlation between a student's attendance and their grades.\n",
        "\n",
        "Null hypothesis: There is no effect of a new drug on reducing blood pressure.\n",
        "Alternative hypothesis: The new drug significantly reduces blood pressure.\n",
        "\n",
        "Null hypothesis: There is no difference in the average salaries between two companies.\n",
        "Alternative hypothesis: The average salary in one company is greater than the average salary in the other company.\n",
        "\n",
        "Null hypothesis: There is no difference in the effectiveness of two teaching methods.\n",
        "Alternative hypothesis: One teaching method is more effective than the other.\n",
        "\n",
        "In each of these examples, the null hypothesis assumes that there is no significant difference or relationship between the variables, while the alternative hypothesis is a statement of what we are trying to find evidence for. The hypothesis test then determines whether the sample data provides enough evidence to reject the null hypothesis in favor of the alternative hypothesis."
      ],
      "metadata": {
        "id": "Rb20xWNMckc_"
      }
    },
    {
      "cell_type": "markdown",
      "source": [
        "Here are the steps involved in hypothesis testing:\n",
        "\n",
        "State the null and alternative hypotheses: The first step in hypothesis testing is to clearly state the null hypothesis (H0) and the alternative hypothesis (Ha) in terms of the population parameter or relationship between variables that we want to test.\n",
        "\n",
        "Set the significance level: The significance level (α) is the maximum probability of making a Type I error, which is rejecting the null hypothesis when it is actually true. Common values of α are 0.05 or 0.01.\n",
        "\n",
        "Determine the test statistic and the critical value: The test statistic is a value calculated from the sample data that measures how far the sample estimate is from the hypothesized population parameter. The critical value is the value at which the null hypothesis will be rejected if the test statistic falls beyond it.\n",
        "\n",
        "Calculate the p-value: The p-value is the probability of obtaining a test statistic as extreme or more extreme than the one calculated from the sample data, assuming that the null hypothesis is true. The p-value is calculated based on the test statistic and the sampling distribution of the test statistic.\n",
        "\n",
        "Make a decision: Compare the p-value to the significance level. If the p-value is less than the significance level, reject the null hypothesis and accept the alternative hypothesis. If the p-value is greater than or equal to the significance level, fail to reject the null hypothesis and do not accept the alternative hypothesis.\n",
        "\n",
        "Interpret the results: If the null hypothesis is rejected, interpret the results in terms of the alternative hypothesis. This can include estimating the effect size, calculating confidence intervals, or interpreting the practical significance of the results.\n",
        "\n",
        "Draw conclusions: Based on the results of the hypothesis test, draw conclusions about the population parameter or relationship between variables. Consider the limitations of the study and potential sources of bias or confounding.\n",
        "\n",
        "These steps are applicable to a wide range of hypothesis tests, including tests for means, proportions, variances, correlations, and regression coefficients. It is important to follow a systematic approach to hypothesis testing to ensure that the results are reliable and valid."
      ],
      "metadata": {
        "id": "Hg2qLtJjcriL"
      }
    },
    {
      "cell_type": "markdown",
      "source": [
        "In hypothesis testing, the p-value is a measure of the evidence against the null hypothesis. It is the probability of obtaining a test statistic as extreme or more extreme than the one calculated from the sample data, assuming that the null hypothesis is true. In other words, the p-value measures the strength of the evidence against the null hypothesis.\n",
        "\n",
        "The p-value is compared to the significance level (α) to make a decision about whether to reject the null hypothesis or fail to reject it. If the p-value is less than or equal to the significance level, we reject the null hypothesis and conclude that there is evidence to support the alternative hypothesis. If the p-value is greater than the significance level, we fail to reject the null hypothesis and conclude that there is not enough evidence to support the alternative hypothesis.\n",
        "\n",
        "The significance of the p-value in hypothesis testing is that it provides a way to quantify the strength of the evidence against the null hypothesis. A small p-value (e.g., less than 0.05) indicates strong evidence against the null hypothesis, while a large p-value (e.g., greater than 0.05) indicates weak evidence against the null hypothesis. The p-value also allows us to compare the strength of the evidence across different hypothesis tests and to assess the practical significance of the results.\n",
        "\n",
        "It is important to note that the p-value is not the probability of the null hypothesis being true or false. It is only a measure of the evidence against the null hypothesis based on the sample data. Therefore, even if the null hypothesis is rejected based on a small p-value, we cannot conclude with certainty that the alternative hypothesis is true. Instead, we can only say that there is strong evidence to support the alternative hypothesis based on the sample data."
      ],
      "metadata": {
        "id": "WtC22aDjczpE"
      }
    },
    {
      "cell_type": "code",
      "source": [
        "import numpy as np\n",
        "import matplotlib.pyplot as plt\n",
        "\n",
        "# Generate x-values for the t-distribution plot\n",
        "x = np.linspace(-4, 4, 1000)\n",
        "\n",
        "# Calculate the probability density function (PDF) for the t-distribution\n",
        "df = 10\n",
        "pdf = np.exp(-x**2/2) / np.sqrt(2*np.pi) / np.sqrt(df) / np.power(1+x**2/df, (df+1)/2)\n",
        "\n",
        "# Create the plot\n",
        "plt.plot(x, pdf, label='t-distribution (df=10)')\n",
        "\n",
        "# Add labels and legend\n",
        "plt.xlabel('x')\n",
        "plt.ylabel('Probability density')\n",
        "plt.title(\"Student's t-distribution\")\n",
        "plt.legend()\n",
        "\n",
        "# Display the plot\n",
        "plt.show()\n"
      ],
      "metadata": {
        "colab": {
          "base_uri": "https://localhost:8080/",
          "height": 472
        },
        "id": "dy-E-BLXcez0",
        "outputId": "bafe4e86-e2ef-4acd-f61a-0059d2efa6dc"
      },
      "execution_count": 3,
      "outputs": [
        {
          "output_type": "display_data",
          "data": {
            "text/plain": [
              "<Figure size 640x480 with 1 Axes>"
            ],
            "image/png": "[encoded data removed]"
          },
          "metadata": {}
        }
      ]
    },
    {
      "cell_type": "code",
      "source": [
        "import numpy as np\n",
        "from scipy.stats import ttest_ind\n",
        "\n",
        "# Generate two random samples with equal size\n",
        "sample1 = np.random.normal(10, 2, 100)\n",
        "sample2 = np.random.normal(11, 2, 100)\n",
        "\n",
        "# Calculate the t-test and p-value\n",
        "t_stat, p_val = ttest_ind(sample1, sample2)\n",
        "\n",
        "# Print the results\n",
        "print(\"Sample 1 mean:\", np.mean(sample1))\n",
        "print(\"Sample 2 mean:\", np.mean(sample2))\n",
        "print(\"T-statistic:\", t_stat)\n",
        "print(\"P-value:\", p_val)\n"
      ],
      "metadata": {
        "colab": {
          "base_uri": "https://localhost:8080/"
        },
        "id": "RiCzj2vZc12R",
        "outputId": "b822b6d0-9250-45ec-d276-270ea24ef913"
      },
      "execution_count": 4,
      "outputs": [
        {
          "output_type": "stream",
          "name": "stdout",
          "text": [
            "Sample 1 mean: 9.809737377521056\n",
            "Sample 2 mean: 10.732815817985188\n",
            "T-statistic: -3.5080268131016004\n",
            "P-value: 0.0005586333888756872\n"
          ]
        }
      ]
    },
    {
      "cell_type": "markdown",
      "source": [
        "Student's t-distribution, also known as the t-distribution, is a probability distribution that arises when estimating the population mean of a normally distributed random variable from a small sample size. It is similar to the standard normal distribution, but it has heavier tails and is less peaked. The shape of the t-distribution depends on the sample size and is characterized by a parameter known as the degrees of freedom.\n",
        "\n",
        "The t-distribution is used in hypothesis testing and confidence interval estimation when the population standard deviation is unknown and must be estimated from the sample data. Specifically, when the sample size is small (less than 30) or the population standard deviation is unknown, the t-distribution should be used instead of the standard normal distribution. The t-distribution is also used when comparing means from two independent samples, such as in the two-sample t-test.\n",
        "\n",
        "In summary, the t-distribution is a probability distribution that is used when estimating the population mean from a small sample size or when the population standard deviation is unknown. It is an important tool in statistical inference, specifically in hypothesis testing and confidence interval estimation."
      ],
      "metadata": {
        "id": "g5Y1oKzAc8mW"
      }
    },
    {
      "cell_type": "markdown",
      "source": [
        "In statistics, the t-statistic (also known as the Student's t-statistic) is a measure of how many standard errors the sample mean is away from the null hypothesis population mean. It is used in hypothesis testing to determine whether there is a significant difference between the sample mean and the hypothesized population mean.\n",
        "\n",
        "The formula for the t-statistic is:\n",
        "\n",
        "t = (x̄ - μ) / (s / sqrt(n))\n",
        "\n",
        "where:\n",
        "\n",
        "x̄ = sample mean\n",
        "μ = hypothesized population mean (null hypothesis)\n",
        "s = sample standard deviation\n",
        "n = sample size\n",
        "\n",
        "The t-statistic tells us how many standard errors the sample mean is away from the hypothesized population mean. If the absolute value of the t-statistic is large (i.e., greater than the critical value of the t-distribution for the desired significance level), we reject the null hypothesis and conclude that the sample mean is significantly different from the hypothesized population mean. If the absolute value of the t-statistic is small (i.e., less than the critical value of the t-distribution for the desired significance level), we fail to reject the null hypothesis and conclude that there is not enough evidence to support the alternative hypothesis."
      ],
      "metadata": {
        "id": "nTxQm3LZc_js"
      }
    },
    {
      "cell_type": "markdown",
      "source": [
        "To estimate the population mean revenue with a 95% confidence interval, we can use the following formula:\n",
        "\n",
        "Confidence interval = sample mean +/- margin of error\n",
        "\n",
        "where the margin of error is given by:\n",
        "\n",
        "Margin of error = critical value * standard error\n",
        "\n",
        "The critical value is obtained from the t-distribution table with a degrees of freedom of 49 (n-1), a confidence level of 95%, and a two-tailed test. From the table, the critical value is 2.009.\n",
        "\n",
        "The standard error can be calculated as:\n",
        "\n",
        "Standard error = standard deviation / sqrt(n)\n",
        "\n",
        "where n is the sample size. Plugging in the given values, we get:\n",
        "\n",
        "Standard error = 50 / sqrt(50) = 7.071\n",
        "\n",
        "Thus, the margin of error is:\n",
        "\n",
        "Margin of error = 2.009 * 7.071 = 14.214\n",
        "\n",
        "Finally, we can calculate the 95% confidence interval as:\n",
        "\n",
        "Confidence interval = 500 +/- 14.214 = (485.786, 514.214)\n",
        "\n",
        "Therefore, we can be 95% confident that the true population mean revenue lies within the interval of $485.786 to $514.214."
      ],
      "metadata": {
        "id": "lY_0RFQfdEUg"
      }
    },
    {
      "cell_type": "markdown",
      "source": [
        "To test the hypothesis that the new drug decreases blood pressure by 10 mmHg, we can use a one-sample t-test with the following null and alternative hypotheses:\n",
        "\n",
        "H0: µ = 10 (the drug does not decrease blood pressure by 10 mmHg)\n",
        "Ha: µ < 10 (the drug decreases blood pressure by less than 10 mmHg)\n",
        "\n",
        "where µ is the true population mean decrease in blood pressure.\n",
        "\n",
        "Using a significance level of 0.05, we can calculate the test statistic as:\n",
        "\n",
        "t = (x̄ - µ) / (s / sqrt(n))\n",
        "\n",
        "where x̄ is the sample mean decrease in blood pressure, s is the sample standard deviation, and n is the sample size.\n",
        "\n",
        "Plugging in the given values, we get:\n",
        "\n",
        "t = (8 - 10) / (3 / sqrt(100)) = -4.472\n",
        "\n",
        "Using a t-distribution table with degrees of freedom (df) = n-1 = 99 and a significance level of 0.05 for a one-tailed test (since Ha is one-tailed), we can find the critical t-value. At a significance level of 0.05, the critical t-value with 99 degrees of freedom is -1.660.\n",
        "\n",
        "Since our calculated t-value is less than the critical t-value, we reject the null hypothesis and conclude that there is enough evidence to suggest that the drug decreases blood pressure by less than 10 mmHg at a significance level of 0.05."
      ],
      "metadata": {
        "id": "4h4ws5eodIkH"
      }
    },
    {
      "cell_type": "markdown",
      "source": [
        "To test the hypothesis that the true mean weight of the products is less than 5 pounds, we can use a one-sample t-test with the following null and alternative hypotheses:\n",
        "\n",
        "H0: µ ≥ 5 (the true mean weight of the products is greater than or equal to 5 pounds)\n",
        "Ha: µ < 5 (the true mean weight of the products is less than 5 pounds)\n",
        "\n",
        "where µ is the true population mean weight of the products.\n",
        "\n",
        "Using a significance level of 0.01, we can calculate the test statistic as:\n",
        "\n",
        "t = (x̄ - µ) / (s / sqrt(n))\n",
        "\n",
        "where x̄ is the sample mean weight, s is the sample standard deviation, and n is the sample size.\n",
        "\n",
        "Plugging in the given values, we get:\n",
        "\n",
        "t = (4.8 - 5) / (0.5 / sqrt(25)) = -2\n",
        "\n",
        "Using a t-distribution table with degrees of freedom (df) = n-1 = 24 and a significance level of 0.01 for a one-tailed test (since Ha is one-tailed), we can find the critical t-value. At a significance level of 0.01, the critical t-value with 24 degrees of freedom is -2.492.\n",
        "\n",
        "Since our calculated t-value is greater than the critical t-value, we fail to reject the null hypothesis and conclude that there is not enough evidence to suggest that the true mean weight of the products is less than 5 pounds at a significance level of 0.01."
      ],
      "metadata": {
        "id": "7O9WVJXNdNSZ"
      }
    },
    {
      "cell_type": "markdown",
      "source": [
        "To test the hypothesis that the population means for the two groups are equal, we can use a two-sample t-test with the following null and alternative hypotheses:\n",
        "\n",
        "H0: µ1 = µ2 (the population means for the two groups are equal)\n",
        "Ha: µ1 ≠ µ2 (the population means for the two groups are not equal)\n",
        "\n",
        "where µ1 is the population mean score for the first group and µ2 is the population mean score for the second group.\n",
        "\n",
        "Using a significance level of 0.01, we can calculate the test statistic as:\n",
        "\n",
        "t = (x̄1 - x̄2) / sqrt((s1^2 / n1) + (s2^2 / n2))\n",
        "\n",
        "where x̄1 and x̄2 are the sample means for the first and second groups, respectively, s1 and s2 are the sample standard deviations for the first and second groups, and n1 and n2 are the sample sizes for the first and second groups.\n",
        "\n",
        "Plugging in the given values, we get:\n",
        "\n",
        "t = (80 - 75) / sqrt((10^2 / 30) + (8^2 / 40)) = 2.52\n",
        "\n",
        "Using a t-distribution table with degrees of freedom (df) = (n1 + n2 - 2) = (30 + 40 - 2) = 68 and a significance level of 0.01 for a two-tailed test, we can find the critical t-value. At a significance level of 0.01 with 68 degrees of freedom, the critical t-value is ±2.625.\n",
        "\n",
        "Since our calculated t-value of 2.52 is less than the critical t-value of ±2.625, we fail to reject the null hypothesis and conclude that there is not enough evidence to suggest that the population means for the two groups are different at a significance level of 0.01."
      ],
      "metadata": {
        "id": "mXiW2StudQpH"
      }
    },
    {
      "cell_type": "markdown",
      "source": [
        "To estimate the population mean number of ads watched by viewers during a TV program with a 99% confidence interval, we can use the following formula:\n",
        "\n",
        "CI = x̄ ± t*(s / sqrt(n))\n",
        "\n",
        "where CI is the confidence interval, x̄ is the sample mean, s is the sample standard deviation, n is the sample size, and t is the critical t-value from the t-distribution table for the desired level of confidence and degrees of freedom (df = n - 1).\n",
        "\n",
        "Using a 99% confidence level, we need to find the t-value with df = 49 (since n = 50 - the sample size). Looking up the t-distribution table, we find the t-value to be 2.68 (rounding to two decimal places).\n",
        "\n",
        "Substituting the given values, we get:\n",
        "\n",
        "CI = 4 ± 2.68*(1.5 / sqrt(50))\n",
        "\n",
        "Simplifying the expression, we get:\n",
        "\n",
        "CI = 4 ± 0.66\n",
        "\n",
        "Therefore, the 99% confidence interval for the population mean number of ads watched by viewers during a TV program is (3.34, 4.66). We can be 99% confident that the true population mean falls within this interval."
      ],
      "metadata": {
        "id": "xGpZixlUdUd4"
      }
    },
    {
      "cell_type": "code",
      "source": [],
      "metadata": {
        "id": "qGHyJxhIc4l8"
      },
      "execution_count": null,
      "outputs": []
    }
  ]
}