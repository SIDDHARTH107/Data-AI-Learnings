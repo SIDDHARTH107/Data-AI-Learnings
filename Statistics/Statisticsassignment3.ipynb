{
  "nbformat": 4,
  "nbformat_minor": 0,
  "metadata": {
    "colab": {
      "provenance": []
    },
    "kernelspec": {
      "name": "python3",
      "display_name": "Python 3"
    },
    "language_info": {
      "name": "python"
    }
  },
  "cells": [
    {
      "cell_type": "markdown",
      "source": [
        "# The probability density function (PDF) is a function used in probability theory to describe the probability distribution of a continuous random variable.\n",
        "\n",
        "# Specifically, the PDF describes the relative likelihood of a random variable taking on a particular value or range of values. It is defined as the derivative of the cumulative distribution function (CDF) with respect to the variable of interest.\n",
        "\n",
        "# The PDF can be used to calculate the probability of a random variable falling within a certain range of values. To do this, we integrate the PDF over the range of interest. The resulting value gives us the probability of the random variable falling within that range."
      ],
      "metadata": {
        "id": "79KcMl1IpM6g"
      }
    },
    {
      "cell_type": "markdown",
      "source": [
        "# There are several types of probability distributions, including:\n",
        "\n",
        "# Bernoulli distribution: a discrete probability distribution that represents the probability of a single trial with two possible outcomes, usually labeled as success or failure.\n",
        "\n",
        "# Binomial distribution: a discrete probability distribution that represents the probability of a certain number of successes in a fixed number of independent trials with two possible outcomes.\n",
        "\n",
        "# Poisson distribution: a discrete probability distribution that represents the probability of a certain number of events occurring within a fixed interval of time or space, given the average rate of occurrence.\n",
        "\n",
        "# Uniform distribution: a continuous probability distribution where each value within a specified range is equally likely to occur.\n",
        "\n",
        "# Normal distribution: a continuous probability distribution that is often used to model real-world phenomena, where data tends to cluster around a central value with a symmetrical, bell-shaped curve."
      ],
      "metadata": {
        "id": "e3Cl2QZjpVOw"
      }
    },
    {
      "cell_type": "code",
      "source": [
        "from scipy.stats import norm\n",
        "\n",
        "def normal_pdf(x, mu, sigma):\n",
        "    \"\"\"\n",
        "    Calculates the probability density function of a normal distribution at a given point.\n",
        "    \n",
        "    Args:\n",
        "        x (float): The point at which to calculate the PDF.\n",
        "        mu (float): The mean of the normal distribution.\n",
        "        sigma (float): The standard deviation of the normal distribution.\n",
        "        \n",
        "    Returns:\n",
        "        float: The probability density at the given point.\n",
        "    \"\"\"\n",
        "    return norm.pdf(x, loc=mu, scale=sigma)\n"
      ],
      "metadata": {
        "id": "p81zdJR6pP6N"
      },
      "execution_count": 1,
      "outputs": []
    },
    {
      "cell_type": "code",
      "source": [
        "pdf_at_1 = normal_pdf(1, 0, 1)\n",
        "print(pdf_at_1)\n"
      ],
      "metadata": {
        "colab": {
          "base_uri": "https://localhost:8080/"
        },
        "id": "aCgUSKKIpbiS",
        "outputId": "2e3673a1-b8fc-4f4c-930e-34198cd061ee"
      },
      "execution_count": 2,
      "outputs": [
        {
          "output_type": "stream",
          "name": "stdout",
          "text": [
            "0.24197072451914337\n"
          ]
        }
      ]
    },
    {
      "cell_type": "markdown",
      "source": [
        "# The binomial distribution has several important properties:\n",
        "\n",
        "It is a discrete probability distribution that represents the number of successes in a fixed number of independent trials, where each trial has two possible outcomes (success or failure).\n",
        "\n",
        "The trials are assumed to be independent, meaning the outcome of one trial does not affect the outcome of any other trial.\n",
        "\n",
        "The probability of success is constant across all trials.\n",
        "\n",
        "The number of trials is fixed and known in advance.\n",
        "\n",
        "The distribution is characterized by two parameters: the probability of success (p) and the number of trials (n)."
      ],
      "metadata": {
        "id": "l6hxJK3npmgd"
      }
    },
    {
      "cell_type": "markdown",
      "source": [
        "# Examples of events where the binomial distribution can be applied include:\n",
        "\n",
        "# Flipping a coin: In this case, the probability of getting heads (or tails) is fixed at 0.5 for each flip, and the number of flips is known in advance. The binomial distribution can be used to calculate the probability of getting a certain number of heads (or tails) in the given number of flips."
      ],
      "metadata": {
        "id": "3Qt8O8vGpp9i"
      }
    },
    {
      "cell_type": "code",
      "source": [
        "import numpy as np\n",
        "import matplotlib.pyplot as plt\n",
        "\n",
        "# Set the parameters\n",
        "n = 1000    # sample size\n",
        "p = 0.4     # probability of success\n",
        "\n",
        "# Generate the random sample\n",
        "sample = np.random.binomial(n, p, size=1000)\n",
        "\n",
        "# Plot the histogram\n",
        "plt.hist(sample, bins=20, density=True, alpha=0.6, color='b')\n",
        "\n",
        "# Add labels and title\n",
        "plt.xlabel('Number of successes')\n",
        "plt.ylabel('Probability density')\n",
        "plt.title('Histogram of Binomial Distribution')\n",
        "\n",
        "# Show the plot\n",
        "plt.show()\n"
      ],
      "metadata": {
        "colab": {
          "base_uri": "https://localhost:8080/",
          "height": 472
        },
        "id": "IogZrpolpiKR",
        "outputId": "dfb4db0a-35c7-47f3-9f17-56e06d642a6c"
      },
      "execution_count": 3,
      "outputs": [
        {
          "output_type": "display_data",
          "data": {
            "text/plain": [
              "<Figure size 640x480 with 1 Axes>"
            ],
            "image/png": "[encoded data removed]"
          },
          "metadata": {}
        }
      ]
    },
    {
      "cell_type": "code",
      "source": [
        "from scipy.stats import poisson\n",
        "\n",
        "def poisson_cdf(x, mu):\n",
        "    \"\"\"\n",
        "    Calculates the cumulative distribution function of a Poisson distribution at a given point.\n",
        "    \n",
        "    Args:\n",
        "        x (int): The point at which to calculate the CDF.\n",
        "        mu (float): The mean of the Poisson distribution.\n",
        "        \n",
        "    Returns:\n",
        "        float: The cumulative probability up to the given point.\n",
        "    \"\"\"\n",
        "    return poisson.cdf(x, mu)\n"
      ],
      "metadata": {
        "id": "2MbWbAL2pxDf"
      },
      "execution_count": 4,
      "outputs": []
    },
    {
      "cell_type": "code",
      "source": [
        "cdf_up_to_3 = poisson_cdf(3, 2)\n",
        "print(cdf_up_to_3)\n"
      ],
      "metadata": {
        "colab": {
          "base_uri": "https://localhost:8080/"
        },
        "id": "tNgNJUPkpznw",
        "outputId": "d32040a2-e622-4d0b-8983-9320bcfb9afd"
      },
      "execution_count": 5,
      "outputs": [
        {
          "output_type": "stream",
          "name": "stdout",
          "text": [
            "0.857123460498547\n"
          ]
        }
      ]
    },
    {
      "cell_type": "markdown",
      "source": [
        "# Binomial and Poisson distributions are both discrete probability distributions, but they differ in several ways:\n",
        "\n",
        "# The Binomial distribution models the number of successes in a fixed number of trials with a constant probability of success, whereas the Poisson distribution models the number of events in a fixed interval of time or space.\n",
        "\n",
        "# In the Binomial distribution, the number of trials is fixed and known in advance, whereas in the Poisson distribution, the interval of time or space is fixed but the number of events is not known in advance.\n",
        "\n",
        "# The Binomial distribution assumes that the trials are independent and the probability of success is constant across all trials, whereas the Poisson distribution assumes that the events are independent and occur at a constant rate over the interval.\n",
        "\n",
        "# The Binomial distribution is characterized by two parameters: the number of trials and the probability of success, whereas the Poisson distribution is characterized by one parameter: the rate of events."
      ],
      "metadata": {
        "id": "UW0Jk9bfp7F4"
      }
    },
    {
      "cell_type": "code",
      "source": [
        "import numpy as np\n",
        "\n",
        "# Set the parameters\n",
        "n = 1000   # sample size\n",
        "mu = 5    # mean of Poisson distribution\n",
        "\n",
        "# Generate the random sample\n",
        "sample = np.random.poisson(mu, size=n)\n",
        "\n",
        "# Calculate the sample mean and variance\n",
        "sample_mean = np.mean(sample)\n",
        "sample_var = np.var(sample, ddof=1)   # use ddof=1 for sample variance\n",
        "\n",
        "# Print the results\n",
        "print(\"Sample Mean:\", sample_mean)\n",
        "print(\"Sample Variance:\", sample_var)\n"
      ],
      "metadata": {
        "colab": {
          "base_uri": "https://localhost:8080/"
        },
        "id": "xBvjWT9Rp1SO",
        "outputId": "263415e4-7166-4cef-ccc8-fe3d8eb05478"
      },
      "execution_count": 6,
      "outputs": [
        {
          "output_type": "stream",
          "name": "stdout",
          "text": [
            "Sample Mean: 5.03\n",
            "Sample Variance: 5.066166166166166\n"
          ]
        }
      ]
    },
    {
      "cell_type": "markdown",
      "source": [
        "# In a normal distribution, the least frequent data appears in the tails of the distribution, which are located at the extremes of the range of possible values. Specifically, the least frequent data appear in the tails that are farthest from the mean of the distribution.\n",
        "\n",
        "# In a normal distribution, about 68% of the data falls within one standard deviation of the mean, about 95% falls within two standard deviations of the mean, and about 99.7% falls within three standard deviations of the mean. This means that only a small percentage of the data falls in the tails of the distribution, and the farther away from the mean the tail is, the less frequent the data in that tail.\n",
        "\n",
        "# For example, in a normal distribution with mean 0 and standard deviation 1, the least frequent data appear in the tails that are farther than 3 standard deviations from the mean, which contain less than 0.3% of the total data."
      ],
      "metadata": {
        "id": "rfJAsXygqHpk"
      }
    },
    {
      "cell_type": "code",
      "source": [],
      "metadata": {
        "id": "QZgFLefEqClm"
      },
      "execution_count": null,
      "outputs": []
    }
  ]
}