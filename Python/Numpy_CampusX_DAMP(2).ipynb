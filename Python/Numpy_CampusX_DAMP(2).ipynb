{
  "nbformat": 4,
  "nbformat_minor": 0,
  "metadata": {
    "colab": {
      "provenance": []
    },
    "kernelspec": {
      "name": "python3",
      "display_name": "Python 3"
    },
    "language_info": {
      "name": "python"
    }
  },
  "cells": [
    {
      "cell_type": "code",
      "execution_count": null,
      "metadata": {
        "id": "WnX3dlonLjIM"
      },
      "outputs": [],
      "source": [
        "a = [1,2,3,4] #List\n",
        "b = (1,2,3,4) #Tuple"
      ]
    },
    {
      "cell_type": "code",
      "source": [
        "#Now for converting list to array, we need numpy library\n",
        "import numpy as np\n",
        "c = np.array(a)\n",
        "print(c)"
      ],
      "metadata": {
        "colab": {
          "base_uri": "https://localhost:8080/"
        },
        "id": "PmqiYyM7L7zV",
        "outputId": "a6d06073-6670-4550-f039-ae9b608237fe"
      },
      "execution_count": null,
      "outputs": [
        {
          "output_type": "stream",
          "name": "stdout",
          "text": [
            "[1 2 3 4]\n"
          ]
        }
      ]
    },
    {
      "cell_type": "code",
      "source": [
        "print(type(c))"
      ],
      "metadata": {
        "colab": {
          "base_uri": "https://localhost:8080/"
        },
        "id": "Sqkf_NeYMInr",
        "outputId": "c781d416-6aa0-4af5-e6b0-3ef3d5794915"
      },
      "execution_count": null,
      "outputs": [
        {
          "output_type": "stream",
          "name": "stdout",
          "text": [
            "<class 'numpy.ndarray'>\n"
          ]
        }
      ]
    },
    {
      "cell_type": "code",
      "source": [
        "#Similarly, for tuple\n",
        "d = np.array(b)\n",
        "print(d)\n",
        "print(type(d))"
      ],
      "metadata": {
        "colab": {
          "base_uri": "https://localhost:8080/"
        },
        "id": "oIs_6tugMLbF",
        "outputId": "b9d36a95-3c7c-404d-abc8-cdf5d57c90b9"
      },
      "execution_count": null,
      "outputs": [
        {
          "output_type": "stream",
          "name": "stdout",
          "text": [
            "[1 2 3 4]\n",
            "<class 'numpy.ndarray'>\n"
          ]
        }
      ]
    },
    {
      "cell_type": "markdown",
      "source": [
        "Remember, array does not contain any comma (,) where as in list, tuple, etc. you will find array."
      ],
      "metadata": {
        "id": "WuRMRqVTMchZ"
      }
    },
    {
      "cell_type": "code",
      "source": [
        "#Shape of the array\n",
        "print(c.shape)"
      ],
      "metadata": {
        "colab": {
          "base_uri": "https://localhost:8080/"
        },
        "id": "oBm3Wr2GMXEh",
        "outputId": "96f895e7-fdec-4da5-e50a-ea330d04b3d3"
      },
      "execution_count": null,
      "outputs": [
        {
          "output_type": "stream",
          "name": "stdout",
          "text": [
            "(4,)\n"
          ]
        }
      ]
    },
    {
      "cell_type": "markdown",
      "source": [
        "4 rows, 0 columns (it's in 1 Dimension)"
      ],
      "metadata": {
        "id": "TyrVyulENagu"
      }
    },
    {
      "cell_type": "code",
      "source": [
        "#ndim tells dimension of array\n",
        "print(c.ndim)\n",
        "print(d.ndim)"
      ],
      "metadata": {
        "colab": {
          "base_uri": "https://localhost:8080/"
        },
        "id": "GGk3jIL_NZD5",
        "outputId": "64f1fd30-a6fd-467e-d3a5-cd57776a4fb4"
      },
      "execution_count": null,
      "outputs": [
        {
          "output_type": "stream",
          "name": "stdout",
          "text": [
            "1\n",
            "1\n"
          ]
        }
      ]
    },
    {
      "cell_type": "markdown",
      "source": [
        "These arrays are 1 dimension, so it's showing 1"
      ],
      "metadata": {
        "id": "qGMBfeChNvsF"
      }
    },
    {
      "cell_type": "code",
      "source": [
        "#reshape changes the shape of the array\n",
        "e = c.reshape(2,2)\n",
        "print(e)\n",
        "print(e.ndim)\n",
        "print(e.shape)"
      ],
      "metadata": {
        "colab": {
          "base_uri": "https://localhost:8080/"
        },
        "id": "kkJDAheCNrQ1",
        "outputId": "7a29eca7-3e41-4e00-e6a9-068a37371806"
      },
      "execution_count": null,
      "outputs": [
        {
          "output_type": "stream",
          "name": "stdout",
          "text": [
            "[[1 2]\n",
            " [3 4]]\n",
            "2\n",
            "(2, 2)\n"
          ]
        }
      ]
    },
    {
      "cell_type": "markdown",
      "source": [
        "Syntax fof reshape() is reshape(no of rows, no of columns)"
      ],
      "metadata": {
        "id": "8DIS6GcROQHm"
      }
    },
    {
      "cell_type": "markdown",
      "source": [
        "Remember, array treats set as a single element. So, there is no dimension. It will be zero dimemsion."
      ],
      "metadata": {
        "id": "PKMMnVu0RPTL"
      }
    },
    {
      "cell_type": "code",
      "source": [
        "try:\n",
        "  f = {1,2,3,4}\n",
        "  g = np.array(f)\n",
        "  print(g)\n",
        "  print(type(g))\n",
        "  print(g.reshape(2,2))\n",
        "\n",
        "except:\n",
        "  print(\"ValueError: cannot reshape array of size 1 into shape (2,2)\")"
      ],
      "metadata": {
        "colab": {
          "base_uri": "https://localhost:8080/"
        },
        "id": "qIzT-UmKOBRq",
        "outputId": "03fb352a-9939-4184-e281-9f433d7e728a"
      },
      "execution_count": null,
      "outputs": [
        {
          "output_type": "stream",
          "name": "stdout",
          "text": [
            "{1, 2, 3, 4}\n",
            "<class 'numpy.ndarray'>\n",
            "ValueError: cannot reshape array of size 1 into shape (2,2)\n"
          ]
        }
      ]
    },
    {
      "cell_type": "code",
      "source": [
        "print(g)\n",
        "print(type(g))\n",
        "print(g.ndim)\n",
        "print(g.shape)"
      ],
      "metadata": {
        "colab": {
          "base_uri": "https://localhost:8080/"
        },
        "id": "dYniwlPNRhEO",
        "outputId": "2487a6f5-5b85-4b1d-8eb2-c2889e66ba9a"
      },
      "execution_count": null,
      "outputs": [
        {
          "output_type": "stream",
          "name": "stdout",
          "text": [
            "{1, 2, 3, 4}\n",
            "<class 'numpy.ndarray'>\n",
            "0\n",
            "()\n"
          ]
        }
      ]
    },
    {
      "cell_type": "markdown",
      "source": [
        "## 2D Array"
      ],
      "metadata": {
        "id": "9tbptDhFSLnV"
      }
    },
    {
      "cell_type": "code",
      "source": [
        "np.array([[1,2,3],[4,5,6]])"
      ],
      "metadata": {
        "colab": {
          "base_uri": "https://localhost:8080/"
        },
        "id": "XznRL8Y5R5HP",
        "outputId": "eb9f4171-1271-49f7-83ae-1bedc021f99e"
      },
      "execution_count": null,
      "outputs": [
        {
          "output_type": "execute_result",
          "data": {
            "text/plain": [
              "array([[1, 2, 3],\n",
              "       [4, 5, 6]])"
            ]
          },
          "metadata": {},
          "execution_count": 17
        }
      ]
    },
    {
      "cell_type": "code",
      "source": [
        "a = np.array([[1,2,3],[4,5,6]])\n",
        "print(a)\n",
        "print(a.ndim)\n",
        "print(a.shape)"
      ],
      "metadata": {
        "colab": {
          "base_uri": "https://localhost:8080/"
        },
        "id": "7Z_WheoESUBh",
        "outputId": "07131c03-02f8-44f8-c02d-54117f210cf4"
      },
      "execution_count": null,
      "outputs": [
        {
          "output_type": "stream",
          "name": "stdout",
          "text": [
            "[[1 2 3]\n",
            " [4 5 6]]\n",
            "2\n",
            "(2, 3)\n"
          ]
        }
      ]
    },
    {
      "cell_type": "code",
      "source": [
        "a.dtype"
      ],
      "metadata": {
        "colab": {
          "base_uri": "https://localhost:8080/"
        },
        "id": "sFOeOBJFSdvv",
        "outputId": "51181d37-7c80-4e78-cfd2-3ac90631b8e4"
      },
      "execution_count": null,
      "outputs": [
        {
          "output_type": "execute_result",
          "data": {
            "text/plain": [
              "dtype('int64')"
            ]
          },
          "metadata": {},
          "execution_count": 22
        }
      ]
    },
    {
      "cell_type": "code",
      "source": [
        "#I need float type array or object type array\n",
        "a = np.array([[1,2,3],[4,5,6]],\n",
        "             dtype = 'float')\n",
        "print(a)\n",
        "print(a.ndim)\n",
        "print(a.shape)\n",
        "\n",
        "b = np.array([[1,2,3],[4,5,6]],\n",
        "             dtype = 'object')\n",
        "print(b)\n",
        "print(b.ndim)\n",
        "print(b.shape)"
      ],
      "metadata": {
        "colab": {
          "base_uri": "https://localhost:8080/"
        },
        "id": "62kEblbmS5u1",
        "outputId": "e7e0f007-cd5f-49bb-a5b5-0f187c25bf5f"
      },
      "execution_count": null,
      "outputs": [
        {
          "output_type": "stream",
          "name": "stdout",
          "text": [
            "[[1. 2. 3.]\n",
            " [4. 5. 6.]]\n",
            "2\n",
            "(2, 3)\n",
            "[[1 2 3]\n",
            " [4 5 6]]\n",
            "2\n",
            "(2, 3)\n"
          ]
        }
      ]
    },
    {
      "cell_type": "code",
      "source": [
        "b.dtype"
      ],
      "metadata": {
        "id": "G8v9WblMTROf",
        "outputId": "b059801b-7cd1-4579-daed-dadeec14355c",
        "colab": {
          "base_uri": "https://localhost:8080/"
        }
      },
      "execution_count": null,
      "outputs": [
        {
          "output_type": "execute_result",
          "data": {
            "text/plain": [
              "dtype('O')"
            ]
          },
          "metadata": {},
          "execution_count": 24
        }
      ]
    },
    {
      "cell_type": "code",
      "source": [
        "# Forming array using inbuild functions"
      ],
      "metadata": {
        "id": "D7C1nzhbTV1g"
      },
      "execution_count": 1,
      "outputs": []
    },
    {
      "cell_type": "code",
      "source": [
        "# Arange function\n",
        "import numpy as np\n",
        "print(np.arange(1,11))\n",
        "print(np.arange(10))\n",
        "print(np.arange(10, dtype='int64'))"
      ],
      "metadata": {
        "colab": {
          "base_uri": "https://localhost:8080/"
        },
        "id": "a6ua3_WM4NH7",
        "outputId": "605a45f2-e3f1-47fb-d6e5-dbb799648f05"
      },
      "execution_count": 5,
      "outputs": [
        {
          "output_type": "stream",
          "name": "stdout",
          "text": [
            "[ 1  2  3  4  5  6  7  8  9 10]\n",
            "[0 1 2 3 4 5 6 7 8 9]\n",
            "[0 1 2 3 4 5 6 7 8 9]\n"
          ]
        }
      ]
    },
    {
      "cell_type": "code",
      "source": [
        "a = np.arange(10, dtype='int64')\n",
        "print(a.reshape(5,2))"
      ],
      "metadata": {
        "colab": {
          "base_uri": "https://localhost:8080/"
        },
        "id": "A5xY7uOo4Y43",
        "outputId": "ad379e71-33cf-4ec0-a178-57f68cb6f0e8"
      },
      "execution_count": 6,
      "outputs": [
        {
          "output_type": "stream",
          "name": "stdout",
          "text": [
            "[[0 1]\n",
            " [2 3]\n",
            " [4 5]\n",
            " [6 7]\n",
            " [8 9]]\n"
          ]
        }
      ]
    },
    {
      "cell_type": "code",
      "source": [
        "a = np.arange(10, dtype='int64')\n",
        "print(a.reshape(2,5))"
      ],
      "metadata": {
        "colab": {
          "base_uri": "https://localhost:8080/"
        },
        "id": "85puYwkg4_t1",
        "outputId": "5127571f-c129-402e-e228-ee4eb2598056"
      },
      "execution_count": 7,
      "outputs": [
        {
          "output_type": "stream",
          "name": "stdout",
          "text": [
            "[[0 1 2 3 4]\n",
            " [5 6 7 8 9]]\n"
          ]
        }
      ]
    },
    {
      "cell_type": "code",
      "source": [
        "# Identity matrix\n",
        "a = np.identity(5, dtype='object')\n",
        "print(a)"
      ],
      "metadata": {
        "colab": {
          "base_uri": "https://localhost:8080/"
        },
        "id": "_XadG7Re5GI2",
        "outputId": "9911c7b1-bbb1-4ad2-d3c5-c25cd2459df5"
      },
      "execution_count": 8,
      "outputs": [
        {
          "output_type": "stream",
          "name": "stdout",
          "text": [
            "[[1 0 0 0 0]\n",
            " [0 1 0 0 0]\n",
            " [0 0 1 0 0]\n",
            " [0 0 0 1 0]\n",
            " [0 0 0 0 1]]\n"
          ]
        }
      ]
    },
    {
      "cell_type": "code",
      "source": [
        "# Random matrix\n",
        "b = np.random.random((3,3))"
      ],
      "metadata": {
        "id": "ow8jj22V5ndT"
      },
      "execution_count": 10,
      "outputs": []
    },
    {
      "cell_type": "code",
      "source": [
        "print(b)"
      ],
      "metadata": {
        "colab": {
          "base_uri": "https://localhost:8080/"
        },
        "id": "edi87wkb50fw",
        "outputId": "5f73a42f-9de9-4007-b4f4-124bbb099250"
      },
      "execution_count": 11,
      "outputs": [
        {
          "output_type": "stream",
          "name": "stdout",
          "text": [
            "[[0.42640624 0.62361161 0.24229492]\n",
            " [0.88143879 0.75633482 0.88599466]\n",
            " [0.24923723 0.46668818 0.32756624]]\n"
          ]
        }
      ]
    },
    {
      "cell_type": "code",
      "source": [
        "# Random non decimal matrix\n",
        "np.random.randint(10)"
      ],
      "metadata": {
        "colab": {
          "base_uri": "https://localhost:8080/"
        },
        "id": "aLfkwyS654Qh",
        "outputId": "ff1d585f-fd14-466c-8a21-85dc66da75bd"
      },
      "execution_count": 13,
      "outputs": [
        {
          "output_type": "execute_result",
          "data": {
            "text/plain": [
              "5"
            ]
          },
          "metadata": {},
          "execution_count": 13
        }
      ]
    },
    {
      "cell_type": "code",
      "source": [],
      "metadata": {
        "id": "JmVErM2k58vJ"
      },
      "execution_count": null,
      "outputs": []
    }
  ]
}