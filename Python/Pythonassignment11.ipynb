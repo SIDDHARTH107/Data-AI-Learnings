{
  "nbformat": 4,
  "nbformat_minor": 0,
  "metadata": {
    "colab": {
      "provenance": []
    },
    "kernelspec": {
      "name": "python3",
      "display_name": "Python 3"
    },
    "language_info": {
      "name": "python"
    }
  },
  "cells": [
    {
      "cell_type": "markdown",
      "source": [
        "# In Python, an exception is an error that occurs during the execution of a program. When an exception occurs, Python raises an instance of an exception class that provides information about the error that occurred. Exception handling is the process of detecting and responding to exceptions that occur during the execution of a program.\n",
        "\n",
        "# The main differences between exceptions and syntax errors are:\n",
        "\n",
        "# Syntax errors occur when the code violates the rules of the Python language, such as missing a colon or using an incorrect keyword. These errors are detected by the Python interpreter when the code is parsed and compiled, and they prevent the code from running. Exceptions, on the other hand, occur during the execution of the code, when an error condition that is not anticipated by the programmer is encountered.\n",
        "\n",
        "# Syntax errors are typically easier to fix than exceptions because they usually indicate a specific problem with the code, such as a missing or misplaced character. Exceptions can be more difficult to diagnose and fix because they can be caused by a wide range of problems, including incorrect input, invalid data, or unexpected behavior.\n",
        "\n",
        "# Syntax errors always result in the termination of the program, while exceptions can be handled by the program and the program can continue to run."
      ],
      "metadata": {
        "id": "pR_MxHiekhYG"
      }
    },
    {
      "cell_type": "markdown",
      "source": [
        "# When an exception is not handled in Python, it propagates up the call stack until it reaches the top-level of the program, where it causes the program to terminate and print an error message that includes the type of the exception, the message associated with the exception, and a traceback that shows the call stack at the point where the exception occurred."
      ],
      "metadata": {
        "id": "4WOj9ipOlALt"
      }
    },
    {
      "cell_type": "code",
      "source": [
        "def divide_by_zero():\n",
        "    x = 1 / 0\n",
        "\n",
        "def call_divide_by_zero():\n",
        "    divide_by_zero()\n",
        "\n",
        "call_divide_by_zero()\n"
      ],
      "metadata": {
        "colab": {
          "base_uri": "https://localhost:8080/",
          "height": 345
        },
        "id": "gRTyYY3rkrhz",
        "outputId": "26c6e843-50d2-4246-946a-de4670e38213"
      },
      "execution_count": 1,
      "outputs": [
        {
          "output_type": "error",
          "ename": "ZeroDivisionError",
          "evalue": "ignored",
          "traceback": [
            "\u001b[0;31m---------------------------------------------------------------------------\u001b[0m",
            "\u001b[0;31mZeroDivisionError\u001b[0m                         Traceback (most recent call last)",
            "\u001b[0;32m<ipython-input-1-70d40cf909cb>\u001b[0m in \u001b[0;36m<cell line: 7>\u001b[0;34m()\u001b[0m\n\u001b[1;32m      5\u001b[0m     \u001b[0mdivide_by_zero\u001b[0m\u001b[0;34m(\u001b[0m\u001b[0;34m)\u001b[0m\u001b[0;34m\u001b[0m\u001b[0;34m\u001b[0m\u001b[0m\n\u001b[1;32m      6\u001b[0m \u001b[0;34m\u001b[0m\u001b[0m\n\u001b[0;32m----> 7\u001b[0;31m \u001b[0mcall_divide_by_zero\u001b[0m\u001b[0;34m(\u001b[0m\u001b[0;34m)\u001b[0m\u001b[0;34m\u001b[0m\u001b[0;34m\u001b[0m\u001b[0m\n\u001b[0m",
            "\u001b[0;32m<ipython-input-1-70d40cf909cb>\u001b[0m in \u001b[0;36mcall_divide_by_zero\u001b[0;34m()\u001b[0m\n\u001b[1;32m      3\u001b[0m \u001b[0;34m\u001b[0m\u001b[0m\n\u001b[1;32m      4\u001b[0m \u001b[0;32mdef\u001b[0m \u001b[0mcall_divide_by_zero\u001b[0m\u001b[0;34m(\u001b[0m\u001b[0;34m)\u001b[0m\u001b[0;34m:\u001b[0m\u001b[0;34m\u001b[0m\u001b[0;34m\u001b[0m\u001b[0m\n\u001b[0;32m----> 5\u001b[0;31m     \u001b[0mdivide_by_zero\u001b[0m\u001b[0;34m(\u001b[0m\u001b[0;34m)\u001b[0m\u001b[0;34m\u001b[0m\u001b[0;34m\u001b[0m\u001b[0m\n\u001b[0m\u001b[1;32m      6\u001b[0m \u001b[0;34m\u001b[0m\u001b[0m\n\u001b[1;32m      7\u001b[0m \u001b[0mcall_divide_by_zero\u001b[0m\u001b[0;34m(\u001b[0m\u001b[0;34m)\u001b[0m\u001b[0;34m\u001b[0m\u001b[0;34m\u001b[0m\u001b[0m\n",
            "\u001b[0;32m<ipython-input-1-70d40cf909cb>\u001b[0m in \u001b[0;36mdivide_by_zero\u001b[0;34m()\u001b[0m\n\u001b[1;32m      1\u001b[0m \u001b[0;32mdef\u001b[0m \u001b[0mdivide_by_zero\u001b[0m\u001b[0;34m(\u001b[0m\u001b[0;34m)\u001b[0m\u001b[0;34m:\u001b[0m\u001b[0;34m\u001b[0m\u001b[0;34m\u001b[0m\u001b[0m\n\u001b[0;32m----> 2\u001b[0;31m     \u001b[0mx\u001b[0m \u001b[0;34m=\u001b[0m \u001b[0;36m1\u001b[0m \u001b[0;34m/\u001b[0m \u001b[0;36m0\u001b[0m\u001b[0;34m\u001b[0m\u001b[0;34m\u001b[0m\u001b[0m\n\u001b[0m\u001b[1;32m      3\u001b[0m \u001b[0;34m\u001b[0m\u001b[0m\n\u001b[1;32m      4\u001b[0m \u001b[0;32mdef\u001b[0m \u001b[0mcall_divide_by_zero\u001b[0m\u001b[0;34m(\u001b[0m\u001b[0;34m)\u001b[0m\u001b[0;34m:\u001b[0m\u001b[0;34m\u001b[0m\u001b[0;34m\u001b[0m\u001b[0m\n\u001b[1;32m      5\u001b[0m     \u001b[0mdivide_by_zero\u001b[0m\u001b[0;34m(\u001b[0m\u001b[0;34m)\u001b[0m\u001b[0;34m\u001b[0m\u001b[0;34m\u001b[0m\u001b[0m\n",
            "\u001b[0;31mZeroDivisionError\u001b[0m: division by zero"
          ]
        }
      ]
    },
    {
      "cell_type": "markdown",
      "source": [
        "# In this example, the divide_by_zero function attempts to divide 1 by 0, which raises a ZeroDivisionError exception. The call_divide_by_zero function calls divide_by_zero, but does not handle the exception that is raised."
      ],
      "metadata": {
        "id": "wRTvZQ_XlH2w"
      }
    },
    {
      "cell_type": "markdown",
      "source": [
        "# This output shows that the ZeroDivisionError exception propagated up the call stack until it reached the top-level of the program, where it caused the program to terminate and print the error message and traceback. If we had included a try-except block to handle the exception in the call_divide_by_zero function, the program would have continued to run and executed the code in the except block instead of terminating."
      ],
      "metadata": {
        "id": "jXmFbI1ulOZ5"
      }
    },
    {
      "cell_type": "markdown",
      "source": [
        "# In Python, the try and except statements are used to catch and handle exceptions.\n",
        "\n",
        "# The try statement encloses a block of code that may raise an exception. If an exception is raised in the try block, the Python interpreter jumps to the corresponding except block to handle the exception. The except block specifies the type of exception that it can handle, and contains code that is executed if the specified exception is raised."
      ],
      "metadata": {
        "id": "gahTNe_ilg-t"
      }
    },
    {
      "cell_type": "code",
      "source": [
        "def divide(x, y):\n",
        "    try:\n",
        "        result = x / y\n",
        "        print(\"Result:\", result)\n",
        "    except ZeroDivisionError:\n",
        "        print(\"Error: division by zero\")\n",
        "\n",
        "divide(10, 2)\n",
        "divide(10, 0)\n"
      ],
      "metadata": {
        "colab": {
          "base_uri": "https://localhost:8080/"
        },
        "id": "1R6UnXL-lKyI",
        "outputId": "99f2eebc-75d1-412a-dab2-db79b1e7ba47"
      },
      "execution_count": 3,
      "outputs": [
        {
          "output_type": "stream",
          "name": "stdout",
          "text": [
            "Result: 5.0\n",
            "Error: division by zero\n"
          ]
        }
      ]
    },
    {
      "cell_type": "markdown",
      "source": [
        "# In this example, the divide function takes two arguments, x and y, and attempts to divide x by y. The try block encloses the division operation and the print statement that displays the result of the division. The except block specifies that it can handle the ZeroDivisionError exception, which is raised if y is zero. If the exception is raised, the except block is executed and prints an error message.\n",
        "\n",
        "# This output shows that the first call to divide succeeded and printed the result of the division, while the second call to divide raised a ZeroDivisionError exception and executed the except block to print an error message."
      ],
      "metadata": {
        "id": "-dzwI6Vzlqeb"
      }
    },
    {
      "cell_type": "markdown",
      "source": [
        "# try and else:\n",
        "## The try and else statements are used together to handle exceptions and execute code when no exception occurs. The else block is executed only if no exception is raised in the try block."
      ],
      "metadata": {
        "id": "GsN91Xh8l8Hb"
      }
    },
    {
      "cell_type": "code",
      "source": [
        "try:\n",
        "    num1 = int(input(\"Enter a number: \"))\n",
        "    num2 = int(input(\"Enter another number: \"))\n",
        "    result = num1 / num2\n",
        "except ZeroDivisionError:\n",
        "    print(\"Error: division by zero\")\n",
        "else:\n",
        "    print(\"Result:\", result)\n"
      ],
      "metadata": {
        "colab": {
          "base_uri": "https://localhost:8080/"
        },
        "id": "Y-ISQ1pelmwM",
        "outputId": "ee071e81-fcd4-4a56-a5ee-059c52819674"
      },
      "execution_count": 4,
      "outputs": [
        {
          "output_type": "stream",
          "name": "stdout",
          "text": [
            "Enter a number: 55\n",
            "Enter another number: 34\n",
            "Result: 1.6176470588235294\n"
          ]
        }
      ]
    },
    {
      "cell_type": "markdown",
      "source": [
        "# finally:\n",
        "## The finally statement is used to specify a block of code that will be executed regardless of whether an exception is raised or not. The finally block is typically used to release resources or clean up after a block of code."
      ],
      "metadata": {
        "id": "8ml3FTQImF9U"
      }
    },
    {
      "cell_type": "code",
      "source": [
        "try:\n",
        "    file = open(\"example.txt\", \"r\")\n",
        "    contents = file.read()\n",
        "except IOError:\n",
        "    print(\"Error: could not read file\")\n",
        "else:\n",
        "    print(\"Contents:\", contents)\n",
        "finally:\n",
        "    file.close()\n"
      ],
      "metadata": {
        "colab": {
          "base_uri": "https://localhost:8080/",
          "height": 217
        },
        "id": "vvLlbYDvmAHj",
        "outputId": "eb83d795-04d2-4d21-e4fa-39d8b22870f6"
      },
      "execution_count": 5,
      "outputs": [
        {
          "output_type": "stream",
          "name": "stdout",
          "text": [
            "Error: could not read file\n"
          ]
        },
        {
          "output_type": "error",
          "ename": "NameError",
          "evalue": "ignored",
          "traceback": [
            "\u001b[0;31m---------------------------------------------------------------------------\u001b[0m",
            "\u001b[0;31mNameError\u001b[0m                                 Traceback (most recent call last)",
            "\u001b[0;32m<ipython-input-5-062941dc8ae0>\u001b[0m in \u001b[0;36m<cell line: 1>\u001b[0;34m()\u001b[0m\n\u001b[1;32m      7\u001b[0m     \u001b[0mprint\u001b[0m\u001b[0;34m(\u001b[0m\u001b[0;34m\"Contents:\"\u001b[0m\u001b[0;34m,\u001b[0m \u001b[0mcontents\u001b[0m\u001b[0;34m)\u001b[0m\u001b[0;34m\u001b[0m\u001b[0;34m\u001b[0m\u001b[0m\n\u001b[1;32m      8\u001b[0m \u001b[0;32mfinally\u001b[0m\u001b[0;34m:\u001b[0m\u001b[0;34m\u001b[0m\u001b[0;34m\u001b[0m\u001b[0m\n\u001b[0;32m----> 9\u001b[0;31m     \u001b[0mfile\u001b[0m\u001b[0;34m.\u001b[0m\u001b[0mclose\u001b[0m\u001b[0;34m(\u001b[0m\u001b[0;34m)\u001b[0m\u001b[0;34m\u001b[0m\u001b[0;34m\u001b[0m\u001b[0m\n\u001b[0m",
            "\u001b[0;31mNameError\u001b[0m: name 'file' is not defined"
          ]
        }
      ]
    },
    {
      "cell_type": "markdown",
      "source": [
        "# raise:\n",
        "## The raise statement is used to manually raise an exception in Python. This is often used when an error condition is detected in a program and the program needs to terminate or handle the error in a specific way."
      ],
      "metadata": {
        "id": "2tVrKt--mPqU"
      }
    },
    {
      "cell_type": "code",
      "source": [
        "def divide(x, y):\n",
        "    if y == 0:\n",
        "        raise ZeroDivisionError(\"Error: division by zero\")\n",
        "    else:\n",
        "        result = x / y\n",
        "        return result\n",
        "\n",
        "try:\n",
        "    num1 = int(input(\"Enter a number: \"))\n",
        "    num2 = int(input(\"Enter another number: \"))\n",
        "    result = divide(num1, num2)\n",
        "except ZeroDivisionError as e:\n",
        "    print(e)\n",
        "else:\n",
        "    print(\"Result:\", result)\n"
      ],
      "metadata": {
        "colab": {
          "base_uri": "https://localhost:8080/"
        },
        "id": "NFyLwneOmKyR",
        "outputId": "4f77f746-e3aa-49ed-f9ee-ef088e96d75f"
      },
      "execution_count": 6,
      "outputs": [
        {
          "output_type": "stream",
          "name": "stdout",
          "text": [
            "Enter a number: 34\n",
            "Enter another number: 0\n",
            "Error: division by zero\n"
          ]
        }
      ]
    },
    {
      "cell_type": "markdown",
      "source": [
        "# Custom Exceptions are user-defined exceptions in Python. They allow programmers to create their own exceptions that can be raised when a specific error condition occurs."
      ],
      "metadata": {
        "id": "wOrkPY-nmkjn"
      }
    },
    {
      "cell_type": "code",
      "source": [
        "class NegativeNumberError(Exception):\n",
        "    pass\n",
        "\n",
        "def square_root(n):\n",
        "    if n < 0:\n",
        "        raise NegativeNumberError(\"Error: cannot calculate the square root of a negative number\")\n",
        "    else:\n",
        "        return n ** 0.5\n",
        "\n",
        "try:\n",
        "    result = square_root(-4)\n",
        "except NegativeNumberError as e:\n",
        "    print(e)\n",
        "else:\n",
        "    print(\"Result:\", result)\n"
      ],
      "metadata": {
        "colab": {
          "base_uri": "https://localhost:8080/"
        },
        "id": "DNGZjlQQmVNC",
        "outputId": "d373e4d5-ff5d-4a8d-df1e-0fee4f8a7957"
      },
      "execution_count": 7,
      "outputs": [
        {
          "output_type": "stream",
          "name": "stdout",
          "text": [
            "Error: cannot calculate the square root of a negative number\n"
          ]
        }
      ]
    },
    {
      "cell_type": "markdown",
      "source": [
        "# In this example, we define a custom exception called NegativeNumberError that is raised when the user tries to calculate the square root of a negative number. We use this custom exception in the square_root function to handle the error condition. In the try block, we call the square_root function with a negative number, which raises the NegativeNumberError exception. We handle this exception in the except block by printing the error message. If no exception is raised, the else block prints the result of the calculation."
      ],
      "metadata": {
        "id": "RZStmfYLmsBK"
      }
    },
    {
      "cell_type": "code",
      "source": [],
      "metadata": {
        "id": "9nNnEYQsmo3v"
      },
      "execution_count": null,
      "outputs": []
    }
  ]
}