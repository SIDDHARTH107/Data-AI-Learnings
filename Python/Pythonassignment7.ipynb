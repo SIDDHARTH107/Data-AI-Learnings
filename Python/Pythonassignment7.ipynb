{
  "nbformat": 4,
  "nbformat_minor": 0,
  "metadata": {
    "colab": {
      "provenance": []
    },
    "kernelspec": {
      "name": "python3",
      "display_name": "Python 3"
    },
    "language_info": {
      "name": "python"
    }
  },
  "cells": [
    {
      "cell_type": "code",
      "source": [
        "def check_password(password):\n",
        "    uppercase_count = 0\n",
        "    lowercase_count = 0\n",
        "    digit_count = 0\n",
        "    special_count = 0\n",
        "    for char in password:\n",
        "        if char.isupper():\n",
        "            uppercase_count += 1\n",
        "        elif char.islower():\n",
        "            lowercase_count += 1\n",
        "        elif char.isdigit():\n",
        "            digit_count += 1\n",
        "        else:\n",
        "            special_count += 1\n",
        "    if len(password) == 10 and uppercase_count >= 2 and lowercase_count >= 2 and digit_count >= 1 and special_count >= 3:\n",
        "        return \"Valid Password\"\n",
        "    else:\n",
        "        return \"Invalid Password\"\n"
      ],
      "metadata": {
        "id": "uoe4bLzzvnzg"
      },
      "execution_count": 18,
      "outputs": []
    },
    {
      "cell_type": "code",
      "source": [
        "password1 = \"Abc123!$%^\"\n",
        "password2 = \"abcd1234!@\"\n",
        "password3 = \"AABBccd1234\"\n",
        "\n",
        "print(check_password(password1)) \n",
        "print(check_password(password2)) \n",
        "print(check_password(password3)) \n",
        "\n"
      ],
      "metadata": {
        "colab": {
          "base_uri": "https://localhost:8080/"
        },
        "id": "0VsjCOfaxuQO",
        "outputId": "236ee515-5d44-466d-b0aa-b865a7845828"
      },
      "execution_count": 19,
      "outputs": [
        {
          "output_type": "stream",
          "name": "stdout",
          "text": [
            "Invalid Password\n",
            "Invalid Password\n",
            "Invalid Password\n"
          ]
        }
      ]
    },
    {
      "cell_type": "markdown",
      "source": [
        "# Check if the string starts with a particular letter using List Comprehension:\n",
        "Example: Check if the given list of strings start with the letter \"A\"\n",
        "\n",
        "strings = [\"Apple\", \"Banana\", \"Apricot\", \"Cherry\"]\n",
        "\n",
        "result = [s for s in strings if s.startswith(\"A\")]\n",
        "\n",
        "print(result)\n",
        "\n",
        "Output: [\"Apple\", \"Apricot\"]\n",
        "\n",
        "Check if the string is numeric using Lambda Function and Filter Function:\n",
        "Example: Check if the given list of strings are numeric\n",
        "\n",
        "strings = [\"123\", \"45.6\", \"hello\", \"789\"]\n",
        "\n",
        "result = list(filter(lambda s: s.isnumeric(), strings))\n",
        "\n",
        "print(result)\n",
        "\n",
        "Output: [\"123\", \"789\"]\n",
        "\n",
        "Sort a list of tuples having fruit names and their quantity using Lambda Function and Sorted Function:\n",
        "Example: Sort the given list of tuples in ascending order of fruit quantity\n",
        "\n",
        "fruits = [(\"mango\", 99), (\"orange\", 80), (\"grapes\", 1000)]\n",
        "\n",
        "result = sorted(fruits, key=lambda x: x[1])\n",
        "\n",
        "print(result)\n",
        "\n",
        "Output: [(\"orange\", 80), (\"mango\", 99), (\"grapes\", 1000)]\n",
        "\n",
        "Find the squares of numbers from 1 to 10 using List Comprehension:\n",
        "Example: Find the squares of numbers from 1 to 10\n",
        "\n",
        "squares = [i*i for i in range(1,11)]\n",
        "\n",
        "print(squares)\n",
        "\n",
        "Output: [1, 4, 9, 16, 25, 36, 49, 64, 81, 100]\n",
        "\n",
        "Find the cube root of numbers from 1 to 10 using Lambda Function, Map Function and List Comprehension:\n",
        "Example: Find the cube root of numbers from 1 to 10\n",
        "\n",
        "cube_roots = list(map(lambda x: x**(1/3), range(1,11)))\n",
        "\n",
        "print(cube_roots)\n",
        "\n",
        "Output: [1.0, 1.2599210498948732, 1.4422495703074083, 1.5874010519681994, 1.7099759466766968, 1.8171205928321397, 1.912931182772389, 2.0, 2.080083823051904, 2.154434690031884]\n",
        "\n",
        "Check if a given number is even using Lambda Function and Filter Function:\n",
        "Example: Check if the given list of numbers are even\n",
        "\n",
        "numbers = [1, 2, 3, 4, 5, 6, 7, 8, 9, 10]\n",
        "\n",
        "result = list(filter(lambda x: x%2 == 0, numbers))\n",
        "\n",
        "print(result)\n",
        "\n",
        "Output: [2, 4, 6, 8, 10]\n",
        "\n",
        "Filter odd numbers from the given list using Lambda Function and Filter Function:\n",
        "Example: Filter odd numbers from the given list\n",
        "\n",
        "numbers = [1, 2, 3, 4, 5, 6, 7, 8, 9, 10]\n",
        "\n",
        "result = list(filter(lambda x: x%2 != 0, numbers))\n",
        "\n",
        "print(result)\n",
        "\n",
        "Output: [1, 3, 5, 7, 9]\n",
        "\n",
        "Sort a list of integers into positive and negative integers lists using List Comprehension:\n",
        "Example: Sort the given list of integers into positive and negative integers lists\n",
        "\n",
        "numbers = [1, 2, 3, 4, 5, 6, -1, -2, -3, -4, -5, 0]\n",
        "\n",
        "positive_numbers = [n for n in numbers if n > 0]\n",
        "\n",
        "negative_numbers = [n"
      ],
      "metadata": {
        "id": "ZczBPN7B0fOY"
      }
    },
    {
      "cell_type": "code",
      "source": [],
      "metadata": {
        "id": "iEHLqqI2x0Cp"
      },
      "execution_count": null,
      "outputs": []
    }
  ]
}