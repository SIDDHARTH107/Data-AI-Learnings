{
  "nbformat": 4,
  "nbformat_minor": 0,
  "metadata": {
    "colab": {
      "provenance": []
    },
    "kernelspec": {
      "name": "python3",
      "display_name": "Python 3"
    },
    "language_info": {
      "name": "python"
    }
  },
  "cells": [
    {
      "cell_type": "code",
      "source": [
        "class Vehicle:\n",
        "    def __init__(self, name_of_vehicle, max_speed, average_of_vehicle):\n",
        "        self.name_of_vehicle = name_of_vehicle\n",
        "        self.max_speed = max_speed\n",
        "        self.average_of_vehicle = average_of_vehicle\n"
      ],
      "metadata": {
        "id": "p5IJzj4nTdbe"
      },
      "execution_count": 1,
      "outputs": []
    },
    {
      "cell_type": "code",
      "source": [
        "car = Vehicle(\"Toyota\", 200, 30)\n"
      ],
      "metadata": {
        "id": "Z4kuT7rYTeHR"
      },
      "execution_count": 2,
      "outputs": []
    },
    {
      "cell_type": "code",
      "source": [
        "print(car.name_of_vehicle)          \n",
        "print(car.max_speed)                \n",
        "print(car.average_of_vehicle)       \n"
      ],
      "metadata": {
        "colab": {
          "base_uri": "https://localhost:8080/"
        },
        "id": "RlSo-igQTidE",
        "outputId": "2714e5b9-a919-4aca-c55d-015a7dc196a7"
      },
      "execution_count": 3,
      "outputs": [
        {
          "output_type": "stream",
          "name": "stdout",
          "text": [
            "Toyota\n",
            "200\n",
            "30\n"
          ]
        }
      ]
    },
    {
      "cell_type": "code",
      "source": [
        "class Car(Vehicle):\n",
        "    def __init__(self, name_of_vehicle, max_speed, average_of_vehicle):\n",
        "        super().__init__(name_of_vehicle, max_speed, average_of_vehicle)\n",
        "\n",
        "    def seating_capacity(self, capacity):\n",
        "        return f\"The {self.name_of_vehicle} has a seating capacity of {capacity} people.\"\n"
      ],
      "metadata": {
        "id": "K-55Gw-KTovg"
      },
      "execution_count": 4,
      "outputs": []
    },
    {
      "cell_type": "code",
      "source": [
        "car = Car(\"Toyota\", 200, 30)\n",
        "print(car.seating_capacity(5))   \n"
      ],
      "metadata": {
        "colab": {
          "base_uri": "https://localhost:8080/"
        },
        "id": "R5v786RQTzdF",
        "outputId": "371b600a-8f2f-49ce-834d-9906c23c06f6"
      },
      "execution_count": 5,
      "outputs": [
        {
          "output_type": "stream",
          "name": "stdout",
          "text": [
            "The Toyota has a seating capacity of 5 people.\n"
          ]
        }
      ]
    },
    {
      "cell_type": "markdown",
      "source": [
        "# Multiple inheritance is a feature in object-oriented programming where a subclass can inherit from multiple parent classes. This allows the subclass to have access to the attributes and methods of all the parent classes."
      ],
      "metadata": {
        "id": "ntRIUFpsT_cQ"
      }
    },
    {
      "cell_type": "code",
      "source": [
        "class Vehicle:\n",
        "    def __init__(self, name_of_vehicle):\n",
        "        self.name_of_vehicle = name_of_vehicle\n",
        "\n",
        "    def drive(self):\n",
        "        print(f\"The {self.name_of_vehicle} is driving.\")\n",
        "\n",
        "class Convertible:\n",
        "    def top_down(self):\n",
        "        print(\"The convertible top is down.\")\n",
        "\n",
        "class SportsCar(Vehicle, Convertible):\n",
        "    def __init__(self, name_of_vehicle, max_speed):\n",
        "        Vehicle.__init__(self, name_of_vehicle)\n",
        "        self.max_speed = max_speed\n",
        "\n",
        "    def drive_fast(self):\n",
        "        print(f\"The {self.name_of_vehicle} is driving fast at {self.max_speed} mph.\")\n",
        "\n",
        "car = SportsCar(\"Porsche\", 200)\n",
        "car.top_down()              \n",
        "car.drive()                 \n",
        "car.drive_fast()            \n"
      ],
      "metadata": {
        "colab": {
          "base_uri": "https://localhost:8080/"
        },
        "id": "fIUPy32AT76T",
        "outputId": "dc8bea70-12b4-4cdf-e461-76ddd2150bf1"
      },
      "execution_count": 6,
      "outputs": [
        {
          "output_type": "stream",
          "name": "stdout",
          "text": [
            "The convertible top is down.\n",
            "The Porsche is driving.\n",
            "The Porsche is driving fast at 200 mph.\n"
          ]
        }
      ]
    },
    {
      "cell_type": "markdown",
      "source": [
        "# In this program, we have three classes: Vehicle, Convertible, and SportsCar. The Vehicle class has an __init__ method that initializes the name_of_vehicle instance variable, and a drive method that prints a message indicating that the vehicle is driving. The Convertible class has a top_down method that prints a message indicating that the convertible top is down.\n",
        "\n",
        "# The SportsCar class inherits from both Vehicle and Convertible using multiple inheritance. It has its own __init__ method that initializes the max_speed instance variable and calls the Vehicle class's __init__ method using Vehicle.__init__(self, name_of_vehicle). It also has a drive_fast method that prints a message indicating that the car is driving fast.\n",
        "\n",
        "# We create an instance of the SportsCar class called car, and call the top_down, drive, and drive_fast methods on it. The program outputs messages indicating that the convertible top is down, the car is driving, and the car is driving fast."
      ],
      "metadata": {
        "id": "6sYnOK0DUMW0"
      }
    },
    {
      "cell_type": "markdown",
      "source": [
        "# Getter and setter methods are a way of accessing and modifying the values of instance variables of a class in Python. They are used to ensure data encapsulation and can also perform additional checks before setting or getting the value of an instance variable.\n",
        "\n",
        "# In Python, getter and setter methods are implemented using the @property and @<variable>.setter decorators, respectively."
      ],
      "metadata": {
        "id": "jWFOURbiUTgA"
      }
    },
    {
      "cell_type": "code",
      "source": [
        "class Person:\n",
        "    def __init__(self, name, age):\n",
        "        self._name = name\n",
        "        self._age = age\n",
        "\n",
        "    @property\n",
        "    def name(self):\n",
        "        return self._name\n",
        "\n",
        "    @name.setter\n",
        "    def name(self, new_name):\n",
        "        if isinstance(new_name, str):\n",
        "            self._name = new_name\n",
        "        else:\n",
        "            print(\"Name must be a string.\")\n",
        "\n",
        "    @property\n",
        "    def age(self):\n",
        "        return self._age\n",
        "\n",
        "    @age.setter\n",
        "    def age(self, new_age):\n",
        "        if isinstance(new_age, int):\n",
        "            if new_age > 0 and new_age <= 120:\n",
        "                self._age = new_age\n",
        "            else:\n",
        "                print(\"Age must be between 1 and 120.\")\n",
        "        else:\n",
        "            print(\"Age must be an integer.\")\n"
      ],
      "metadata": {
        "id": "HfShQ1oBUHc5"
      },
      "execution_count": 7,
      "outputs": []
    },
    {
      "cell_type": "markdown",
      "source": [
        "# In this class, we have two instance variables _name and _age. We define a getter and a setter method for each instance variable using the @property and @<variable>.setter decorators. The @property decorator turns the method into a getter method, and the @<variable>.setter decorator turns the method into a setter method.\n",
        "\n",
        "# The getter methods simply return the value of the instance variable, while the setter methods perform additional checks before setting the value of the instance variable. In this case, the name setter method checks that the new name is a string, and the age setter method checks that the new age is an integer between 1 and 120."
      ],
      "metadata": {
        "id": "YgF5cHQaUcnD"
      }
    },
    {
      "cell_type": "code",
      "source": [
        "person = Person(\"Alice\", 30)\n",
        "print(person.name)      # Output: \"Alice\"\n",
        "print(person.age)       # Output: 30\n",
        "\n",
        "person.name = \"Bob\"\n",
        "person.age = 25\n",
        "\n",
        "print(person.name)      # Output: \"Bob\"\n",
        "print(person.age)       # Output: 25\n",
        "\n",
        "person.name = 42       # Output: \"Name must be a string.\"\n",
        "person.age = 200       # Output: \"Age must be between 1 and 120.\"\n",
        "person.age = \"thirty\"  # Output: \"Age must be an integer.\"\n"
      ],
      "metadata": {
        "colab": {
          "base_uri": "https://localhost:8080/"
        },
        "id": "nb2hFCBVUbbt",
        "outputId": "59040973-ea39-4305-cbc5-f72de9ed4789"
      },
      "execution_count": 8,
      "outputs": [
        {
          "output_type": "stream",
          "name": "stdout",
          "text": [
            "Alice\n",
            "30\n",
            "Bob\n",
            "25\n",
            "Name must be a string.\n",
            "Age must be between 1 and 120.\n",
            "Age must be an integer.\n"
          ]
        }
      ]
    },
    {
      "cell_type": "markdown",
      "source": [
        "# Method overriding is a feature of object-oriented programming in which a subclass can provide a different implementation for a method that is already defined in its superclass. This allows the subclass to modify or extend the behavior of the inherited method without changing its name or signature.\n",
        "\n",
        "# In Python, method overriding is achieved by defining a method with the same name as a method in the superclass. When the method is called on an instance of the subclass, the implementation in the subclass is used instead of the implementation in the superclass."
      ],
      "metadata": {
        "id": "e6K2l5sHUu96"
      }
    },
    {
      "cell_type": "code",
      "source": [
        "class Animal:\n",
        "    def make_sound(self):\n",
        "        print(\"The animal makes a sound.\")\n",
        "\n",
        "class Cat(Animal):\n",
        "    def make_sound(self):\n",
        "        print(\"Meow\")\n",
        "\n",
        "class Dog(Animal):\n",
        "    def make_sound(self):\n",
        "        print(\"Woof\")\n",
        "\n",
        "animal = Animal()\n",
        "cat = Cat()\n",
        "dog = Dog()\n",
        "\n",
        "animal.make_sound()  # Output: \"The animal makes a sound.\"\n",
        "cat.make_sound()     # Output: \"Meow\"\n",
        "dog.make_sound()     # Output: \"Woof\"\n"
      ],
      "metadata": {
        "colab": {
          "base_uri": "https://localhost:8080/"
        },
        "id": "8vsOJyWRUqQY",
        "outputId": "8deb51e2-5b5e-48a3-908f-c0df6bdf24f4"
      },
      "execution_count": 9,
      "outputs": [
        {
          "output_type": "stream",
          "name": "stdout",
          "text": [
            "The animal makes a sound.\n",
            "Meow\n",
            "Woof\n"
          ]
        }
      ]
    },
    {
      "cell_type": "markdown",
      "source": [
        "# In this example, we have a superclass called Animal with a method called make_sound. We also have two subclasses called Cat and Dog, both of which inherit from the Animal class and override the make_sound method with their own implementation.\n",
        "\n",
        "# When we create instances of each class and call the make_sound method, the appropriate implementation is called based on the type of the instance. The Animal instance calls the method defined in the superclass, while the Cat and Dog instances call the method defined in their respective subclasses."
      ],
      "metadata": {
        "id": "khOaFirGU3B9"
      }
    },
    {
      "cell_type": "code",
      "source": [],
      "metadata": {
        "id": "9LdCL9dxUyxk"
      },
      "execution_count": null,
      "outputs": []
    }
  ]
}