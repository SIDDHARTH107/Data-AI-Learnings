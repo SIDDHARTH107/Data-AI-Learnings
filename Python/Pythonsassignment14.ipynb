{
  "nbformat": 4,
  "nbformat_minor": 0,
  "metadata": {
    "colab": {
      "provenance": []
    },
    "kernelspec": {
      "name": "python3",
      "display_name": "Python 3"
    },
    "language_info": {
      "name": "python"
    }
  },
  "cells": [
    {
      "cell_type": "markdown",
      "source": [
        "# A database is a structured collection of data that is organized and stored in a way that allows for efficient retrieval, modification, and analysis. Databases are used to store and manage data for a wide range of applications, including business, finance, healthcare, e-commerce, and more.\n",
        "\n",
        "# SQL (Structured Query Language) and NoSQL (Not Only SQL) are two types of database management systems (DBMS) that differ in their approach to data storage and retrieval.\n",
        "\n",
        "# SQL databases are relational databases that use a structured schema to store data in tables with predefined columns and data types. SQL is a standard language for managing relational databases, and it allows users to query and manipulate data using a set of standardized commands. SQL databases are typically used for applications that require complex queries and transactional processing, such as financial systems, inventory management, and customer relationship management (CRM) systems.\n",
        "\n",
        "# NoSQL databases, on the other hand, are non-relational databases that store data in a variety of formats, including key-value, document, graph, and column-family stores. NoSQL databases are designed to handle large volumes of unstructured or semi-structured data and can scale horizontally across multiple servers. NoSQL databases are often used for applications that require high performance and scalability, such as big data analytics, social media, and content management systems."
      ],
      "metadata": {
        "id": "crCyHMpeiS1h"
      }
    },
    {
      "cell_type": "markdown",
      "source": [
        "# DDL stands for Data Definition Language, which is a set of SQL commands used to define, modify, and delete the structure of database objects such as tables, indexes, and constraints. DDL commands are used to create, drop, alter, and truncate database objects. Here is an explanation of each of these commands with an example:\n",
        "\n",
        "# CREATE: The CREATE command is used to create a new database object, such as a table, view, or index. Here is an example of creating a table:\n",
        "\n",
        "CREATE TABLE customers (\n",
        "   id INT PRIMARY KEY,\n",
        "   name VARCHAR(50),\n",
        "   email VARCHAR(50)\n",
        ");\n",
        "\n",
        "# DROP: The DROP command is used to delete an existing database object, such as a table, view, or index. Here is an example of dropping a table:\n",
        "\n",
        "DROP TABLE customers;\n",
        "\n",
        "# ALTER: The ALTER command is used to modify the structure of an existing database object, such as adding or removing columns from a table. Here is an example of adding a column to a table:\n",
        "\n",
        "ALTER TABLE customers ADD COLUMN address VARCHAR(100);\n",
        "\n",
        "# TRUNCATE: The TRUNCATE command is used to delete all the data from a table while keeping the table structure intact. Here is an example of truncating a table:\n",
        "\n",
        "TRUNCATE TABLE customers;\n",
        "\n"
      ],
      "metadata": {
        "id": "yNJB5ubxiZPi"
      }
    },
    {
      "cell_type": "markdown",
      "source": [
        "# DML stands for Data Manipulation Language, which is a set of SQL commands used to insert, update, and delete data from database tables. Here is an explanation of each of these commands with an example:\n",
        "\n",
        "# INSERT: The INSERT command is used to add new rows of data to a table. Here is an example of inserting a new row into a table:\n",
        "\n",
        "INSERT INTO customers (id, name, email) VALUES (1, 'John Smith', 'john@example.com');\n",
        "\n",
        "# UPDATE: The UPDATE command is used to modify existing rows of data in a table. Here is an example of updating a row in a table:\n",
        "\n",
        "UPDATE customers SET email = 'john.smith@example.com' WHERE id = 1;\n",
        "\n",
        "# DELETE: The DELETE command is used to remove rows of data from a table. Here is an example of deleting a row from a table:\n",
        "\n",
        "DELETE FROM customers WHERE id = 1;\n",
        "\n"
      ],
      "metadata": {
        "id": "xf5y4MmTi772"
      }
    },
    {
      "cell_type": "markdown",
      "source": [
        "# Primary key and foreign key are both important concepts in database design and management. They are used to establish relationships between tables and ensure data integrity.\n",
        "\n",
        "# A primary key is a unique identifier for a table. It is a column or set of columns that uniquely identify each row in the table. A primary key must have a unique value for each row, and it cannot contain null values.\n",
        "\n",
        "# For example, consider a table named \"employees\" with columns \"employee_id\", \"name\", \"department_id\", and \"salary\". In this case, the \"employee_id\" column can be used as the primary key since it uniquely identifies each employee.\n",
        "\n",
        "# A foreign key is a column or set of columns in a table that refers to the primary key of another table. It is used to establish relationships between tables and maintain referential integrity.\n",
        "\n",
        "# For example, consider two tables: \"employees\" and \"departments\". The \"employees\" table has a column named \"department_id\", which refers to the primary key of the \"departments\" table. This column is a foreign key since it establishes a relationship between the two tables."
      ],
      "metadata": {
        "id": "zFXGbHXEjN5r"
      }
    },
    {
      "cell_type": "code",
      "source": [
        "!pip install mysql"
      ],
      "metadata": {
        "colab": {
          "base_uri": "https://localhost:8080/"
        },
        "id": "Zsn3iMuNjbt6",
        "outputId": "ecbb77be-67a1-4072-93b5-b70074d5fb9a"
      },
      "execution_count": 2,
      "outputs": [
        {
          "output_type": "stream",
          "name": "stdout",
          "text": [
            "Looking in indexes: https://pypi.org/simple, https://us-python.pkg.dev/colab-wheels/public/simple/\n",
            "Collecting mysql\n",
            "  Downloading mysql-0.0.3-py3-none-any.whl (1.2 kB)\n",
            "Collecting mysqlclient\n",
            "  Downloading mysqlclient-2.1.1.tar.gz (88 kB)\n",
            "\u001b[2K     \u001b[90m━━━━━━━━━━━━━━━━━━━━━━━━━━━━━━━━━━━━━━━━\u001b[0m \u001b[32m88.1/88.1 KB\u001b[0m \u001b[31m3.5 MB/s\u001b[0m eta \u001b[36m0:00:00\u001b[0m\n",
            "\u001b[?25h  Preparing metadata (setup.py) ... \u001b[?25l\u001b[?25hdone\n",
            "Building wheels for collected packages: mysqlclient\n",
            "  Building wheel for mysqlclient (setup.py) ... \u001b[?25l\u001b[?25hdone\n",
            "  Created wheel for mysqlclient: filename=mysqlclient-2.1.1-cp39-cp39-linux_x86_64.whl size=107576 sha256=bf0a92a40e0c9c17e12985b675819493fe4512fc467a01ecaaa5f0451c52f43d\n",
            "  Stored in directory: /root/.cache/pip/wheels/f3/a5/27/c6312d8008951cfd5511684378a9e057b82006c70e1fea6107\n",
            "Successfully built mysqlclient\n",
            "Installing collected packages: mysqlclient, mysql\n",
            "Successfully installed mysql-0.0.3 mysqlclient-2.1.1\n"
          ]
        }
      ]
    },
    {
      "cell_type": "code",
      "source": [
        "import mysql.connector\n",
        "\n",
        "# Establishing a connection to the MySQL database\n",
        "mydb = mysql.connector.connect(\n",
        "  host=\"localhost\",\n",
        "  user=\"yourusername\",\n",
        "  password=\"yourpassword\",\n",
        "  database=\"yourdatabase\"\n",
        ")\n",
        "\n",
        "# Creating a cursor object using the cursor() method\n",
        "mycursor = mydb.cursor()\n",
        "\n",
        "# Using the execute() method to execute a SQL query\n",
        "mycursor.execute(\"SELECT * FROM customers\")\n",
        "\n",
        "# Fetching the result set using the fetchall() method\n",
        "result = mycursor.fetchall()\n",
        "\n",
        "# Displaying the result set\n",
        "for row in result:\n",
        "  print(row)\n"
      ],
      "metadata": {
        "colab": {
          "base_uri": "https://localhost:8080/",
          "height": 373
        },
        "id": "l0n1ePPLiVoz",
        "outputId": "e98b5ae9-dbdc-4701-f055-bd7777134917"
      },
      "execution_count": 3,
      "outputs": [
        {
          "output_type": "error",
          "ename": "ModuleNotFoundError",
          "evalue": "ignored",
          "traceback": [
            "\u001b[0;31m---------------------------------------------------------------------------\u001b[0m",
            "\u001b[0;31mModuleNotFoundError\u001b[0m                       Traceback (most recent call last)",
            "\u001b[0;32m<ipython-input-3-0a2d49f7a254>\u001b[0m in \u001b[0;36m<cell line: 1>\u001b[0;34m()\u001b[0m\n\u001b[0;32m----> 1\u001b[0;31m \u001b[0;32mimport\u001b[0m \u001b[0mmysql\u001b[0m\u001b[0;34m.\u001b[0m\u001b[0mconnector\u001b[0m\u001b[0;34m\u001b[0m\u001b[0;34m\u001b[0m\u001b[0m\n\u001b[0m\u001b[1;32m      2\u001b[0m \u001b[0;34m\u001b[0m\u001b[0m\n\u001b[1;32m      3\u001b[0m \u001b[0;31m# Establishing a connection to the MySQL database\u001b[0m\u001b[0;34m\u001b[0m\u001b[0;34m\u001b[0m\u001b[0m\n\u001b[1;32m      4\u001b[0m mydb = mysql.connector.connect(\n\u001b[1;32m      5\u001b[0m   \u001b[0mhost\u001b[0m\u001b[0;34m=\u001b[0m\u001b[0;34m\"localhost\"\u001b[0m\u001b[0;34m,\u001b[0m\u001b[0;34m\u001b[0m\u001b[0;34m\u001b[0m\u001b[0m\n",
            "\u001b[0;31mModuleNotFoundError\u001b[0m: No module named 'mysql'",
            "",
            "\u001b[0;31m---------------------------------------------------------------------------\u001b[0;32m\nNOTE: If your import is failing due to a missing package, you can\nmanually install dependencies using either !pip or !apt.\n\nTo view examples of installing some common dependencies, click the\n\"Open Examples\" button below.\n\u001b[0;31m---------------------------------------------------------------------------\u001b[0m\n"
          ],
          "errorDetails": {
            "actions": [
              {
                "action": "open_url",
                "actionText": "Open Examples",
                "url": "/notebooks/snippets/importing_libraries.ipynb"
              }
            ]
          }
        }
      ]
    },
    {
      "cell_type": "markdown",
      "source": [
        "# The order of execution of SQL clauses in an SQL query is as follows:\n",
        "\n",
        "# FROM clause: This specifies the table or tables from which the data is to be retrieved.\n",
        "\n",
        "# JOIN clause: This combines rows from two or more tables based on a related column between them.\n",
        "\n",
        "# WHERE clause: This filters the rows based on a specified condition.\n",
        "\n",
        "# GROUP BY clause: This groups the result set by one or more columns.\n",
        "\n",
        "# HAVING clause: This filters the result set based on a specified condition after the grouping has been done.\n",
        "\n",
        "# SELECT clause: This specifies the columns to be retrieved from the result set.\n",
        "\n",
        "# DISTINCT clause: This removes duplicates from the result set.\n",
        "\n",
        "# ORDER BY clause: This sorts the result set by one or more columns.\n",
        "\n",
        "# LIMIT clause: This limits the number of rows returned in the result set.\n",
        "\n",
        "# Note that not all clauses are required in every SQL query, and they may not always be executed in this exact order. The clauses are executed in the order that they appear in the SQL statement, and some clauses may be dependent on others."
      ],
      "metadata": {
        "id": "0h8_eDpnjk42"
      }
    },
    {
      "cell_type": "code",
      "source": [],
      "metadata": {
        "id": "OYbxmtRijUFd"
      },
      "execution_count": null,
      "outputs": []
    }
  ]
}