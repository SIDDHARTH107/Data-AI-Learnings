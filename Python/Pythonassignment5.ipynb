{
  "nbformat": 4,
  "nbformat_minor": 0,
  "metadata": {
    "colab": {
      "provenance": []
    },
    "kernelspec": {
      "name": "python3",
      "display_name": "Python 3"
    },
    "language_info": {
      "name": "python"
    }
  },
  "cells": [
    {
      "cell_type": "markdown",
      "source": [
        "# Python was developed by Guido van Rossum."
      ],
      "metadata": {
        "id": "p7Rg6tB4uxu0"
      }
    },
    {
      "cell_type": "markdown",
      "source": [
        "# Object Oriented Programming"
      ],
      "metadata": {
        "id": "alibdGqIu6F4"
      }
    },
    {
      "cell_type": "markdown",
      "source": [
        "# Yes"
      ],
      "metadata": {
        "id": "cuIh-5Savp4j"
      }
    },
    {
      "cell_type": "markdown",
      "source": [
        "# .py"
      ],
      "metadata": {
        "id": "-jlD-5HEvtzw"
      }
    },
    {
      "cell_type": "markdown",
      "source": [
        "# Interpreted"
      ],
      "metadata": {
        "id": "OUzp2PnAv1un"
      }
    },
    {
      "cell_type": "markdown",
      "source": [
        "# Python Install Package"
      ],
      "metadata": {
        "id": "aVeB9W5Hv8nL"
      }
    },
    {
      "cell_type": "code",
      "source": [],
      "metadata": {
        "id": "uoe4bLzzvnzg"
      },
      "execution_count": null,
      "outputs": []
    }
  ]
}