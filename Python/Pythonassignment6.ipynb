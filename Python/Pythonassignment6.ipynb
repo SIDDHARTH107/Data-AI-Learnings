{
  "nbformat": 4,
  "nbformat_minor": 0,
  "metadata": {
    "colab": {
      "provenance": []
    },
    "kernelspec": {
      "name": "python3",
      "display_name": "Python 3"
    },
    "language_info": {
      "name": "python"
    }
  },
  "cells": [
    {
      "cell_type": "code",
      "source": [
        "def product_of_numeric_values(lst):\n",
        "    flattened = []\n",
        "    for item in lst:\n",
        "        if type(item) == list or type(item) == tuple or type(item) == set:\n",
        "            flattened.extend(list(filter(lambda x: type(x) == int or type(x) == float, item)))\n",
        "        elif type(item) == dict:\n",
        "            flattened.extend(list(filter(lambda x: type(x) == int or type(x) == float, item.keys())))\n",
        "            for val in item.values():\n",
        "                if type(val) == int or type(val) == float:\n",
        "                    flattened.append(val)\n",
        "        elif type(item) == int or type(item) == float:\n",
        "            flattened.append(item)\n",
        "    product = 1\n",
        "    for num in flattened:\n",
        "        product *= num\n",
        "    return product"
      ],
      "metadata": {
        "id": "uoe4bLzzvnzg"
      },
      "execution_count": 15,
      "outputs": []
    },
    {
      "cell_type": "code",
      "source": [
        "list1 = [1,2,3,4, [44,55,66, True], False, (34,56,78,89,34), {1,2,3,3,2,1}, {1:34, \"key2\": [55, 67, 78, 89], 4: (45, 22, 61, 34)}, [56, 'data science'], 'Machine Learning']\n",
        "\n",
        "result = product_of_numeric_values(list1)\n",
        "\n",
        "print(result)\n"
      ],
      "metadata": {
        "colab": {
          "base_uri": "https://localhost:8080/"
        },
        "id": "0VsjCOfaxuQO",
        "outputId": "ecf48305-a09e-441e-f982-7a106a7bafa5"
      },
      "execution_count": 16,
      "outputs": [
        {
          "output_type": "stream",
          "name": "stdout",
          "text": [
            "78718933113238978560\n"
          ]
        }
      ]
    },
    {
      "cell_type": "code",
      "source": [
        "def encrypt(message):\n",
        "    result = \"\"\n",
        "    for char in message.lower():\n",
        "        if char == \" \":\n",
        "            result += \"$\"\n",
        "        elif char.isalpha():\n",
        "            result += chr(219 - ord(char))\n",
        "        else:\n",
        "            result += char\n",
        "    return result.lower()\n",
        "\n",
        "input_sentence = \"I want to become a Data Scientist.\"\n",
        "\n",
        "encrypted_sentence = encrypt(input_sentence)\n",
        "\n",
        "print(encrypted_sentence)\n"
      ],
      "metadata": {
        "colab": {
          "base_uri": "https://localhost:8080/"
        },
        "id": "ulKx-trXxws3",
        "outputId": "faf36479-5fe4-4695-e735-9cbcaa812e74"
      },
      "execution_count": 17,
      "outputs": [
        {
          "output_type": "stream",
          "name": "stdout",
          "text": [
            "r$dzmg$gl$yvxlnv$z$wzgz$hxrvmgrhg.\n"
          ]
        }
      ]
    },
    {
      "cell_type": "code",
      "source": [],
      "metadata": {
        "id": "iEHLqqI2x0Cp"
      },
      "execution_count": null,
      "outputs": []
    }
  ]
}