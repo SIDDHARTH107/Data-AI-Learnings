{
  "nbformat": 4,
  "nbformat_minor": 0,
  "metadata": {
    "colab": {
      "provenance": []
    },
    "kernelspec": {
      "name": "python3",
      "display_name": "Python 3"
    },
    "language_info": {
      "name": "python"
    }
  },
  "cells": [
    {
      "cell_type": "markdown",
      "source": [
        "# Abstraction in Object-Oriented Programming (OOPs) refers to the process of hiding the internal details of an object and showing only the essential features to the user. This is achieved by creating abstract classes or interfaces that define a set of methods that must be implemented by the classes that use them.\n",
        "\n",
        "# For example, consider the concept of a car. From a user's perspective, a car is simply a vehicle that can be driven to reach a destination. However, there are many complex components and systems that work together to make a car function properly, such as the engine, transmission, suspension, brakes, and electrical system.\n",
        "\n",
        "# Using abstraction, we can hide these internal details and focus on the essential features of a car that a user needs to know, such as how to start and stop the engine, how to shift gears, and how to use the brakes. We can create an abstract class called \"Vehicle\" that defines these essential features as methods, such as \"start_engine()\", \"stop_engine()\", \"shift_gears()\", and \"use_brakes()\".\n",
        "\n",
        "# Then, we can create a concrete class called \"Car\" that inherits from the \"Vehicle\" class and implements these methods in a way that is specific to a car. By using abstraction, we can create classes that are easy to use and maintain, while hiding the complexity of the underlying systems."
      ],
      "metadata": {
        "id": "7am3rrWa19ww"
      }
    },
    {
      "cell_type": "markdown",
      "source": [
        "# Abstraction and Encapsulation are two important concepts in Object-Oriented Programming (OOPs) that are often confused with each other. Here's how they differ and an example to help illustrate the difference:\n",
        "\n",
        "# Abstraction: Abstraction refers to the process of hiding the complexity of an object and revealing only the necessary details to the user. Abstraction is achieved by creating abstract classes or interfaces that define a set of methods that must be implemented by the classes that use them.\n",
        "\n",
        "# For example, let's say you have a \"Vehicle\" class that represents all types of vehicles. You can create an abstract method called \"move()\" that must be implemented by any subclass that inherits from the \"Vehicle\" class. The \"move()\" method could be implemented differently for each subclass, such as \"drive()\" for a car or \"fly()\" for a plane. The user of the \"Vehicle\" class does not need to know how the method is implemented in each subclass, only that the method is available and can be called.\n",
        "\n",
        "# Encapsulation: Encapsulation refers to the process of hiding the internal details of an object and providing a public interface for accessing the object's behavior. Encapsulation is achieved by using access modifiers such as public, private, and protected to restrict access to an object's data and methods.\n",
        "\n",
        "# For example, let's say you have a \"BankAccount\" class that represents a customer's bank account. You can use the private access modifier to restrict access to the account balance variable so that it can only be accessed through the public \"deposit()\" and \"withdraw()\" methods. This ensures that the account balance cannot be directly manipulated from outside the class, maintaining the integrity of the data.\n",
        "\n",
        "# In summary, abstraction and encapsulation are two important concepts in OOPs that work together to create objects that are easy to use and maintain. Abstraction focuses on hiding complexity and revealing only necessary details, while encapsulation focuses on hiding implementation details and providing a public interface for accessing an object's behavior."
      ],
      "metadata": {
        "id": "Eu-BYXOq2ICx"
      }
    },
    {
      "cell_type": "markdown",
      "source": [
        "# The abc (Abstract Base Class) module is a built-in module in Python that provides support for defining abstract base classes. Abstract base classes are classes that define a set of methods that must be implemented by any subclass that inherits from them.\n",
        "\n",
        "# The abc module is used for creating interfaces or abstract classes, where the interface or abstract class cannot be instantiated on its own but must be inherited by concrete classes that implement the abstract methods. This allows us to define a common interface that multiple classes can implement, ensuring that they all have the same set of methods and behavior.\n",
        "\n",
        "# The abc module provides the following classes for defining abstract base classes:\n",
        "\n",
        "# ABC: This is the base class for defining abstract base classes. It can be subclassed by any class that needs to define abstract methods.\n",
        "\n",
        "# abstractmethod: This is a decorator that can be applied to a method to indicate that it is an abstract method. It raises a TypeError if the method is not overridden by a subclass.\n",
        "\n",
        "# For example, let's say we want to define an abstract base class called \"Shape\" that defines an abstract method called \"area()\". We can use the abc module to define the abstract base class as follows:"
      ],
      "metadata": {
        "id": "KF8_hxOi2TAX"
      }
    },
    {
      "cell_type": "code",
      "source": [
        "from abc import ABC, abstractmethod\n",
        "\n",
        "class Shape(ABC):\n",
        "    @abstractmethod\n",
        "    def area(self):\n",
        "        pass\n"
      ],
      "metadata": {
        "id": "3ihQX-Xw2BXC"
      },
      "execution_count": 20,
      "outputs": []
    },
    {
      "cell_type": "markdown",
      "source": [
        "# Now, any class that inherits from the \"Shape\" class must implement the \"area()\" method, otherwise, it will raise a TypeError. This ensures that all subclasses of \"Shape\" have a common interface and behavior, making it easier to work with them in a consistent way."
      ],
      "metadata": {
        "id": "gBZ_suOP2dju"
      }
    },
    {
      "cell_type": "markdown",
      "source": [
        "# In order to achieve data abstraction, we need to create abstract classes or interfaces that define a set of methods that must be implemented by the classes that use them. Here are the steps to achieve data abstraction:\n",
        "\n",
        "# Define an abstract class or interface: Start by defining an abstract class or interface that defines the methods and properties that will be used by the concrete classes. The abstract class or interface should only include the essential methods and properties that are necessary for the class to function.\n",
        "\n",
        "# Implement the abstract class or interface: Create one or more concrete classes that implement the abstract class or interface. These classes must provide an implementation for each of the abstract methods and properties defined in the abstract class or interface.\n",
        "\n",
        "# Use the concrete classes: Finally, use the concrete classes in your application. Because they all implement the same abstract class or interface, they can be used interchangeably in your application. This makes it easy to work with the classes, since you only need to know about the abstract class or interface, rather than the specific details of each class.\n",
        "\n",
        "# For example, let's say you have a \"Vehicle\" class that represents all types of vehicles. You can create an abstract method called \"move()\" that must be implemented by any subclass that inherits from the \"Vehicle\" class. The \"move()\" method could be implemented differently for each subclass, such as \"drive()\" for a car or \"fly()\" for a plane. The user of the \"Vehicle\" class does not need to know how the method is implemented in each subclass, only that the method is available and can be called."
      ],
      "metadata": {
        "id": "4V77wBD-2mK9"
      }
    },
    {
      "cell_type": "code",
      "source": [
        "from abc import ABC, abstractmethod\n",
        "\n",
        "class Vehicle(ABC):\n",
        "    @abstractmethod\n",
        "    def move(self):\n",
        "        pass\n",
        "\n",
        "class Car(Vehicle):\n",
        "    def move(self):\n",
        "        print(\"Driving the car\")\n",
        "\n",
        "class Plane(Vehicle):\n",
        "    def move(self):\n",
        "        print(\"Flying the plane\")\n",
        "\n",
        "def main():\n",
        "    vehicles = [Car(), Plane()]\n",
        "\n",
        "    for vehicle in vehicles:\n",
        "        vehicle.move()\n",
        "\n",
        "if __name__ == \"__main__\":\n",
        "    main()\n"
      ],
      "metadata": {
        "colab": {
          "base_uri": "https://localhost:8080/"
        },
        "id": "2w70oXdP2Ztc",
        "outputId": "796fbc50-c624-4ad6-d4aa-1bb7ecf587d7"
      },
      "execution_count": 21,
      "outputs": [
        {
          "output_type": "stream",
          "name": "stdout",
          "text": [
            "Driving the car\n",
            "Flying the plane\n"
          ]
        }
      ]
    },
    {
      "cell_type": "markdown",
      "source": [
        "# In this example, the \"Vehicle\" class defines the \"move()\" method as an abstract method, which must be implemented by any subclass that inherits from it. The \"Car\" and \"Plane\" classes both inherit from the \"Vehicle\" class and implement the \"move()\" method in their own way. Finally, the \"main()\" function creates a list of vehicles and calls the \"move()\" method on each one, without needing to know about the specific details of each class."
      ],
      "metadata": {
        "id": "iSKxZqMH2yuW"
      }
    },
    {
      "cell_type": "markdown",
      "source": [
        "# No, we cannot create an instance of an abstract class in Python. An abstract class is a class that contains one or more abstract methods, which are methods that have no implementation in the abstract class. Abstract classes are designed to be subclassed, and they cannot be instantiated on their own.\n",
        "\n",
        "# Trying to create an instance of an abstract class will result in a TypeError. Instead, we need to create a subclass of the abstract class and provide an implementation for all of its abstract methods. Once we have a concrete class that inherits from the abstract class and implements all of its abstract methods, we can create instances of that concrete class.\n",
        "\n",
        "# For example, let's say we have an abstract class called \"Animal\" that defines an abstract method called \"speak()\". We cannot create an instance of the \"Animal\" class directly, because it is an abstract class. Instead, we need to create a concrete class that inherits from \"Animal\" and provides an implementation for the \"speak()\" method:"
      ],
      "metadata": {
        "id": "mDgYoeXJ23Vn"
      }
    },
    {
      "cell_type": "code",
      "source": [
        "from abc import ABC, abstractmethod\n",
        "\n",
        "class Animal(ABC):\n",
        "    @abstractmethod\n",
        "    def speak(self):\n",
        "        pass\n",
        "\n",
        "class Dog(Animal):\n",
        "    def speak(self):\n",
        "        print(\"Woof!\")\n",
        "\n",
        "class Cat(Animal):\n",
        "    def speak(self):\n",
        "        print(\"Meow!\")\n",
        "\n",
        "def main():\n",
        "    # This will raise a TypeError\n",
        "    # animal = Animal()\n",
        "\n",
        "    # Create instances of the concrete classes\n",
        "    dog = Dog()\n",
        "    cat = Cat()\n",
        "\n",
        "    # Call the \"speak()\" method on each instance\n",
        "    dog.speak()\n",
        "    cat.speak()\n",
        "\n",
        "if __name__ == \"__main__\":\n",
        "    main()\n"
      ],
      "metadata": {
        "colab": {
          "base_uri": "https://localhost:8080/"
        },
        "id": "tmOZIZ582tFt",
        "outputId": "9fee0788-a2ee-4eda-b853-c12a88725187"
      },
      "execution_count": 22,
      "outputs": [
        {
          "output_type": "stream",
          "name": "stdout",
          "text": [
            "Woof!\n",
            "Meow!\n"
          ]
        }
      ]
    },
    {
      "cell_type": "markdown",
      "source": [
        "# In this example, we define the abstract class \"Animal\" with an abstract method called \"speak()\". We then create two concrete classes that inherit from \"Animal\" and provide their own implementations of the \"speak()\" method. Finally, in the \"main()\" function, we create instances of the \"Dog\" and \"Cat\" classes and call the \"speak()\" method on each one. We cannot create an instance of the \"Animal\" class directly, because it is an abstract class, but we can create instances of its concrete subclasses."
      ],
      "metadata": {
        "id": "khOllYmG2_cv"
      }
    },
    {
      "cell_type": "code",
      "source": [],
      "metadata": {
        "id": "OSW7A69p28Zu"
      },
      "execution_count": null,
      "outputs": []
    }
  ]
}