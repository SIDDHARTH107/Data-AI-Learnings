{
  "nbformat": 4,
  "nbformat_minor": 0,
  "metadata": {
    "colab": {
      "provenance": []
    },
    "kernelspec": {
      "name": "python3",
      "display_name": "Python 3"
    },
    "language_info": {
      "name": "python"
    }
  },
  "cells": [
    {
      "cell_type": "markdown",
      "source": [
        "# In Object-Oriented Programming (OOP), a class is a blueprint or a template that defines the properties and behavior of a certain type of object. It encapsulates the attributes and methods that are common to all instances (objects) of that class. An object, on the other hand, is an instance of a class that has its own set of values for the attributes and can perform its own operations using the methods defined in the class."
      ],
      "metadata": {
        "id": "DuQjyWQvmGpp"
      }
    },
    {
      "cell_type": "markdown",
      "source": [
        "# Encapsulation, Inheritance, Polymorphism, Data Abstraction are the four pillars of OOPs."
      ],
      "metadata": {
        "id": "Q3-f9N-smmAd"
      }
    },
    {
      "cell_type": "markdown",
      "source": [
        "# In Object-Oriented Programming (OOP), the __init__() function is a special method that is automatically called when an object is created from a class. It is used to initialize the attributes of the object with some default values. The __init__() function is also known as the constructor of the class.\n",
        "\n",
        "# The __init__() function takes the self parameter as the first argument, which refers to the instance of the object that is being created. The self parameter is used to access the attributes and methods of the object within the __init__() function."
      ],
      "metadata": {
        "id": "3S_pTzzem9MQ"
      }
    },
    {
      "cell_type": "code",
      "source": [
        "class Person:\n",
        "    def __init__(self, name, age, gender):\n",
        "        self.name = name\n",
        "        self.age = age\n",
        "        self.gender = gender\n"
      ],
      "metadata": {
        "id": "pFEEPSrwme_P"
      },
      "execution_count": 3,
      "outputs": []
    },
    {
      "cell_type": "code",
      "source": [
        "person1 = Person(\"John\", 30, \"Male\")\n"
      ],
      "metadata": {
        "id": "2hgmSPDRnBYm"
      },
      "execution_count": 4,
      "outputs": []
    },
    {
      "cell_type": "code",
      "source": [
        "person1.age"
      ],
      "metadata": {
        "colab": {
          "base_uri": "https://localhost:8080/"
        },
        "id": "dOaneecHnEZn",
        "outputId": "d7cc9a4b-eafc-40fe-a243-59ef5fca7db2"
      },
      "execution_count": 5,
      "outputs": [
        {
          "output_type": "execute_result",
          "data": {
            "text/plain": [
              "30"
            ]
          },
          "metadata": {},
          "execution_count": 5
        }
      ]
    },
    {
      "cell_type": "code",
      "source": [
        "person1.name"
      ],
      "metadata": {
        "colab": {
          "base_uri": "https://localhost:8080/",
          "height": 36
        },
        "id": "dft071wMnGSQ",
        "outputId": "e28a8195-1ffe-4d4d-ef8c-6e301c84016a"
      },
      "execution_count": 6,
      "outputs": [
        {
          "output_type": "execute_result",
          "data": {
            "text/plain": [
              "'John'"
            ],
            "application/vnd.google.colaboratory.intrinsic+json": {
              "type": "string"
            }
          },
          "metadata": {},
          "execution_count": 6
        }
      ]
    },
    {
      "cell_type": "code",
      "source": [
        "print(person1.gender)"
      ],
      "metadata": {
        "colab": {
          "base_uri": "https://localhost:8080/"
        },
        "id": "3OUuo6ftnIY4",
        "outputId": "f14ca104-f657-42b9-d83e-8a914cd29dc8"
      },
      "execution_count": 7,
      "outputs": [
        {
          "output_type": "stream",
          "name": "stdout",
          "text": [
            "Male\n"
          ]
        }
      ]
    },
    {
      "cell_type": "markdown",
      "source": [
        "# In Object-Oriented Programming (OOP), self is a special parameter that is used to refer to the instance of an object that is being manipulated. It is used to access the attributes and methods of the object within the class.\n",
        "\n",
        "# When a method is called on an object, the object itself is automatically passed as the first argument to the method, which is referred to as self. This allows the method to access the attributes and methods of the object using the dot notation."
      ],
      "metadata": {
        "id": "mQJtE6kMnbwU"
      }
    },
    {
      "cell_type": "markdown",
      "source": [
        "# Inheritance is a concept in Object-Oriented Programming (OOP) that allows a new class to be based on an existing class. The new class inherits the attributes and methods of the existing class and can also add its own attributes and methods. Inheritance allows for code reuse, reduces redundancy, and promotes a more organized and modular code structure.\n",
        "\n",
        "# There are four types of inheritance in Python:\n",
        "\n",
        "# Single Inheritance: In single inheritance, a class inherits from a single parent class. The child class inherits all the attributes and methods of the parent class and can also add its own attributes and methods. For example:"
      ],
      "metadata": {
        "id": "29ORJXAOnrbR"
      }
    },
    {
      "cell_type": "code",
      "source": [
        "class Animal:\n",
        "    def __init__(self, name, species):\n",
        "        self.name = name\n",
        "        self.species = species\n",
        "\n",
        "    def speak(self):\n",
        "        print(\"I am an animal.\")\n",
        "\n",
        "class Dog(Animal):\n",
        "    def __init__(self, name, species, breed):\n",
        "        super().__init__(name, species)\n",
        "        self.breed = breed\n",
        "\n",
        "    def speak(self):\n",
        "        print(\"Woof!\")\n",
        "\n",
        "dog1 = Dog(\"Buddy\", \"Canine\", \"Labrador\")\n",
        "print(dog1.name)     \n",
        "print(dog1.species)  \n",
        "print(dog1.breed)    \n",
        "dog1.speak()         "
      ],
      "metadata": {
        "colab": {
          "base_uri": "https://localhost:8080/"
        },
        "id": "q1gKNfI8nMuO",
        "outputId": "86c87338-cbb7-4004-82ee-08ff183ce3c9"
      },
      "execution_count": 10,
      "outputs": [
        {
          "output_type": "stream",
          "name": "stdout",
          "text": [
            "Buddy\n",
            "Canine\n",
            "Labrador\n",
            "Woof!\n"
          ]
        }
      ]
    },
    {
      "cell_type": "markdown",
      "source": [
        "# Multiple Inheritance: In multiple inheritance, a class inherits from multiple parent classes. The child class inherits all the attributes and methods of both parent classes and can also add its own attributes and methods. For example:"
      ],
      "metadata": {
        "id": "c-LmIfWkoOcG"
      }
    },
    {
      "cell_type": "code",
      "source": [
        "class Person:\n",
        "    def __init__(self, name, age):\n",
        "        self.name = name\n",
        "        self.age = age\n",
        "\n",
        "    def greet(self):\n",
        "        print(\"Hello, my name is\", self.name)\n",
        "\n",
        "class Student:\n",
        "    def __init__(self, student_id, major):\n",
        "        self.student_id = student_id\n",
        "        self.major = major\n",
        "\n",
        "    def study(self):\n",
        "        print(\"I am studying\", self.major)\n",
        "\n",
        "class CollegeStudent(Person, Student):\n",
        "    def __init__(self, name, age, student_id, major):\n",
        "        Person.__init__(self, name, age)\n",
        "        Student.__init__(self, student_id, major)\n",
        "\n",
        "    def enroll(self):\n",
        "        print(\"I am a college student with ID\", self.student_id)\n",
        "\n",
        "college_student1 = CollegeStudent(\"John\", 20, \"12345\", \"Computer Science\")\n",
        "print(college_student1.name)        \n",
        "print(college_student1.age)         \n",
        "print(college_student1.student_id)  \n",
        "print(college_student1.major)       \n",
        "college_student1.greet()            \n",
        "college_student1.study()            \n",
        "college_student1.enroll()           \n"
      ],
      "metadata": {
        "colab": {
          "base_uri": "https://localhost:8080/"
        },
        "id": "s5EeOA22nyH3",
        "outputId": "e0fbed33-ec92-4aed-8df5-91025b203c01"
      },
      "execution_count": 11,
      "outputs": [
        {
          "output_type": "stream",
          "name": "stdout",
          "text": [
            "John\n",
            "20\n",
            "12345\n",
            "Computer Science\n",
            "Hello, my name is John\n",
            "I am studying Computer Science\n",
            "I am a college student with ID 12345\n"
          ]
        }
      ]
    },
    {
      "cell_type": "markdown",
      "source": [
        "# Hierarchical inheritance: In hierarchical inheritance, multiple derived classes are derived from a single base class. The derived classes inherit all the attributes and methods of the base class."
      ],
      "metadata": {
        "id": "C7NgQ8wMoXnN"
      }
    },
    {
      "cell_type": "code",
      "source": [
        "# Base class\n",
        "class Animal:\n",
        "    def speak(self):\n",
        "        print(\"I can speak.\")\n",
        "\n",
        "# Derived class 1\n",
        "class Dog(Animal):\n",
        "    def bark(self):\n",
        "        print(\"Woof!\")\n",
        "\n",
        "# Derived class 2\n",
        "class Cat(Animal):\n",
        "    def meow(self):\n",
        "        print(\"Meow!\")\n",
        "\n",
        "# Create objects of the derived classes\n",
        "dog1 = Dog()\n",
        "cat1 = Cat()\n",
        "\n",
        "# Call the inherited methods\n",
        "dog1.speak()    \n",
        "cat1.speak()    \n"
      ],
      "metadata": {
        "colab": {
          "base_uri": "https://localhost:8080/"
        },
        "id": "td0g6i5FoWCP",
        "outputId": "1fe1ac26-c14e-4556-e7c6-8c6b8a4593f8"
      },
      "execution_count": 12,
      "outputs": [
        {
          "output_type": "stream",
          "name": "stdout",
          "text": [
            "I can speak.\n",
            "I can speak.\n"
          ]
        }
      ]
    },
    {
      "cell_type": "markdown",
      "source": [
        "# Multilevel inheritance: In multilevel inheritance, a derived class is derived from another derived class. The derived class inherits all the attributes and methods of the base class and its parent class."
      ],
      "metadata": {
        "id": "6HmpAgIloznl"
      }
    },
    {
      "cell_type": "code",
      "source": [
        "# Base class\n",
        "class Animal:\n",
        "    def speak(self):\n",
        "        print(\"I can speak.\")\n",
        "\n",
        "# Parent class\n",
        "class Pet(Animal):\n",
        "    def cuddle(self):\n",
        "        print(\"Cuddle me!\")\n",
        "\n",
        "# Derived class\n",
        "class Dog(Pet):\n",
        "    def bark(self):\n",
        "        print(\"Woof!\")\n",
        "\n",
        "# Create an object of the derived class\n",
        "dog1 = Dog()\n",
        "\n",
        "# Call the inherited methods\n",
        "dog1.speak()    \n",
        "dog1.cuddle()   \n",
        "\n",
        "# Call the own method\n",
        "dog1.bark()     \n"
      ],
      "metadata": {
        "colab": {
          "base_uri": "https://localhost:8080/"
        },
        "id": "nW260U6iov_n",
        "outputId": "583f2969-9f5f-4118-d304-76c535e56d5b"
      },
      "execution_count": 13,
      "outputs": [
        {
          "output_type": "stream",
          "name": "stdout",
          "text": [
            "I can speak.\n",
            "Cuddle me!\n",
            "Woof!\n"
          ]
        }
      ]
    },
    {
      "cell_type": "code",
      "source": [],
      "metadata": {
        "id": "2YDU269Zo7vE"
      },
      "execution_count": null,
      "outputs": []
    }
  ]
}