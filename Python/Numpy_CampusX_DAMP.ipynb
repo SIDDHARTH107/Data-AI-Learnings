{
  "cells": [
    {
      "cell_type": "markdown",
      "id": "e32d23bd-7351-4345-958e-177bb5e06b03",
      "metadata": {
        "id": "e32d23bd-7351-4345-958e-177bb5e06b03"
      },
      "source": [
        "# NUMPY."
      ]
    },
    {
      "cell_type": "code",
      "execution_count": null,
      "id": "d5f4a4f5-6d0a-4bbf-a494-c02a2a46807e",
      "metadata": {
        "id": "d5f4a4f5-6d0a-4bbf-a494-c02a2a46807e"
      },
      "outputs": [],
      "source": [
        "import numpy as np"
      ]
    },
    {
      "cell_type": "code",
      "execution_count": null,
      "id": "3b223cc8-da8c-4f7c-8e55-07b6238458dc",
      "metadata": {
        "id": "3b223cc8-da8c-4f7c-8e55-07b6238458dc"
      },
      "outputs": [],
      "source": [
        "a= [1,2,3,4]\n",
        "b= (1,2,3,4)"
      ]
    },
    {
      "cell_type": "code",
      "execution_count": null,
      "id": "ba2cbff8-ffcc-421c-91e6-60a15a415271",
      "metadata": {
        "id": "ba2cbff8-ffcc-421c-91e6-60a15a415271",
        "outputId": "6161d852-c987-4492-820c-58105380b84f"
      },
      "outputs": [
        {
          "name": "stdout",
          "output_type": "stream",
          "text": [
            "[1 2 3 4]\n",
            "<class 'numpy.ndarray'>\n"
          ]
        }
      ],
      "source": [
        "#Convert list to array\n",
        "c= np.array(a)\n",
        "print(c)\n",
        "print(type(c))"
      ]
    },
    {
      "cell_type": "code",
      "execution_count": null,
      "id": "45c44f72-5b74-4d8c-8887-049d3786dae4",
      "metadata": {
        "id": "45c44f72-5b74-4d8c-8887-049d3786dae4",
        "outputId": "90ae6f89-aa48-4b58-8a9c-509f60db2903"
      },
      "outputs": [
        {
          "name": "stdout",
          "output_type": "stream",
          "text": [
            "[1 2 3 4]\n",
            "<class 'numpy.ndarray'>\n"
          ]
        }
      ],
      "source": [
        "#Convert Tuple to array\n",
        "d= np.array(b)\n",
        "print(d)\n",
        "print(type(d))"
      ]
    },
    {
      "cell_type": "code",
      "execution_count": null,
      "id": "a2cb74bc-f32d-4c46-b345-a643d8d74852",
      "metadata": {
        "id": "a2cb74bc-f32d-4c46-b345-a643d8d74852",
        "outputId": "c2e80b76-d4e5-4618-8299-fb99efca3199"
      },
      "outputs": [
        {
          "name": "stdout",
          "output_type": "stream",
          "text": [
            "[1 2 3 4]\n"
          ]
        }
      ],
      "source": [
        "print(c)"
      ]
    },
    {
      "cell_type": "code",
      "execution_count": null,
      "id": "7208cb0a-5311-4d44-b969-40234232c609",
      "metadata": {
        "id": "7208cb0a-5311-4d44-b969-40234232c609",
        "outputId": "fb98c9e2-0cfc-4428-d7f6-8398d5b00011"
      },
      "outputs": [
        {
          "name": "stdout",
          "output_type": "stream",
          "text": [
            "(4,)\n",
            "(4,)\n"
          ]
        }
      ],
      "source": [
        "#shape - tell shape of array\n",
        "\n",
        "print(c.shape)\n",
        "print(d.shape)"
      ]
    },
    {
      "cell_type": "code",
      "execution_count": null,
      "id": "75d7aa1b-7545-4942-80a2-cfba11afc0ba",
      "metadata": {
        "id": "75d7aa1b-7545-4942-80a2-cfba11afc0ba",
        "outputId": "a7bf7cf8-4fe1-4e49-909c-95c03a38b6bc"
      },
      "outputs": [
        {
          "name": "stdout",
          "output_type": "stream",
          "text": [
            "1\n",
            "1\n"
          ]
        }
      ],
      "source": [
        "# ndim - tells dimension of array\n",
        "print(c.ndim)\n",
        "print(d.ndim)"
      ]
    },
    {
      "cell_type": "code",
      "execution_count": null,
      "id": "2830c69c-5f75-4ddc-a3e5-ceb3dcf52d98",
      "metadata": {
        "id": "2830c69c-5f75-4ddc-a3e5-ceb3dcf52d98",
        "outputId": "e2e3fdb1-f151-4110-b680-025dd68f0688"
      },
      "outputs": [
        {
          "name": "stdout",
          "output_type": "stream",
          "text": [
            "[[1 2]\n",
            " [3 4]]\n",
            "2\n"
          ]
        }
      ],
      "source": [
        "# reshape  (1d- 2d)  - to change the shape of array\n",
        "\n",
        "e= c.reshape(2,2)\n",
        "print(e)\n",
        "print(e.ndim)\n"
      ]
    },
    {
      "cell_type": "code",
      "execution_count": null,
      "id": "77bbd9ce-bca8-4b55-a89d-6e53d052e895",
      "metadata": {
        "id": "77bbd9ce-bca8-4b55-a89d-6e53d052e895"
      },
      "outputs": [],
      "source": [
        "s= {1,2,3,4}"
      ]
    },
    {
      "cell_type": "code",
      "execution_count": null,
      "id": "5726a0b0-777a-475e-8028-9baaa70ed6bf",
      "metadata": {
        "id": "5726a0b0-777a-475e-8028-9baaa70ed6bf"
      },
      "outputs": [],
      "source": [
        "q= np.array(s)"
      ]
    },
    {
      "cell_type": "code",
      "execution_count": null,
      "id": "23ea637a-c873-43d6-b52f-92836af2f3ea",
      "metadata": {
        "id": "23ea637a-c873-43d6-b52f-92836af2f3ea",
        "outputId": "f85b8b7e-5e9b-4f4c-c62c-447e7cf2dce5"
      },
      "outputs": [
        {
          "data": {
            "text/plain": [
              "array({1, 2, 3, 4}, dtype=object)"
            ]
          },
          "execution_count": 21,
          "metadata": {},
          "output_type": "execute_result"
        }
      ],
      "source": [
        "q"
      ]
    },
    {
      "cell_type": "code",
      "execution_count": null,
      "id": "bfc96f5b-ddf6-405c-84c6-d5e0b275c66e",
      "metadata": {
        "id": "bfc96f5b-ddf6-405c-84c6-d5e0b275c66e",
        "outputId": "a422830e-6c0d-44a0-ec44-6abab85bd677"
      },
      "outputs": [
        {
          "name": "stdout",
          "output_type": "stream",
          "text": [
            "()\n"
          ]
        }
      ],
      "source": [
        "print(q.shape)"
      ]
    },
    {
      "cell_type": "code",
      "execution_count": null,
      "id": "52b475aa-bcc1-4321-aa01-2c62c727e19c",
      "metadata": {
        "id": "52b475aa-bcc1-4321-aa01-2c62c727e19c",
        "outputId": "07f2c789-20bf-4366-d89f-fbe4851fe374"
      },
      "outputs": [
        {
          "data": {
            "text/plain": [
              "0"
            ]
          },
          "execution_count": 24,
          "metadata": {},
          "output_type": "execute_result"
        }
      ],
      "source": [
        "q.ndim"
      ]
    },
    {
      "cell_type": "code",
      "execution_count": null,
      "id": "e393ff85-7b00-45e7-a044-6b0648dad560",
      "metadata": {
        "id": "e393ff85-7b00-45e7-a044-6b0648dad560",
        "outputId": "ce568584-e045-4672-9b71-131bbb9c6c20"
      },
      "outputs": [
        {
          "ename": "ValueError",
          "evalue": "cannot reshape array of size 1 into shape (2,2)",
          "output_type": "error",
          "traceback": [
            "\u001b[1;31m---------------------------------------------------------------------------\u001b[0m",
            "\u001b[1;31mValueError\u001b[0m                                Traceback (most recent call last)",
            "Cell \u001b[1;32mIn[25], line 1\u001b[0m\n\u001b[1;32m----> 1\u001b[0m q\u001b[38;5;241m.\u001b[39mreshape(\u001b[38;5;241m2\u001b[39m,\u001b[38;5;241m2\u001b[39m)\n",
            "\u001b[1;31mValueError\u001b[0m: cannot reshape array of size 1 into shape (2,2)"
          ]
        }
      ],
      "source": [
        "q.reshape(2,2)"
      ]
    },
    {
      "cell_type": "code",
      "execution_count": null,
      "id": "88b9bfb5-c4a2-4412-9ce2-d08416004c8c",
      "metadata": {
        "id": "88b9bfb5-c4a2-4412-9ce2-d08416004c8c",
        "outputId": "cec3c844-16ec-4058-f5f3-16b6c48a83a8"
      },
      "outputs": [
        {
          "data": {
            "text/plain": [
              "array([1, 2, 3, 4])"
            ]
          },
          "execution_count": 26,
          "metadata": {},
          "output_type": "execute_result"
        }
      ],
      "source": [
        "c"
      ]
    },
    {
      "cell_type": "code",
      "execution_count": null,
      "id": "63255fbb-caca-4c7e-9f4f-b5fbaed367bc",
      "metadata": {
        "id": "63255fbb-caca-4c7e-9f4f-b5fbaed367bc",
        "outputId": "085e3df9-627a-42d3-cf5a-529d8c41129e"
      },
      "outputs": [
        {
          "data": {
            "text/plain": [
              "4"
            ]
          },
          "execution_count": 30,
          "metadata": {},
          "output_type": "execute_result"
        }
      ],
      "source": [
        "c[3]"
      ]
    },
    {
      "cell_type": "code",
      "execution_count": null,
      "id": "66193cfa-d561-43b9-97fa-52837f9116ee",
      "metadata": {
        "id": "66193cfa-d561-43b9-97fa-52837f9116ee",
        "outputId": "c7c00a79-ec55-49bc-eddf-810bfd4b5cff"
      },
      "outputs": [
        {
          "data": {
            "text/plain": [
              "1"
            ]
          },
          "execution_count": 35,
          "metadata": {},
          "output_type": "execute_result"
        }
      ],
      "source": [
        "np.array([1]).ndim"
      ]
    },
    {
      "cell_type": "code",
      "execution_count": null,
      "id": "7c2d3308-b575-43ca-a21e-3ca847b3e306",
      "metadata": {
        "id": "7c2d3308-b575-43ca-a21e-3ca847b3e306",
        "outputId": "b42dffff-47d1-4f73-fd64-bf137d070ea0"
      },
      "outputs": [
        {
          "data": {
            "text/plain": [
              "2"
            ]
          },
          "execution_count": 37,
          "metadata": {},
          "output_type": "execute_result"
        }
      ],
      "source": [
        "#2D ARRAY\n",
        "np.array([[1,2,3],[4,5,6]])"
      ]
    },
    {
      "cell_type": "code",
      "execution_count": null,
      "id": "1d4f08f2-5aad-4f50-b684-ff09023f3545",
      "metadata": {
        "id": "1d4f08f2-5aad-4f50-b684-ff09023f3545",
        "outputId": "7bc5bce9-ac65-456a-962d-47c8d863376d"
      },
      "outputs": [
        {
          "data": {
            "text/plain": [
              "array([[[[1, 2, 3],\n",
              "         [4, 5, 6]]]])"
            ]
          },
          "execution_count": 60,
          "metadata": {},
          "output_type": "execute_result"
        }
      ],
      "source": [
        "#3D ARRAY\n",
        "np.array([[[[1,2,3],[4,5,6]]]])"
      ]
    },
    {
      "cell_type": "code",
      "execution_count": null,
      "id": "e9d46194-7c87-447a-b99e-6637efc15b67",
      "metadata": {
        "id": "e9d46194-7c87-447a-b99e-6637efc15b67",
        "outputId": "1a2b5d1a-de00-4cd3-87a3-40201372f667"
      },
      "outputs": [
        {
          "data": {
            "text/plain": [
              "dtype('int32')"
            ]
          },
          "execution_count": 50,
          "metadata": {},
          "output_type": "execute_result"
        }
      ],
      "source": [
        "c.dtype"
      ]
    },
    {
      "cell_type": "code",
      "execution_count": null,
      "id": "3d895c77-84c1-4d26-889e-f737a6280be5",
      "metadata": {
        "id": "3d895c77-84c1-4d26-889e-f737a6280be5",
        "outputId": "8afbe363-25e1-43f9-adcc-6784799a370d"
      },
      "outputs": [
        {
          "data": {
            "text/plain": [
              "array([1, 2, 3, 4])"
            ]
          },
          "execution_count": 51,
          "metadata": {},
          "output_type": "execute_result"
        }
      ],
      "source": [
        "c"
      ]
    },
    {
      "cell_type": "code",
      "execution_count": null,
      "id": "8c2b940b-1ae6-4ebb-abf6-8c7281ff92f8",
      "metadata": {
        "id": "8c2b940b-1ae6-4ebb-abf6-8c7281ff92f8"
      },
      "outputs": [],
      "source": [
        "# dtype\n",
        "\n",
        "a= np.array([1,2,3,4], dtype= \"object\")"
      ]
    },
    {
      "cell_type": "code",
      "execution_count": null,
      "id": "d523f69b-2973-441e-96af-254c19a37e14",
      "metadata": {
        "id": "d523f69b-2973-441e-96af-254c19a37e14",
        "outputId": "81fd834f-5b2d-4543-fe7c-b2edce292556"
      },
      "outputs": [
        {
          "data": {
            "text/plain": [
              "dtype('O')"
            ]
          },
          "execution_count": 57,
          "metadata": {},
          "output_type": "execute_result"
        }
      ],
      "source": [
        "a.dtype"
      ]
    },
    {
      "cell_type": "code",
      "execution_count": null,
      "id": "20072a73-a389-448a-93c9-3a7ed09574af",
      "metadata": {
        "id": "20072a73-a389-448a-93c9-3a7ed09574af",
        "outputId": "44bc2010-d2a4-4d67-a517-719328fc6c5a"
      },
      "outputs": [
        {
          "data": {
            "text/plain": [
              "array([1, 2, 3, 4], dtype=object)"
            ]
          },
          "execution_count": 61,
          "metadata": {},
          "output_type": "execute_result"
        }
      ],
      "source": [
        "a"
      ]
    },
    {
      "cell_type": "code",
      "execution_count": null,
      "id": "141353a4-40bb-462d-b07a-364280b7f90f",
      "metadata": {
        "id": "141353a4-40bb-462d-b07a-364280b7f90f"
      },
      "outputs": [],
      "source": [
        "# form array using inbuild functions."
      ]
    },
    {
      "cell_type": "code",
      "execution_count": null,
      "id": "647aa310-b382-4c7f-8268-7a8ad894346f",
      "metadata": {
        "id": "647aa310-b382-4c7f-8268-7a8ad894346f",
        "outputId": "de246829-2b6f-4b75-814f-b1efdcc416f4"
      },
      "outputs": [
        {
          "name": "stdout",
          "output_type": "stream",
          "text": [
            "[0 1 2 3 4 5 6 7 8 9]\n",
            "[4 5 6 7 8 9]\n",
            "[2 4 6 8]\n"
          ]
        }
      ],
      "source": [
        "# arange\n",
        "print(np.arange(10))\n",
        "print(np.arange(4,10))\n",
        "print(np.arange(2,10,2))\n",
        "a= np.arange(10, dtype= \"int64\")"
      ]
    },
    {
      "cell_type": "code",
      "execution_count": null,
      "id": "6e7f1e17-c0c9-481e-91f5-79c4956c230d",
      "metadata": {
        "id": "6e7f1e17-c0c9-481e-91f5-79c4956c230d",
        "outputId": "ddd03be6-0fc7-4618-c5b7-1d628ce4aa57"
      },
      "outputs": [
        {
          "data": {
            "text/plain": [
              "array([[0, 1],\n",
              "       [2, 3],\n",
              "       [4, 5],\n",
              "       [6, 7],\n",
              "       [8, 9]], dtype=int64)"
            ]
          },
          "execution_count": 73,
          "metadata": {},
          "output_type": "execute_result"
        }
      ],
      "source": [
        "a.reshape(5,2)"
      ]
    },
    {
      "cell_type": "code",
      "execution_count": null,
      "id": "3b5e4135-5e3c-44a0-a467-fbce494958b8",
      "metadata": {
        "id": "3b5e4135-5e3c-44a0-a467-fbce494958b8",
        "outputId": "19b3af56-6b9b-4501-a562-d70bd318edfb"
      },
      "outputs": [
        {
          "data": {
            "text/plain": [
              "array([[[[ 0,  1],\n",
              "         [ 2,  3]],\n",
              "\n",
              "        [[ 4,  5],\n",
              "         [ 6,  7]],\n",
              "\n",
              "        [[ 8,  9],\n",
              "         [10, 11]],\n",
              "\n",
              "        [[12, 13],\n",
              "         [14, 15]],\n",
              "\n",
              "        [[16, 17],\n",
              "         [18, 19]]],\n",
              "\n",
              "\n",
              "       [[[20, 21],\n",
              "         [22, 23]],\n",
              "\n",
              "        [[24, 25],\n",
              "         [26, 27]],\n",
              "\n",
              "        [[28, 29],\n",
              "         [30, 31]],\n",
              "\n",
              "        [[32, 33],\n",
              "         [34, 35]],\n",
              "\n",
              "        [[36, 37],\n",
              "         [38, 39]]]])"
            ]
          },
          "execution_count": 80,
          "metadata": {},
          "output_type": "execute_result"
        }
      ],
      "source": [
        "np.arange(40).reshape(2,5,2,2)"
      ]
    },
    {
      "cell_type": "code",
      "execution_count": null,
      "id": "095ea39e-820e-4fcf-9b3e-e1c1fcb695f6",
      "metadata": {
        "id": "095ea39e-820e-4fcf-9b3e-e1c1fcb695f6",
        "outputId": "f0e5bfbb-e71d-40d3-ac62-0f765f5cce10"
      },
      "outputs": [
        {
          "name": "stdout",
          "output_type": "stream",
          "text": [
            "[1. 1. 1. 1. 1.]\n",
            "\n",
            "[[1. 1. 1.]\n",
            " [1. 1. 1.]\n",
            " [1. 1. 1.]]\n",
            "\n",
            "[[1 1 1]\n",
            " [1 1 1]\n",
            " [1 1 1]]\n"
          ]
        }
      ],
      "source": [
        "# np.ones   - create a matrix where every element is 1.\n",
        "print(np.ones(5))\n",
        "print()\n",
        "print(np.ones((3,3)))\n",
        "print()\n",
        "print(np.ones((3,3), dtype =\"object\"))"
      ]
    },
    {
      "cell_type": "code",
      "execution_count": null,
      "id": "f74def68-b329-4afe-8432-20d7e04f5454",
      "metadata": {
        "id": "f74def68-b329-4afe-8432-20d7e04f5454",
        "outputId": "f9186615-d15c-4f81-e809-ba19162c2b1e"
      },
      "outputs": [
        {
          "name": "stdout",
          "output_type": "stream",
          "text": [
            "[0. 0. 0. 0. 0.]\n",
            "\n",
            "[[0. 0. 0. 0.]\n",
            " [0. 0. 0. 0.]\n",
            " [0. 0. 0. 0.]\n",
            " [0. 0. 0. 0.]]\n",
            "\n",
            "[[0 0 0 0]\n",
            " [0 0 0 0]\n",
            " [0 0 0 0]\n",
            " [0 0 0 0]]\n"
          ]
        }
      ],
      "source": [
        "#  np.zero   - create a matrix where every element is 0.\n",
        "print(np.zeros(5))\n",
        "print()\n",
        "print(np.zeros((4,4)))\n",
        "print()\n",
        "print(np.zeros((4,4), dtype = \"object\"))"
      ]
    },
    {
      "cell_type": "code",
      "execution_count": null,
      "id": "f85345bf-61b3-4474-ae7d-23a9a119db2d",
      "metadata": {
        "id": "f85345bf-61b3-4474-ae7d-23a9a119db2d",
        "outputId": "3172aa27-ee87-4cf3-ec60-549be0f5f36d"
      },
      "outputs": [
        {
          "name": "stdout",
          "output_type": "stream",
          "text": [
            "[12 12 12 12 12]\n",
            "\n",
            "[[24 24 24 24 24]\n",
            " [24 24 24 24 24]\n",
            " [24 24 24 24 24]\n",
            " [24 24 24 24 24]\n",
            " [24 24 24 24 24]]\n",
            "\n",
            "[[68. 68. 68. 68.]\n",
            " [68. 68. 68. 68.]\n",
            " [68. 68. 68. 68.]\n",
            " [68. 68. 68. 68.]]\n"
          ]
        }
      ],
      "source": [
        "# np.full  - creates an array out of desired number.\n",
        "\n",
        "print(np.full(5,12))\n",
        "print()\n",
        "print(np.full((5,5),24))\n",
        "print()\n",
        "print(np.full((4,4), 68, dtype= \"float\"))"
      ]
    },
    {
      "cell_type": "code",
      "execution_count": null,
      "id": "1c31ae87-c373-4873-b393-ef7402c1206e",
      "metadata": {
        "id": "1c31ae87-c373-4873-b393-ef7402c1206e",
        "outputId": "b2661df5-2a66-41d5-e7e1-92abbdd29d34"
      },
      "outputs": [
        {
          "data": {
            "text/plain": [
              "array([[1, 0, 0, 0, 0],\n",
              "       [0, 1, 0, 0, 0],\n",
              "       [0, 0, 1, 0, 0],\n",
              "       [0, 0, 0, 1, 0],\n",
              "       [0, 0, 0, 0, 1]], dtype=object)"
            ]
          },
          "execution_count": 102,
          "metadata": {},
          "output_type": "execute_result"
        }
      ],
      "source": [
        "# Identity matrix.\n",
        "np.identity(5, dtype= \"object\")"
      ]
    },
    {
      "cell_type": "code",
      "execution_count": null,
      "id": "926275b1-c5ef-48ed-a6aa-a8689a95be6c",
      "metadata": {
        "id": "926275b1-c5ef-48ed-a6aa-a8689a95be6c",
        "outputId": "26df3e19-7c3a-4305-d164-1cc3e9979665"
      },
      "outputs": [
        {
          "data": {
            "text/plain": [
              "array([[0.47535626, 0.73605195, 0.31999925, 0.82686374],\n",
              "       [0.95205338, 0.30153352, 0.20046685, 0.50557463],\n",
              "       [0.64328298, 0.8760743 , 0.59954704, 0.15877962],\n",
              "       [0.57611951, 0.16375959, 0.19108181, 0.93853848]])"
            ]
          },
          "execution_count": 104,
          "metadata": {},
          "output_type": "execute_result"
        }
      ],
      "source": [
        "#  random matrix of decimal number\n",
        "np.random.random((4,4))   #every element will be between 0-1"
      ]
    },
    {
      "cell_type": "code",
      "execution_count": null,
      "id": "839a428a-d746-4d38-81f5-893fa4fadf5f",
      "metadata": {
        "id": "839a428a-d746-4d38-81f5-893fa4fadf5f",
        "outputId": "2968888b-be98-446d-940f-160bad071520"
      },
      "outputs": [
        {
          "name": "stdout",
          "output_type": "stream",
          "text": [
            "8\n",
            "\n",
            "50\n",
            "\n",
            "[[16  8 13]\n",
            " [16 15 13]\n",
            " [ 7 14 10]]\n",
            "\n",
            "[[[32 93 60 23 58  8]\n",
            "  [ 8 44  9 79 12 31]\n",
            "  [75  5 51 14 53 39]\n",
            "  [ 1 63 78 17 84 24]\n",
            "  [39 68 58 98 50 24]]\n",
            "\n",
            " [[ 2 52 40 58 17 48]\n",
            "  [63 15 54  2 14 90]\n",
            "  [96 42 22 59 86 60]\n",
            "  [86 12 87 47 59 42]\n",
            "  [28 50 42 22 11 69]]\n",
            "\n",
            " [[31 34  9 17 66  9]\n",
            "  [ 7 98 82 47 83 57]\n",
            "  [ 7 64  2 86 90 55]\n",
            "  [17 95  1 44 58 82]\n",
            "  [68  3 87 53 62 60]]\n",
            "\n",
            " [[80 40 50  3 30 68]\n",
            "  [65 18 29 63 65 37]\n",
            "  [10 10 45 64 67 97]\n",
            "  [24 66  9 95 83  6]\n",
            "  [11  6 86 80 47 57]]]\n"
          ]
        }
      ],
      "source": [
        "# non decimal matrix\n",
        "print(np.random.randint(10))  #random number between 1-10\n",
        "print()\n",
        "print(np.random.randint(30,51))\n",
        "print()\n",
        "print(np.random.randint(1,20, size=(3,3)))\n",
        "print()\n",
        "print(np.random.randint(1,100, size=(4,5,6)))"
      ]
    },
    {
      "cell_type": "code",
      "execution_count": null,
      "id": "31d8816b-0ae4-4673-8a2f-783893e7a090",
      "metadata": {
        "id": "31d8816b-0ae4-4673-8a2f-783893e7a090"
      },
      "outputs": [],
      "source": [
        "import time"
      ]
    },
    {
      "cell_type": "code",
      "execution_count": null,
      "id": "90d0bc85-f428-42f2-9241-92fc3196a37a",
      "metadata": {
        "id": "90d0bc85-f428-42f2-9241-92fc3196a37a"
      },
      "outputs": [],
      "source": [
        "a=time.time()"
      ]
    },
    {
      "cell_type": "code",
      "execution_count": null,
      "id": "d7b839cb-21ae-4c91-9773-ac3cb3301a0f",
      "metadata": {
        "id": "d7b839cb-21ae-4c91-9773-ac3cb3301a0f"
      },
      "outputs": [],
      "source": [
        "b=time.time()"
      ]
    },
    {
      "cell_type": "code",
      "execution_count": null,
      "id": "2b525b39-f166-4026-91ec-75cea1bb82d0",
      "metadata": {
        "id": "2b525b39-f166-4026-91ec-75cea1bb82d0",
        "outputId": "b822ebc9-393f-4c60-c713-ea82aea91b15"
      },
      "outputs": [
        {
          "data": {
            "text/plain": [
              "0.6314241886138916"
            ]
          },
          "execution_count": 120,
          "metadata": {},
          "output_type": "execute_result"
        }
      ],
      "source": [
        "b-a"
      ]
    },
    {
      "cell_type": "code",
      "execution_count": null,
      "id": "c7d2870c-3558-471a-9417-f38fcdfebade",
      "metadata": {
        "id": "c7d2870c-3558-471a-9417-f38fcdfebade",
        "outputId": "20301614-8bd9-40ac-cf55-f9898ec78349"
      },
      "outputs": [
        {
          "name": "stdout",
          "output_type": "stream",
          "text": [
            "Total Duration 2.687835454940796\n"
          ]
        }
      ],
      "source": [
        "#Execution time [speed]\n",
        "#LIST\n",
        "a =[i for i in range(10000000)]\n",
        "b= [i for i in range(10000000,20000000)]\n",
        "\n",
        "c=[]\n",
        "start= time.time()\n",
        "for i in range(len(a)):\n",
        "    c.append(a[i]+b[i])\n",
        "end= time.time()\n",
        "\n",
        "print(f\"Total Duration {end-start}\")"
      ]
    },
    {
      "cell_type": "code",
      "execution_count": null,
      "id": "49afae28-f4ec-47b4-ba1a-fc55fe4adfdd",
      "metadata": {
        "id": "49afae28-f4ec-47b4-ba1a-fc55fe4adfdd",
        "outputId": "86665f3a-4ebd-4c70-bf33-2c3293573d7f"
      },
      "outputs": [
        {
          "name": "stdout",
          "output_type": "stream",
          "text": [
            "Total Duration 0.14126944541931152\n"
          ]
        }
      ],
      "source": [
        "# ARRAY\n",
        "a= np.arange(10000000)\n",
        "b= np.arange(10000000,20000000)\n",
        "\n",
        "start= time.time()\n",
        "c= a+b\n",
        "end= time.time()\n",
        "\n",
        "print(f\"Total Duration {end-start}\")"
      ]
    },
    {
      "cell_type": "code",
      "execution_count": null,
      "id": "59534d78-aea4-4802-aeae-87d572c75b70",
      "metadata": {
        "id": "59534d78-aea4-4802-aeae-87d572c75b70",
        "outputId": "3793559a-09b3-4a40-ddcc-2a21be3140cd"
      },
      "outputs": [
        {
          "data": {
            "text/plain": [
              "19.026304286555717"
            ]
          },
          "execution_count": 123,
          "metadata": {},
          "output_type": "execute_result"
        }
      ],
      "source": [
        "2.687835454940796/0.14126944541931152"
      ]
    },
    {
      "cell_type": "code",
      "execution_count": null,
      "id": "4e31c0a2-4751-43b3-b3f7-b0d927aac5cb",
      "metadata": {
        "id": "4e31c0a2-4751-43b3-b3f7-b0d927aac5cb"
      },
      "outputs": [],
      "source": [
        "a= np.array([1,2,3,4])\n",
        "b= np.array([1,2,3,4])"
      ]
    },
    {
      "cell_type": "code",
      "execution_count": null,
      "id": "fc897887-7995-4de9-962d-90674d37f6b1",
      "metadata": {
        "id": "fc897887-7995-4de9-962d-90674d37f6b1",
        "outputId": "6416f3bc-0d96-423a-f8b7-0cf63d097a4c"
      },
      "outputs": [
        {
          "data": {
            "text/plain": [
              "array([2, 4, 6, 8])"
            ]
          },
          "execution_count": 130,
          "metadata": {},
          "output_type": "execute_result"
        }
      ],
      "source": [
        "a+b"
      ]
    },
    {
      "cell_type": "code",
      "execution_count": null,
      "id": "7f1680d1-64e6-4569-8aaf-ae6158d8a4a7",
      "metadata": {
        "id": "7f1680d1-64e6-4569-8aaf-ae6158d8a4a7"
      },
      "outputs": [],
      "source": [
        "# MEMORY\n",
        "import sys"
      ]
    },
    {
      "cell_type": "code",
      "execution_count": null,
      "id": "c959d011-90bf-4087-a14a-cd927fcb70fd",
      "metadata": {
        "id": "c959d011-90bf-4087-a14a-cd927fcb70fd",
        "outputId": "d20a21c9-516c-43bd-ae7c-8bb4a80c200b"
      },
      "outputs": [
        {
          "data": {
            "text/plain": [
              "89095160"
            ]
          },
          "execution_count": 133,
          "metadata": {},
          "output_type": "execute_result"
        }
      ],
      "source": [
        "#LIST\n",
        "a =[i for i in range(10000000)]\n",
        "sys.getsizeof(a)"
      ]
    },
    {
      "cell_type": "code",
      "execution_count": null,
      "id": "bf52b863-1d50-4c57-9724-13b1ad87c630",
      "metadata": {
        "id": "bf52b863-1d50-4c57-9724-13b1ad87c630",
        "outputId": "649f4149-9f75-48aa-fa22-64a7f4e6de52"
      },
      "outputs": [
        {
          "data": {
            "text/plain": [
              "40000112"
            ]
          },
          "execution_count": 135,
          "metadata": {},
          "output_type": "execute_result"
        }
      ],
      "source": [
        "# ARRAY\n",
        "a= np.arange(10000000)\n",
        "sys.getsizeof(a)"
      ]
    },
    {
      "cell_type": "code",
      "execution_count": null,
      "id": "3eaf3245-33e1-43a2-9ff7-9110bc905929",
      "metadata": {
        "id": "3eaf3245-33e1-43a2-9ff7-9110bc905929",
        "outputId": "e4b76d45-1583-4606-dfb0-4398b4a30d57"
      },
      "outputs": [
        {
          "data": {
            "text/plain": [
              "2.2273727633562626"
            ]
          },
          "execution_count": 136,
          "metadata": {},
          "output_type": "execute_result"
        }
      ],
      "source": [
        "89095160/40000112"
      ]
    },
    {
      "cell_type": "code",
      "execution_count": null,
      "id": "44a613e6-a400-4433-bba5-20ff0015c3d5",
      "metadata": {
        "id": "44a613e6-a400-4433-bba5-20ff0015c3d5"
      },
      "outputs": [],
      "source": [
        "# ARRAY FUNCTIONS.\n",
        "\n",
        "#ndim\n",
        "#shape\n",
        "#reshape\n"
      ]
    },
    {
      "cell_type": "code",
      "execution_count": null,
      "id": "f8a669d1-b464-44e1-9999-3aaa3d8de32b",
      "metadata": {
        "id": "f8a669d1-b464-44e1-9999-3aaa3d8de32b"
      },
      "outputs": [],
      "source": [
        "a= np.random.randint(1,10, size=(3,3))"
      ]
    },
    {
      "cell_type": "code",
      "execution_count": null,
      "id": "9b093abe-a768-4a24-af7d-16f3ce7ca98d",
      "metadata": {
        "id": "9b093abe-a768-4a24-af7d-16f3ce7ca98d",
        "outputId": "291ac4fc-b2c6-43fd-a9d8-e5093a925159"
      },
      "outputs": [
        {
          "data": {
            "text/plain": [
              "array([[1, 9, 3],\n",
              "       [6, 2, 5],\n",
              "       [6, 7, 1]])"
            ]
          },
          "execution_count": 139,
          "metadata": {},
          "output_type": "execute_result"
        }
      ],
      "source": [
        "a"
      ]
    },
    {
      "cell_type": "code",
      "execution_count": null,
      "id": "28a8b94e-b925-43d8-be7d-f6c8399faaec",
      "metadata": {
        "id": "28a8b94e-b925-43d8-be7d-f6c8399faaec",
        "outputId": "79b20658-3e49-4f61-bca5-781600a2863d"
      },
      "outputs": [
        {
          "data": {
            "text/plain": [
              "9"
            ]
          },
          "execution_count": 140,
          "metadata": {},
          "output_type": "execute_result"
        }
      ],
      "source": [
        "a.size   # tells  total number of elements in an array/matrix"
      ]
    },
    {
      "cell_type": "code",
      "execution_count": null,
      "id": "8458746f-ade7-4509-98c2-5d5845613a4a",
      "metadata": {
        "id": "8458746f-ade7-4509-98c2-5d5845613a4a",
        "outputId": "5ba93079-39c7-4886-a481-7524ac6b95b0"
      },
      "outputs": [
        {
          "data": {
            "text/plain": [
              "4"
            ]
          },
          "execution_count": 142,
          "metadata": {},
          "output_type": "execute_result"
        }
      ],
      "source": [
        "a.itemsize  # tells how much space an single element is occupying  in memory"
      ]
    },
    {
      "cell_type": "code",
      "execution_count": null,
      "id": "c1015589-95b8-4d69-95e7-649fa08d9b2f",
      "metadata": {
        "id": "c1015589-95b8-4d69-95e7-649fa08d9b2f"
      },
      "outputs": [],
      "source": [
        "a= np.random.randint(1,10, size=(3,3))"
      ]
    },
    {
      "cell_type": "code",
      "execution_count": null,
      "id": "49193b85-bb14-4d9d-830e-88b76789d3fd",
      "metadata": {
        "id": "49193b85-bb14-4d9d-830e-88b76789d3fd",
        "outputId": "d9bda207-38e7-47b5-97ef-215fabcb556c"
      },
      "outputs": [
        {
          "data": {
            "text/plain": [
              "array([[3, 4, 6],\n",
              "       [7, 5, 3],\n",
              "       [9, 8, 6]])"
            ]
          },
          "execution_count": 165,
          "metadata": {},
          "output_type": "execute_result"
        }
      ],
      "source": [
        "a"
      ]
    },
    {
      "cell_type": "code",
      "execution_count": null,
      "id": "be7d9237-6877-4ce4-b44f-861275b591ab",
      "metadata": {
        "id": "be7d9237-6877-4ce4-b44f-861275b591ab"
      },
      "outputs": [],
      "source": [
        "b= a.astype(\"object\")"
      ]
    },
    {
      "cell_type": "code",
      "execution_count": null,
      "id": "cc944886-407e-4cbd-a48d-332a7df33db2",
      "metadata": {
        "id": "cc944886-407e-4cbd-a48d-332a7df33db2",
        "outputId": "9f0396ac-71cf-4611-b13b-d30eebc784ef"
      },
      "outputs": [
        {
          "data": {
            "text/plain": [
              "array([[3, 4, 6],\n",
              "       [7, 5, 3],\n",
              "       [9, 8, 6]], dtype=object)"
            ]
          },
          "execution_count": 169,
          "metadata": {},
          "output_type": "execute_result"
        }
      ],
      "source": [
        "b"
      ]
    },
    {
      "cell_type": "code",
      "execution_count": null,
      "id": "326c09ee-4ca3-450b-974a-39d728ab867b",
      "metadata": {
        "id": "326c09ee-4ca3-450b-974a-39d728ab867b",
        "outputId": "1eeddf30-04ac-4c2e-879b-7ba96c1e4db5"
      },
      "outputs": [
        {
          "data": {
            "text/plain": [
              "9"
            ]
          },
          "execution_count": 160,
          "metadata": {},
          "output_type": "execute_result"
        }
      ],
      "source": [
        "b.size"
      ]
    },
    {
      "cell_type": "code",
      "execution_count": null,
      "id": "81283197-1bd9-4a8b-8539-725264e6a5c3",
      "metadata": {
        "id": "81283197-1bd9-4a8b-8539-725264e6a5c3",
        "outputId": "1337473a-db8d-40d1-840d-441c320b2d19"
      },
      "outputs": [
        {
          "data": {
            "text/plain": [
              "8"
            ]
          },
          "execution_count": 161,
          "metadata": {},
          "output_type": "execute_result"
        }
      ],
      "source": [
        "b.itemsize"
      ]
    },
    {
      "cell_type": "code",
      "execution_count": null,
      "id": "8e024ff2-a895-408f-9790-6fe259151053",
      "metadata": {
        "id": "8e024ff2-a895-408f-9790-6fe259151053"
      },
      "outputs": [],
      "source": [
        "c= np.array([[3,\"2333\"],[\"q\",\"we\"]])"
      ]
    },
    {
      "cell_type": "code",
      "execution_count": null,
      "id": "f87500f1-f2dd-4393-b86c-4d89b142ff47",
      "metadata": {
        "id": "f87500f1-f2dd-4393-b86c-4d89b142ff47",
        "outputId": "d5060f55-ca8b-47a9-ed57-0cb7a3a01570"
      },
      "outputs": [
        {
          "data": {
            "text/plain": [
              "array([['3', '2333'],\n",
              "       ['q', 'we']], dtype='<U11')"
            ]
          },
          "execution_count": 185,
          "metadata": {},
          "output_type": "execute_result"
        }
      ],
      "source": [
        "c"
      ]
    },
    {
      "cell_type": "code",
      "execution_count": null,
      "id": "74b87482-77d5-49b7-a112-9c0e510e5515",
      "metadata": {
        "id": "74b87482-77d5-49b7-a112-9c0e510e5515",
        "outputId": "61e16b91-bb99-4058-829f-49839b229033"
      },
      "outputs": [
        {
          "data": {
            "text/plain": [
              "44"
            ]
          },
          "execution_count": 186,
          "metadata": {},
          "output_type": "execute_result"
        }
      ],
      "source": [
        "c.itemsize"
      ]
    },
    {
      "cell_type": "code",
      "execution_count": null,
      "id": "ebe27e60-bfe8-424c-9799-912dedced551",
      "metadata": {
        "id": "ebe27e60-bfe8-424c-9799-912dedced551"
      },
      "outputs": [],
      "source": []
    }
  ],
  "metadata": {
    "kernelspec": {
      "display_name": "Python 3 (ipykernel)",
      "language": "python",
      "name": "python3"
    },
    "language_info": {
      "codemirror_mode": {
        "name": "ipython",
        "version": 3
      },
      "file_extension": ".py",
      "mimetype": "text/x-python",
      "name": "python",
      "nbconvert_exporter": "python",
      "pygments_lexer": "ipython3",
      "version": "3.12.7"
    },
    "colab": {
      "provenance": []
    }
  },
  "nbformat": 4,
  "nbformat_minor": 5
}