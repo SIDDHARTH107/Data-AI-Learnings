{
  "cells": [
    {
      "cell_type": "code",
      "execution_count": null,
      "id": "d09a2343-2906-4d5e-a61f-8bfa98c0c656",
      "metadata": {
        "id": "d09a2343-2906-4d5e-a61f-8bfa98c0c656",
        "outputId": "01e9f67f-d908-4a25-c0fd-5c7400df814f"
      },
      "outputs": [
        {
          "name": "stdout",
          "output_type": "stream",
          "text": [
            "Hello User.\n"
          ]
        }
      ],
      "source": [
        "#blank function.\n",
        "#creating a function.\n",
        "def greet():\n",
        "    print(f\"Hello User.\")\n",
        "\n",
        "#Calling a function\n",
        "greet()"
      ]
    },
    {
      "cell_type": "code",
      "execution_count": null,
      "id": "adcc1af0-07bd-4e89-945a-cfbd79cb3c6c",
      "metadata": {
        "id": "adcc1af0-07bd-4e89-945a-cfbd79cb3c6c",
        "outputId": "753f2e58-0ac6-461a-f30f-34ec5663f893"
      },
      "outputs": [
        {
          "name": "stdout",
          "output_type": "stream",
          "text": [
            "Hello User.Ajay sati\n"
          ]
        }
      ],
      "source": [
        "#Creating a function with argument.\n",
        "def greet(name):\n",
        "    print(f\"Hello User.{name}\")\n",
        "\n",
        "#Calling a function\n",
        "greet(\"Ajay sati\")"
      ]
    },
    {
      "cell_type": "code",
      "execution_count": null,
      "id": "dc72b198-0eca-460a-bd06-68275164d2eb",
      "metadata": {
        "id": "dc72b198-0eca-460a-bd06-68275164d2eb",
        "outputId": "cd6010fe-5c90-4045-e2da-e0d1bfbd6698"
      },
      "outputs": [
        {
          "name": "stdout",
          "output_type": "stream",
          "text": [
            "17\n",
            "17\n",
            "This is value of variable a .None\n"
          ]
        }
      ],
      "source": [
        "#creating a function\n",
        "def addition(a,b):\n",
        "    print(a+b)\n",
        "\n",
        "#calling a function\n",
        "addition(8,9)\n",
        "a= addition(8,9)\n",
        "print(f\"This is value of variable a .{a}\")"
      ]
    },
    {
      "cell_type": "code",
      "execution_count": null,
      "id": "b18c6b9d-b353-43db-88e1-d64d3efb60df",
      "metadata": {
        "id": "b18c6b9d-b353-43db-88e1-d64d3efb60df",
        "outputId": "785b7f8a-a649-43b5-8c03-379eeb2d6b71"
      },
      "outputs": [
        {
          "name": "stdout",
          "output_type": "stream",
          "text": [
            "This is value of variable a .17\n"
          ]
        }
      ],
      "source": [
        "#creating a function\n",
        "def addition1(a,b):\n",
        "    return (a+b)\n",
        "\n",
        "#calling a function\n",
        "addition1(8,9)\n",
        "a= addition1(8,9)\n",
        "print(f\"This is value of variable a .{a}\")"
      ]
    },
    {
      "cell_type": "code",
      "execution_count": null,
      "id": "f6b694c1-c51b-4a3a-8948-258b6dea8341",
      "metadata": {
        "id": "f6b694c1-c51b-4a3a-8948-258b6dea8341",
        "outputId": "e54bf71d-dc3e-47ff-ac15-a5ac3cc66825"
      },
      "outputs": [
        {
          "data": {
            "text/plain": [
              "17"
            ]
          },
          "execution_count": 22,
          "metadata": {},
          "output_type": "execute_result"
        }
      ],
      "source": [
        "a"
      ]
    },
    {
      "cell_type": "code",
      "execution_count": null,
      "id": "3e7fdea3-a476-43ce-886b-133ce702daaf",
      "metadata": {
        "id": "3e7fdea3-a476-43ce-886b-133ce702daaf"
      },
      "outputs": [],
      "source": [
        "#FUNCTIONS CAN BE GIVEN PARARMTERS. AND THEY CAN BE MADE TO EXECUTE THE THINGS ON THE BASIS OF PARAMETER."
      ]
    },
    {
      "cell_type": "code",
      "execution_count": null,
      "id": "94249716-daae-48ca-871e-3a885aa04fc1",
      "metadata": {
        "id": "94249716-daae-48ca-871e-3a885aa04fc1",
        "outputId": "8ebaee73-86f7-4ab0-ea1f-09f0a607190e"
      },
      "outputs": [
        {
          "data": {
            "text/plain": [
              "120"
            ]
          },
          "execution_count": 4,
          "metadata": {},
          "output_type": "execute_result"
        }
      ],
      "source": [
        "#CALCULATE FACTORIAL FOR THE USER INPUT GIVEN\n",
        "\n",
        "#defining the function\n",
        "def factorial(a):\n",
        "    fact= 1\n",
        "    for i in range(1,a+1,1):\n",
        "        fact=fact*i\n",
        "    return fact\n",
        "\n",
        "#calling the function\n",
        "factorial(5)"
      ]
    },
    {
      "cell_type": "code",
      "execution_count": null,
      "id": "7829944a-6514-4ba8-b698-8919a5e64a83",
      "metadata": {
        "id": "7829944a-6514-4ba8-b698-8919a5e64a83"
      },
      "outputs": [],
      "source": [
        "#defualt parameter {can be set and after setting the default parameters , we can then also chnage the value if needed}\n",
        "def increment(salary , increment=0.20):\n",
        "    return(salary+(salary*increment))"
      ]
    },
    {
      "cell_type": "code",
      "execution_count": null,
      "id": "a2304e3b-bc89-4334-b7dc-f524c1735d21",
      "metadata": {
        "id": "a2304e3b-bc89-4334-b7dc-f524c1735d21",
        "outputId": "0841b95d-c14d-4810-f51b-d2fc4ae2dece"
      },
      "outputs": [
        {
          "data": {
            "text/plain": [
              "2400000.0"
            ]
          },
          "execution_count": 4,
          "metadata": {},
          "output_type": "execute_result"
        }
      ],
      "source": [
        "increment(2000000)"
      ]
    },
    {
      "cell_type": "code",
      "execution_count": null,
      "id": "d6ca61f7-10c6-4fd1-82e4-2dcc6e7b036b",
      "metadata": {
        "id": "d6ca61f7-10c6-4fd1-82e4-2dcc6e7b036b",
        "outputId": "db1c3fdd-a028-4b21-c3fa-a146ca71bfb2"
      },
      "outputs": [
        {
          "data": {
            "text/plain": [
              "15000.0"
            ]
          },
          "execution_count": 5,
          "metadata": {},
          "output_type": "execute_result"
        }
      ],
      "source": [
        "#calling the function.\n",
        "increment(10000, 0.50)"
      ]
    },
    {
      "cell_type": "code",
      "execution_count": null,
      "id": "cb95cb9b-2562-41fe-838a-6e5ce36016b3",
      "metadata": {
        "id": "cb95cb9b-2562-41fe-838a-6e5ce36016b3",
        "outputId": "444d3349-74a1-4208-933c-31ce48a892bd"
      },
      "outputs": [
        {
          "name": "stdout",
          "output_type": "stream",
          "text": [
            "sum: 10, subtract: -4, multiply: 21, divide: 0.42857142857142855\n"
          ]
        }
      ],
      "source": [
        "# return multiple values and store them into multiple variables.\n",
        "\n",
        "#defining the function\n",
        "def calculator(a,b):\n",
        "    w= a+b\n",
        "    x= a-b\n",
        "    y= a*b\n",
        "    z= a/b\n",
        "    return(w,x,y,z)\n",
        "\n",
        "#Calling the function\n",
        "l,m,n,o= calculator(3,7)\n",
        "print(f\"sum: {l}, subtract: {m}, multiply: {n}, divide: {o}\")"
      ]
    },
    {
      "cell_type": "code",
      "execution_count": null,
      "id": "b7831a90-1ab5-4a1a-b092-1364a8e04623",
      "metadata": {
        "id": "b7831a90-1ab5-4a1a-b092-1364a8e04623"
      },
      "outputs": [],
      "source": [
        "def calculator(a,b):\n",
        "    w= a+b\n",
        "    x= a-b\n",
        "    y= a*b\n",
        "    z= a/b\n",
        "    return(x)   # if there are multiple return statements, if statement will count only first return statement.\n",
        "    return(w)\n",
        ""
      ]
    },
    {
      "cell_type": "code",
      "execution_count": null,
      "id": "353e907a-e7d0-4568-8a44-078a0afc1dc4",
      "metadata": {
        "id": "353e907a-e7d0-4568-8a44-078a0afc1dc4"
      },
      "outputs": [],
      "source": [
        "a= calculator(4,5)"
      ]
    },
    {
      "cell_type": "code",
      "execution_count": null,
      "id": "03f73e69-0af0-4c3a-a214-a9e9a4c41ec7",
      "metadata": {
        "id": "03f73e69-0af0-4c3a-a214-a9e9a4c41ec7",
        "outputId": "fc02a33f-5de5-4e58-8f3f-40ddd7713ebc"
      },
      "outputs": [
        {
          "data": {
            "text/plain": [
              "-1"
            ]
          },
          "execution_count": 51,
          "metadata": {},
          "output_type": "execute_result"
        }
      ],
      "source": [
        "a"
      ]
    },
    {
      "cell_type": "raw",
      "id": "d49c2d6d-ccd0-4bcd-b8ac-d84e0f15e64f",
      "metadata": {
        "id": "d49c2d6d-ccd0-4bcd-b8ac-d84e0f15e64f"
      },
      "source": [
        "There is a dictionary, for the following dictionary , create a function where user will input its name and will get userid and password as output and , if the user id is not username is not listed , show the error message :- “No such user found.”\n",
        "\n",
        "{\n",
        "    \"Aarav\": {\"userid\": \"aarav1\", \"password\": \"passwordA1\"},\n",
        "    \"Aisha\": {\"userid\": \"aisha2\", \"password\": \"passwordA2\"},\n",
        "    \"Arjun\": {\"userid\": \"arjun3\", \"password\": \"passwordA3\"},\n",
        "    \"Diya\": {\"userid\": \"diya4\", \"password\": \"passwordD4\"},\n",
        "    \"Ishaan\": {\"userid\": \"ishaan5\", \"password\": \"passwordI5\"},\n",
        "    \"Priya\": {\"userid\": \"priya6\", \"password\": \"passwordP6\"},\n",
        "    \"Ravi\": {\"userid\": \"ravi7\", \"password\": \"passwordR7\"},\n",
        "    \"Simran\": {\"userid\": \"simran8\", \"password\": \"passwordS8\"},\n",
        "    \"Vikram\": {\"userid\": \"vikram9\", \"password\": \"passwordV9\"},\n",
        "    \"Neha\": {\"userid\": \"neha10\", \"password\": \"passwordN10\"},\n",
        "    \"Rahul\": {\"userid\": \"rahul11\", \"password\": \"passwordR11\"},\n",
        "    \"Sneha\": {\"userid\": \"sneha12\", \"password\": \"passwordS12\"},\n",
        "    \"Karan\": {\"userid\": \"karan13\", \"password\": \"passwordK13\"},\n",
        "    \"Tanvi\": {\"userid\": \"tanvi14\", \"password\": \"passwordT14\"},\n",
        "    \"Manish\": {\"userid\": \"manish15\", \"password\": \"passwordM15\"},\n",
        "    \"Meera\": {\"userid\": \"meera16\", \"password\": \"passwordM16\"},\n",
        "    \"Ananya\": {\"userid\": \"ananya17\", \"password\": \"passwordA17\"},\n",
        "    \"Sandeep\": {\"userid\": \"sandeep18\", \"password\": \"passwordS18\"},\n",
        "    \"Kavya\": {\"userid\": \"kavya19\", \"password\": \"passwordK19\"},\n",
        "    \"Rani\": {\"userid\": \"rani20\", \"password\": \"passwordR20\"}\n",
        "                   }\n",
        "\n"
      ]
    },
    {
      "cell_type": "code",
      "execution_count": null,
      "id": "586aecd0-584f-4d47-8b05-7ceb2f8c1bf7",
      "metadata": {
        "id": "586aecd0-584f-4d47-8b05-7ceb2f8c1bf7"
      },
      "outputs": [],
      "source": [
        "user_data= {\n",
        "    \"Aarav\": {\"userid\": \"aarav1\", \"password\": \"passwordA1\"},\n",
        "    \"Aisha\": {\"userid\": \"aisha2\", \"password\": \"passwordA2\"},\n",
        "    \"Arjun\": {\"userid\": \"arjun3\", \"password\": \"passwordA3\"},\n",
        "    \"Diya\": {\"userid\": \"diya4\", \"password\": \"passwordD4\"},\n",
        "    \"Ishaan\": {\"userid\": \"ishaan5\", \"password\": \"passwordI5\"},\n",
        "    \"Priya\": {\"userid\": \"priya6\", \"password\": \"passwordP6\"},\n",
        "    \"Ravi\": {\"userid\": \"ravi7\", \"password\": \"passwordR7\"},\n",
        "    \"Simran\": {\"userid\": \"simran8\", \"password\": \"passwordS8\"},\n",
        "    \"Vikram\": {\"userid\": \"vikram9\", \"password\": \"passwordV9\"},\n",
        "    \"Neha\": {\"userid\": \"neha10\", \"password\": \"passwordN10\"},\n",
        "    \"Rahul\": {\"userid\": \"rahul11\", \"password\": \"passwordR11\"},\n",
        "    \"Sneha\": {\"userid\": \"sneha12\", \"password\": \"passwordS12\"},\n",
        "    \"Karan\": {\"userid\": \"karan13\", \"password\": \"passwordK13\"},\n",
        "    \"Tanvi\": {\"userid\": \"tanvi14\", \"password\": \"passwordT14\"},\n",
        "    \"Manish\": {\"userid\": \"manish15\", \"password\": \"passwordM15\"},\n",
        "    \"Meera\": {\"userid\": \"meera16\", \"password\": \"passwordM16\"},\n",
        "    \"Ananya\": {\"userid\": \"ananya17\", \"password\": \"passwordA17\"},\n",
        "    \"Sandeep\": {\"userid\": \"sandeep18\", \"password\": \"passwordS18\"},\n",
        "    \"Kavya\": {\"userid\": \"kavya19\", \"password\": \"passwordK19\"},\n",
        "    \"Rani\": {\"userid\": \"rani20\", \"password\": \"passwordR20\"}\n",
        "}\n",
        "\n"
      ]
    },
    {
      "cell_type": "code",
      "execution_count": null,
      "id": "5877982b-55ff-4deb-9700-8589a4b0843e",
      "metadata": {
        "id": "5877982b-55ff-4deb-9700-8589a4b0843e",
        "outputId": "41096145-e7d5-4903-c7e8-8ff154d74087"
      },
      "outputs": [
        {
          "name": "stdout",
          "output_type": "stream",
          "text": [
            "True\n"
          ]
        }
      ],
      "source": [
        "if \"Kavya\" in user_data:    #show this line first\n",
        "    print(\"True\")"
      ]
    },
    {
      "cell_type": "code",
      "execution_count": null,
      "id": "d1b840c8-3a97-4dbc-88cc-5e4225f88afc",
      "metadata": {
        "id": "d1b840c8-3a97-4dbc-88cc-5e4225f88afc",
        "outputId": "a14c089e-a89d-4e87-9c27-559defe2e1ce"
      },
      "outputs": [
        {
          "name": "stdout",
          "output_type": "stream",
          "text": [
            "Hello Karan\n",
            "Your Username is : karan13\n",
            "Your Password is : passwordK13\n"
          ]
        }
      ],
      "source": [
        "#Creating Function.\n",
        "def get_user_credentials(username):\n",
        "    if username in user_data:\n",
        "        print(f\"Hello {username}\")\n",
        "        print(f\"Your Username is : {user_data[username][\"userid\"]}\")\n",
        "        print(f\"Your Password is : {user_data[username][\"password\"]}\")\n",
        "    else:\n",
        "        return \"No such user found.\"\n",
        "\n",
        "#Calling Function\n",
        "get_user_credentials(\"Karan\")\n",
        "\n",
        "\n",
        "#SO RATHER THAN EXECUTING THESE LINE OF CODE AGAIN AND AGAIN WE ARE  JUST CALLING THE FUNCTION, :- CODE REUSABILITY."
      ]
    },
    {
      "cell_type": "code",
      "execution_count": null,
      "id": "3e887352-cdf2-44b5-aeff-e162507d6355",
      "metadata": {
        "id": "3e887352-cdf2-44b5-aeff-e162507d6355"
      },
      "outputs": [],
      "source": [
        "#*args and **kwargs"
      ]
    },
    {
      "cell_type": "code",
      "execution_count": null,
      "id": "63db90a1-3096-4211-afd5-aa4015089df4",
      "metadata": {
        "id": "63db90a1-3096-4211-afd5-aa4015089df4"
      },
      "outputs": [],
      "source": [
        "# *args - allow function to accept any number of positional arguments.\n",
        "# arguments are passed to the function as list.\n",
        "# 'args' is temporary we can have any term after the *"
      ]
    },
    {
      "cell_type": "code",
      "execution_count": null,
      "id": "0faddbaf-fcb5-4a7c-b5e5-85055a82358f",
      "metadata": {
        "id": "0faddbaf-fcb5-4a7c-b5e5-85055a82358f"
      },
      "outputs": [],
      "source": [
        "#Lets say , we have to give multiple arguments\n",
        "#question - find sum of the entire year sales (12 arguments)\n",
        "\n",
        "def yearsale(*args):\n",
        "    return(sum(*args))"
      ]
    },
    {
      "cell_type": "code",
      "execution_count": null,
      "id": "ce7e0a8a-e842-45de-8347-cd4008538f1d",
      "metadata": {
        "id": "ce7e0a8a-e842-45de-8347-cd4008538f1d",
        "outputId": "4b7e9f53-7088-46e2-e9b0-8032230cc374"
      },
      "outputs": [
        {
          "data": {
            "text/plain": [
              "78"
            ]
          },
          "execution_count": 18,
          "metadata": {},
          "output_type": "execute_result"
        }
      ],
      "source": [
        "yearsale([1,2,3,4,5,6,7,8,9,10,11,12])"
      ]
    },
    {
      "cell_type": "code",
      "execution_count": null,
      "id": "269f5aaa-a9de-4303-861e-b2b8f58e7890",
      "metadata": {
        "id": "269f5aaa-a9de-4303-861e-b2b8f58e7890"
      },
      "outputs": [],
      "source": [
        "#this args keyword is temporary , we can use any other key word followed by *"
      ]
    },
    {
      "cell_type": "code",
      "execution_count": null,
      "id": "ce5cc243-ef70-4a07-b681-e36a8911ae33",
      "metadata": {
        "id": "ce5cc243-ef70-4a07-b681-e36a8911ae33"
      },
      "outputs": [],
      "source": [
        "def yearsale(*sales):\n",
        "    return(sum(*sales))"
      ]
    },
    {
      "cell_type": "code",
      "execution_count": null,
      "id": "5ddb9530-8d6b-469f-b62d-4e4dc82c3cde",
      "metadata": {
        "id": "5ddb9530-8d6b-469f-b62d-4e4dc82c3cde",
        "outputId": "66adc908-cacd-4888-f02d-2e13d4243778"
      },
      "outputs": [
        {
          "data": {
            "text/plain": [
              "78"
            ]
          },
          "execution_count": 20,
          "metadata": {},
          "output_type": "execute_result"
        }
      ],
      "source": [
        "yearsale([1,2,3,4,5,6,7,8,9,10,11,12])"
      ]
    },
    {
      "cell_type": "code",
      "execution_count": null,
      "id": "fb52bd9d-011f-4d2f-a92b-b4e67d631d15",
      "metadata": {
        "id": "fb52bd9d-011f-4d2f-a92b-b4e67d631d15"
      },
      "outputs": [],
      "source": [
        "#In Python, **kwargs allows you to pass a variable number of keyword arguments to a function. These arguments are collected into a dictionary\n",
        "# arguments are passed in key value pair.\n",
        "# kwargs is optional we can have nay name after **\n",
        "\n",
        "def fun2(**kwargs):\n",
        "    for key, values in kwargs.items():\n",
        "        print(f\"{key}:{values}\")"
      ]
    },
    {
      "cell_type": "code",
      "execution_count": null,
      "id": "6b20ada7-cc88-4544-97e9-5443a2fa63b4",
      "metadata": {
        "id": "6b20ada7-cc88-4544-97e9-5443a2fa63b4",
        "outputId": "0b7a6503-266c-4c92-ec24-b95c6966ae0f"
      },
      "outputs": [
        {
          "name": "stdout",
          "output_type": "stream",
          "text": [
            "Name:Ajay Sati\n",
            "Age:25\n",
            "Role:DataScientist\n"
          ]
        }
      ],
      "source": [
        "fun2(Name= \"Ajay Sati\", Age=25, Role= \"DataScientist\")"
      ]
    },
    {
      "cell_type": "code",
      "execution_count": null,
      "id": "a38a5acd-02c2-483e-a1d3-95bd6a857c7c",
      "metadata": {
        "id": "a38a5acd-02c2-483e-a1d3-95bd6a857c7c",
        "outputId": "ad734793-673a-4fee-abee-eff181d09c5d"
      },
      "outputs": [
        {
          "name": "stdout",
          "output_type": "stream",
          "text": [
            "True\n"
          ]
        }
      ],
      "source": [
        "#MORE PRACTISE WE WILL DO WHEN WE STUDY DATAFRAMES, THERE WE BASICALLY USE FUNCTIONS.\n",
        "#FUNCTIONS ARE SIMPLEY LOGIC OF CODE JINKO EK NAME DA DIYA HUMNE."
      ]
    },
    {
      "cell_type": "markdown",
      "id": "47491c60-549d-4d7d-b2d2-c5a9af2c2cfb",
      "metadata": {
        "id": "47491c60-549d-4d7d-b2d2-c5a9af2c2cfb"
      },
      "source": [
        "### LAMBDA FUNCTION."
      ]
    },
    {
      "cell_type": "raw",
      "id": "de29d649-2415-4a6f-bd4d-b306ca489759",
      "metadata": {
        "id": "de29d649-2415-4a6f-bd4d-b306ca489759"
      },
      "source": [
        "A lambda function is a quick and simple way to create a small function in Python without giving it a name. It's like writing a mini one-line function for temporary use.\n",
        "\n",
        "This one liner function is  created using  keyword lambda"
      ]
    },
    {
      "cell_type": "code",
      "execution_count": null,
      "id": "d2f4a797-ce15-4250-8439-d394bdf971e2",
      "metadata": {
        "id": "d2f4a797-ce15-4250-8439-d394bdf971e2"
      },
      "outputs": [],
      "source": [
        "# lambda argument: expression"
      ]
    },
    {
      "cell_type": "code",
      "execution_count": null,
      "id": "b1fe1d64-1fcb-4775-bcd3-89527493ee19",
      "metadata": {
        "id": "b1fe1d64-1fcb-4775-bcd3-89527493ee19"
      },
      "outputs": [],
      "source": [
        "#function to DOuble something"
      ]
    },
    {
      "cell_type": "code",
      "execution_count": null,
      "id": "a4142f3b-c09c-42b0-904e-be839ea0ca1f",
      "metadata": {
        "id": "a4142f3b-c09c-42b0-904e-be839ea0ca1f"
      },
      "outputs": [],
      "source": [
        "def fun1(a):\n",
        "    print(a*2)"
      ]
    },
    {
      "cell_type": "code",
      "execution_count": null,
      "id": "e3d90b4e-301d-4360-a293-65d6710061eb",
      "metadata": {
        "id": "e3d90b4e-301d-4360-a293-65d6710061eb"
      },
      "outputs": [],
      "source": [
        "double = lambda x:x*2  # one argument"
      ]
    },
    {
      "cell_type": "code",
      "execution_count": null,
      "id": "b9a7f7d4-fe68-4598-88fa-8951266a479e",
      "metadata": {
        "id": "b9a7f7d4-fe68-4598-88fa-8951266a479e",
        "outputId": "b9ac473b-8e20-4467-cdc7-8b07e1ca3938"
      },
      "outputs": [
        {
          "name": "stdout",
          "output_type": "stream",
          "text": [
            "10\n"
          ]
        }
      ],
      "source": [
        "print(double(5))"
      ]
    },
    {
      "cell_type": "code",
      "execution_count": null,
      "id": "e53e6d79-12c2-4160-ba31-05882541d851",
      "metadata": {
        "id": "e53e6d79-12c2-4160-ba31-05882541d851"
      },
      "outputs": [],
      "source": [
        "addi= lambda x,y:x+y"
      ]
    },
    {
      "cell_type": "code",
      "execution_count": null,
      "id": "f16d181e-736f-4ad1-a570-704a81747af4",
      "metadata": {
        "id": "f16d181e-736f-4ad1-a570-704a81747af4",
        "outputId": "afb22774-b40e-4c93-b748-602837506575"
      },
      "outputs": [
        {
          "name": "stdout",
          "output_type": "stream",
          "text": [
            "6\n"
          ]
        }
      ],
      "source": [
        "print(addi(2,4))"
      ]
    },
    {
      "cell_type": "code",
      "execution_count": null,
      "id": "3e2891b2-884e-45f6-8ae7-8fd28279329b",
      "metadata": {
        "id": "3e2891b2-884e-45f6-8ae7-8fd28279329b"
      },
      "outputs": [],
      "source": []
    },
    {
      "cell_type": "code",
      "execution_count": null,
      "id": "e1860137-f3c7-4875-a3d7-4285e17fcc41",
      "metadata": {
        "id": "e1860137-f3c7-4875-a3d7-4285e17fcc41"
      },
      "outputs": [],
      "source": [
        "abc= [1,2,3,4,5,6]"
      ]
    },
    {
      "cell_type": "code",
      "execution_count": null,
      "id": "82ba1112-9c1b-4a9c-821c-02ddbc2a02d0",
      "metadata": {
        "id": "82ba1112-9c1b-4a9c-821c-02ddbc2a02d0"
      },
      "outputs": [],
      "source": [
        "def fun1(a):\n",
        "    for i in a:\n",
        "        print(i*i)"
      ]
    },
    {
      "cell_type": "code",
      "execution_count": null,
      "id": "36a3f500-9282-40d0-a42c-b72bd2c78d06",
      "metadata": {
        "id": "36a3f500-9282-40d0-a42c-b72bd2c78d06",
        "outputId": "74a61ac0-0d14-4bc3-adc6-24e7f92d740a"
      },
      "outputs": [
        {
          "name": "stdout",
          "output_type": "stream",
          "text": [
            "1\n",
            "4\n",
            "9\n",
            "16\n",
            "25\n",
            "36\n"
          ]
        }
      ],
      "source": [
        "fun1(abc)"
      ]
    },
    {
      "cell_type": "code",
      "execution_count": null,
      "id": "46d842df-871c-42ef-a398-9bd26a10a3cc",
      "metadata": {
        "id": "46d842df-871c-42ef-a398-9bd26a10a3cc"
      },
      "outputs": [],
      "source": [
        "a= map(lambda x:x*x, abc)"
      ]
    },
    {
      "cell_type": "code",
      "execution_count": null,
      "id": "e1df33de-10c1-4791-a686-2abc14ec6f63",
      "metadata": {
        "id": "e1df33de-10c1-4791-a686-2abc14ec6f63",
        "outputId": "1b9371e3-a08c-4138-94e9-d7de5b62dd2c"
      },
      "outputs": [
        {
          "name": "stdout",
          "output_type": "stream",
          "text": [
            "[1, 4, 9, 16, 25, 36]\n"
          ]
        }
      ],
      "source": [
        "print(list(a))"
      ]
    },
    {
      "cell_type": "code",
      "execution_count": null,
      "id": "17b4f208-b94d-4f19-85e9-500d6dbd3c8d",
      "metadata": {
        "id": "17b4f208-b94d-4f19-85e9-500d6dbd3c8d"
      },
      "outputs": [],
      "source": []
    }
  ],
  "metadata": {
    "kernelspec": {
      "display_name": "Python 3 (ipykernel)",
      "language": "python",
      "name": "python3"
    },
    "language_info": {
      "codemirror_mode": {
        "name": "ipython",
        "version": 3
      },
      "file_extension": ".py",
      "mimetype": "text/x-python",
      "name": "python",
      "nbconvert_exporter": "python",
      "pygments_lexer": "ipython3",
      "version": "3.12.7"
    },
    "colab": {
      "provenance": []
    }
  },
  "nbformat": 4,
  "nbformat_minor": 5
}