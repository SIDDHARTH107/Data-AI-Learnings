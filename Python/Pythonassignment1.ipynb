{
  "nbformat": 4,
  "nbformat_minor": 0,
  "metadata": {
    "colab": {
      "provenance": []
    },
    "kernelspec": {
      "name": "python3",
      "display_name": "Python 3"
    },
    "language_info": {
      "name": "python"
    }
  },
  "cells": [
    {
      "cell_type": "markdown",
      "source": [
        "# For Loop is used when the number of iterartions are known including the condition but while loop is used when number of iterations are not known means the limit or boundary is not known but condition is known."
      ],
      "metadata": {
        "id": "FQgA4WP-m4Iz"
      }
    },
    {
      "cell_type": "code",
      "source": [
        "# For loop example\n",
        "list1 = [1,2,3,4,5]\n",
        "for i in list1:\n",
        "  print(i % 2 == 0)"
      ],
      "metadata": {
        "colab": {
          "base_uri": "https://localhost:8080/"
        },
        "id": "FhZFUhQtnKqX",
        "outputId": "139ac957-09b4-4f56-b31b-7d1dcd9270a6"
      },
      "execution_count": 1,
      "outputs": [
        {
          "output_type": "stream",
          "name": "stdout",
          "text": [
            "False\n",
            "True\n",
            "False\n",
            "True\n",
            "False\n"
          ]
        }
      ]
    },
    {
      "cell_type": "code",
      "source": [
        "# While loop example\n",
        "i = 1  # Initialization\n",
        "while i < 6:  # Condition\n",
        "    print(i)\n",
        "    i += 1  # Updation"
      ],
      "metadata": {
        "colab": {
          "base_uri": "https://localhost:8080/"
        },
        "id": "XJmFrWMJnWn3",
        "outputId": "23e32768-0ef8-4709-b83a-beae9c2ace98"
      },
      "execution_count": 2,
      "outputs": [
        {
          "output_type": "stream",
          "name": "stdout",
          "text": [
            "1\n",
            "2\n",
            "3\n",
            "4\n",
            "5\n"
          ]
        }
      ]
    },
    {
      "cell_type": "code",
      "source": [
        "sum = 0\n",
        "for i in range(1, 11):\n",
        "  sum = sum + i\n",
        "print(sum)\n"
      ],
      "metadata": {
        "colab": {
          "base_uri": "https://localhost:8080/"
        },
        "id": "BAn7JgHmnmMB",
        "outputId": "1ceb9438-891f-449d-ad71-f1312fdb9903"
      },
      "execution_count": 7,
      "outputs": [
        {
          "output_type": "stream",
          "name": "stdout",
          "text": [
            "55\n"
          ]
        }
      ]
    },
    {
      "cell_type": "code",
      "source": [
        "product = 1\n",
        "for i in range(1, 11):\n",
        "  product = product * i\n",
        "print(product)\n"
      ],
      "metadata": {
        "colab": {
          "base_uri": "https://localhost:8080/"
        },
        "id": "9rs1c08Yo4He",
        "outputId": "78b2a266-71c7-499a-e2a2-45d8edb35fd0"
      },
      "execution_count": 9,
      "outputs": [
        {
          "output_type": "stream",
          "name": "stdout",
          "text": [
            "3628800\n"
          ]
        }
      ]
    },
    {
      "cell_type": "code",
      "source": [
        "i = 1\n",
        "sum = 0\n",
        "while (i < 11):\n",
        "  sum = sum + i\n",
        "  i += 1\n",
        "print(sum)"
      ],
      "metadata": {
        "colab": {
          "base_uri": "https://localhost:8080/"
        },
        "id": "uLpyKpYFqVYB",
        "outputId": "4874a036-0c01-4ab8-ed5f-be1ce7e8bdb7"
      },
      "execution_count": 14,
      "outputs": [
        {
          "output_type": "stream",
          "name": "stdout",
          "text": [
            "55\n"
          ]
        }
      ]
    },
    {
      "cell_type": "code",
      "source": [
        "i = 1\n",
        "product = 1\n",
        "while (i < 11):\n",
        "  product = product * i\n",
        "  i += 1\n",
        "print(product)"
      ],
      "metadata": {
        "colab": {
          "base_uri": "https://localhost:8080/"
        },
        "id": "iRApD7W7r_YC",
        "outputId": "f4cdde7e-e13d-43a8-903d-9753be020c2b"
      },
      "execution_count": 15,
      "outputs": [
        {
          "output_type": "stream",
          "name": "stdout",
          "text": [
            "3628800\n"
          ]
        }
      ]
    },
    {
      "cell_type": "code",
      "source": [
        "units = int(input(\"Enter your units: \"))\n",
        "if units <= 100:\n",
        "    bill = units * 3.46\n",
        "elif units >= 101 and units <= 300:\n",
        "    bill = 346 + ((units - 100) * 7.43)\n",
        "elif units >= 301 and units <= 500:\n",
        "    bill = 346 + 1486 + ((units - 300) * 10.32)\n",
        "else:\n",
        "    bill = 346 + 1486 + 2064 + ((units - 500) * 11.71)\n",
        "print(\"Bill Per Unit:\",bill)\n",
        "bill = bill + (units*1.45)\n",
        "print(\"Bill after adding Line rent:\",bill)\n",
        "bill = bill + 100\n",
        "print(\"Bill after adding Meter rent:\",bill)\n",
        "bill = bill + (bill*0.16)\n",
        "print(\"Total Bill after adding tax:\",bill)"
      ],
      "metadata": {
        "colab": {
          "base_uri": "https://localhost:8080/"
        },
        "id": "yjkp7OJftRhK",
        "outputId": "3e4f1fd5-7a24-4cdc-8eaf-e04497386eb2"
      },
      "execution_count": 16,
      "outputs": [
        {
          "output_type": "stream",
          "name": "stdout",
          "text": [
            "Enter your units: 59\n",
            "Bill Per Unit: 204.14\n",
            "Bill after adding Line rent: 289.69\n",
            "Bill after adding Meter rent: 389.69\n",
            "Total Bill after adding tax: 452.0404\n"
          ]
        }
      ]
    },
    {
      "cell_type": "code",
      "source": [
        "list2 = []\n",
        "for i in range(1, 101):\n",
        "  list2.append(i)\n",
        "print(list2)"
      ],
      "metadata": {
        "colab": {
          "base_uri": "https://localhost:8080/"
        },
        "id": "LnudvmAZtuFn",
        "outputId": "243a9ff0-398e-4f7f-d841-0534fdd54cf1"
      },
      "execution_count": 18,
      "outputs": [
        {
          "output_type": "stream",
          "name": "stdout",
          "text": [
            "[1, 2, 3, 4, 5, 6, 7, 8, 9, 10, 11, 12, 13, 14, 15, 16, 17, 18, 19, 20, 21, 22, 23, 24, 25, 26, 27, 28, 29, 30, 31, 32, 33, 34, 35, 36, 37, 38, 39, 40, 41, 42, 43, 44, 45, 46, 47, 48, 49, 50, 51, 52, 53, 54, 55, 56, 57, 58, 59, 60, 61, 62, 63, 64, 65, 66, 67, 68, 69, 70, 71, 72, 73, 74, 75, 76, 77, 78, 79, 80, 81, 82, 83, 84, 85, 86, 87, 88, 89, 90, 91, 92, 93, 94, 95, 96, 97, 98, 99, 100]\n"
          ]
        }
      ]
    },
    {
      "cell_type": "code",
      "source": [
        "list3 = []\n",
        "for j in list2:\n",
        "  cube = j*j*j\n",
        "  if cube % 4 == 0 or cube % 5 == 0:\n",
        "    list3.append(cube)\n",
        "print(list3)\n"
      ],
      "metadata": {
        "colab": {
          "base_uri": "https://localhost:8080/"
        },
        "id": "j12ujl5RuCLm",
        "outputId": "e6173dae-676c-4072-a531-e2213a17e0a5"
      },
      "execution_count": 19,
      "outputs": [
        {
          "output_type": "stream",
          "name": "stdout",
          "text": [
            "[8, 64, 125, 216, 512, 1000, 1728, 2744, 3375, 4096, 5832, 8000, 10648, 13824, 15625, 17576, 21952, 27000, 32768, 39304, 42875, 46656, 54872, 64000, 74088, 85184, 91125, 97336, 110592, 125000, 140608, 157464, 166375, 175616, 195112, 216000, 238328, 262144, 274625, 287496, 314432, 343000, 373248, 405224, 421875, 438976, 474552, 512000, 551368, 592704, 614125, 636056, 681472, 729000, 778688, 830584, 857375, 884736, 941192, 1000000]\n"
          ]
        }
      ]
    },
    {
      "cell_type": "code",
      "source": [
        "\n",
        "# Function to count vowel\n",
        "def vowelcount(str):\n",
        "     \n",
        "    \n",
        "    count = 0\n",
        "     \n",
        "    # Creating a set of vowels\n",
        "    vowel = set(\"aeiouAEIOU\")\n",
        "     \n",
        "    # Loop to traverse the alphabet\n",
        "    # in the given string\n",
        "    for alphabet in str:\n",
        "     \n",
        "        # If alphabet is present\n",
        "        # in set vowel\n",
        "        if alphabet in vowel:\n",
        "            count = count + 1\n",
        "     \n",
        "    print(\"No. of vowels :\", count)\n",
        "     \n",
        "# Driver code\n",
        "str = \"I want to become a data scientist.\"\n",
        " \n",
        "# Function Call\n",
        "vowelcount(str)"
      ],
      "metadata": {
        "colab": {
          "base_uri": "https://localhost:8080/"
        },
        "id": "UFRpChqwvcwq",
        "outputId": "8e1e8f5c-b038-480a-edb5-7d17de8df5b1"
      },
      "execution_count": 21,
      "outputs": [
        {
          "output_type": "stream",
          "name": "stdout",
          "text": [
            "No. of vowels : 12\n"
          ]
        }
      ]
    },
    {
      "cell_type": "code",
      "source": [],
      "metadata": {
        "id": "ukIOqvCUxgFv"
      },
      "execution_count": null,
      "outputs": []
    }
  ]
}