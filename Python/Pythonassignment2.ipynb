{
  "nbformat": 4,
  "nbformat_minor": 0,
  "metadata": {
    "colab": {
      "provenance": []
    },
    "kernelspec": {
      "name": "python3",
      "display_name": "Python 3"
    },
    "language_info": {
      "name": "python"
    }
  },
  "cells": [
    {
      "cell_type": "markdown",
      "source": [
        "# 'def' keyword is used to create a function."
      ],
      "metadata": {
        "id": "FQgA4WP-m4Iz"
      }
    },
    {
      "cell_type": "code",
      "source": [
        "def oddlist():\n",
        "  l = []\n",
        "  for i in range(1, 26):\n",
        "    if (i % 2 != 0):\n",
        "      l.append(i)\n",
        "  print(l)"
      ],
      "metadata": {
        "id": "FhZFUhQtnKqX"
      },
      "execution_count": 8,
      "outputs": []
    },
    {
      "cell_type": "code",
      "source": [
        "oddlist()"
      ],
      "metadata": {
        "colab": {
          "base_uri": "https://localhost:8080/"
        },
        "id": "qF_whm1IkI8g",
        "outputId": "25f17b3e-3704-40d3-d9b4-50111c65268a"
      },
      "execution_count": 9,
      "outputs": [
        {
          "output_type": "stream",
          "name": "stdout",
          "text": [
            "[1, 3, 5, 7, 9, 11, 13, 15, 17, 19, 21, 23, 25]\n"
          ]
        }
      ]
    },
    {
      "cell_type": "markdown",
      "source": [
        "# We can use *args and **kwargs as arguments of a function when you are unsure about the number of arguments to pass in the functions."
      ],
      "metadata": {
        "id": "OhcIMBY5ktY0"
      }
    },
    {
      "cell_type": "code",
      "source": [
        "def add(x, y):\n",
        "    return x+y\n",
        "\n",
        "print(add(2,3))"
      ],
      "metadata": {
        "colab": {
          "base_uri": "https://localhost:8080/"
        },
        "id": "XJmFrWMJnWn3",
        "outputId": "5739f4d0-2444-4ed3-9045-5c58f4c7b3a4"
      },
      "execution_count": 10,
      "outputs": [
        {
          "output_type": "stream",
          "name": "stdout",
          "text": [
            "5\n"
          ]
        }
      ]
    },
    {
      "cell_type": "code",
      "source": [
        "def add(x, y, z):\n",
        "    return x+y+z\n",
        "\n",
        "print(add(2, 3, 5))"
      ],
      "metadata": {
        "colab": {
          "base_uri": "https://localhost:8080/"
        },
        "id": "BAn7JgHmnmMB",
        "outputId": "42d5267a-ba33-4b18-d21d-5199ec850b35"
      },
      "execution_count": 11,
      "outputs": [
        {
          "output_type": "stream",
          "name": "stdout",
          "text": [
            "10\n"
          ]
        }
      ]
    },
    {
      "cell_type": "code",
      "source": [
        "def add(x, y, z):\n",
        "    return x+y+z\n",
        "\n",
        "\n",
        "print(add(2, 3))"
      ],
      "metadata": {
        "colab": {
          "base_uri": "https://localhost:8080/",
          "height": 200
        },
        "id": "9rs1c08Yo4He",
        "outputId": "cf60eb68-0b6b-410f-d4a4-814cea662589"
      },
      "execution_count": 12,
      "outputs": [
        {
          "output_type": "error",
          "ename": "TypeError",
          "evalue": "ignored",
          "traceback": [
            "\u001b[0;31m---------------------------------------------------------------------------\u001b[0m",
            "\u001b[0;31mTypeError\u001b[0m                                 Traceback (most recent call last)",
            "\u001b[0;32m<ipython-input-12-8fbf1b0ed189>\u001b[0m in \u001b[0;36m<cell line: 5>\u001b[0;34m()\u001b[0m\n\u001b[1;32m      3\u001b[0m \u001b[0;34m\u001b[0m\u001b[0m\n\u001b[1;32m      4\u001b[0m \u001b[0;34m\u001b[0m\u001b[0m\n\u001b[0;32m----> 5\u001b[0;31m \u001b[0mprint\u001b[0m\u001b[0;34m(\u001b[0m\u001b[0madd\u001b[0m\u001b[0;34m(\u001b[0m\u001b[0;36m2\u001b[0m\u001b[0;34m,\u001b[0m \u001b[0;36m3\u001b[0m\u001b[0;34m)\u001b[0m\u001b[0;34m)\u001b[0m\u001b[0;34m\u001b[0m\u001b[0;34m\u001b[0m\u001b[0m\n\u001b[0m",
            "\u001b[0;31mTypeError\u001b[0m: add() missing 1 required positional argument: 'z'"
          ]
        }
      ]
    },
    {
      "cell_type": "code",
      "source": [
        "def add(*args):\n",
        "    print(args, type(args))\n",
        "\n",
        "add(2, 3)"
      ],
      "metadata": {
        "colab": {
          "base_uri": "https://localhost:8080/"
        },
        "id": "uLpyKpYFqVYB",
        "outputId": "fbf2fbf2-9891-4227-bc8b-dd545dff1007"
      },
      "execution_count": 13,
      "outputs": [
        {
          "output_type": "stream",
          "name": "stdout",
          "text": [
            "(2, 3) <class 'tuple'>\n"
          ]
        }
      ]
    },
    {
      "cell_type": "code",
      "source": [
        "def add(*numbers):\n",
        "    total = 0\n",
        "    for num in numbers:\n",
        "        total += num\n",
        "    return total\n",
        "\n",
        "\n",
        "print(add(2, 3))\n",
        "print(add(2, 3, 5))\n",
        "print(add(2, 3, 5, 7))\n",
        "print(add(2, 3, 5, 7, 9))\n"
      ],
      "metadata": {
        "colab": {
          "base_uri": "https://localhost:8080/"
        },
        "id": "iRApD7W7r_YC",
        "outputId": "e171705b-9dae-45d8-aa2f-951b70a928e1"
      },
      "execution_count": 14,
      "outputs": [
        {
          "output_type": "stream",
          "name": "stdout",
          "text": [
            "5\n",
            "10\n",
            "17\n",
            "26\n"
          ]
        }
      ]
    },
    {
      "cell_type": "code",
      "source": [
        "def total_fruits(**kwargs):\n",
        "    print(kwargs, type(kwargs))\n",
        "\n",
        "\n",
        "total_fruits(banana=5, mango=7, apple=8)"
      ],
      "metadata": {
        "colab": {
          "base_uri": "https://localhost:8080/"
        },
        "id": "yjkp7OJftRhK",
        "outputId": "5edc5129-1ea1-494a-f2d9-6c00f966ac0d"
      },
      "execution_count": 15,
      "outputs": [
        {
          "output_type": "stream",
          "name": "stdout",
          "text": [
            "{'banana': 5, 'mango': 7, 'apple': 8} <class 'dict'>\n"
          ]
        }
      ]
    },
    {
      "cell_type": "code",
      "source": [
        "def total_fruits(**fruits):\n",
        "    total = 0\n",
        "    for amount in fruits.values():\n",
        "        total += amount\n",
        "    return total\n",
        "\n",
        "\n",
        "print(total_fruits(banana=5, mango=7, apple=8))\n",
        "print(total_fruits(banana=5, mango=7, apple=8, oranges=10))\n",
        "print(total_fruits(banana=5, mango=7))"
      ],
      "metadata": {
        "colab": {
          "base_uri": "https://localhost:8080/"
        },
        "id": "LnudvmAZtuFn",
        "outputId": "781cdfa5-bfb9-4693-bba9-95270b86f564"
      },
      "execution_count": 16,
      "outputs": [
        {
          "output_type": "stream",
          "name": "stdout",
          "text": [
            "20\n",
            "30\n",
            "12\n"
          ]
        }
      ]
    },
    {
      "cell_type": "markdown",
      "source": [
        "# An iterator in Python is an object that can be iterated (looped) upon. It is used to traverse through a container or a sequence of elements, one at a time. In Python, the iterator protocol defines two methods that an object must have to be an iterator: iter() and next().\n",
        "\n",
        "# The iter() method initializes the iterator object and returns itself. The next() method returns the next value in the sequence and raises a StopIteration exception when there are no more values to return."
      ],
      "metadata": {
        "id": "As0x9lxFnqbq"
      }
    },
    {
      "cell_type": "code",
      "source": [
        "my_list = [2, 4, 6, 8, 10, 12, 14, 16, 18, 20]\n",
        "my_iterator = iter(my_list)\n",
        "\n",
        "for i in range(5):\n",
        "    print(next(my_iterator))\n"
      ],
      "metadata": {
        "colab": {
          "base_uri": "https://localhost:8080/"
        },
        "id": "cOw1ftVcnso_",
        "outputId": "ffdfe2a6-f881-4d31-f3c7-e9962088322a"
      },
      "execution_count": 17,
      "outputs": [
        {
          "output_type": "stream",
          "name": "stdout",
          "text": [
            "2\n",
            "4\n",
            "6\n",
            "8\n",
            "10\n"
          ]
        }
      ]
    },
    {
      "cell_type": "markdown",
      "source": [
        "# In Python, a generator function is a special kind of function that generates a sequence of values using the yield keyword instead of return. When a generator function is called, it does not return a value immediately. Instead, it returns an object that can be used to iterate over a sequence of values, one value at a time, using the next() function.\n",
        "\n",
        "# The yield keyword is used in a generator function to specify a value to be returned to the caller of the generator function. When the yield keyword is encountered, the current state of the generator function is saved, and the value specified by yield is returned to the caller. The next time the generator function is called, execution resumes from the point where it left off, with the saved state restored."
      ],
      "metadata": {
        "id": "6BLYlBkyoElC"
      }
    },
    {
      "cell_type": "code",
      "source": [
        "def fibonacci(n):\n",
        "    a, b = 0, 1\n",
        "    for i in range(n):\n",
        "        yield a\n",
        "        a, b = b, a + b\n"
      ],
      "metadata": {
        "id": "VmwrGzFooAuy"
      },
      "execution_count": 18,
      "outputs": []
    },
    {
      "cell_type": "code",
      "source": [
        "for num in fibonacci(10):\n",
        "    print(num)\n"
      ],
      "metadata": {
        "colab": {
          "base_uri": "https://localhost:8080/"
        },
        "id": "bIWgtqHEoUKF",
        "outputId": "6964dff7-7a01-4a2a-b5ad-0cfd44bf32e0"
      },
      "execution_count": 20,
      "outputs": [
        {
          "output_type": "stream",
          "name": "stdout",
          "text": [
            "0\n",
            "1\n",
            "1\n",
            "2\n",
            "3\n",
            "5\n",
            "8\n",
            "13\n",
            "21\n",
            "34\n"
          ]
        }
      ]
    },
    {
      "cell_type": "code",
      "source": [
        "def primes():\n",
        "    num = 2\n",
        "    while num < 1000:\n",
        "        for i in range(2, num):\n",
        "            if num % i == 0:\n",
        "                break\n",
        "        else:\n",
        "            yield num\n",
        "        num += 1\n"
      ],
      "metadata": {
        "id": "SrjtdretoXci"
      },
      "execution_count": 21,
      "outputs": []
    },
    {
      "cell_type": "code",
      "source": [
        "prime_gen = primes()\n",
        "\n",
        "for i in range(20):\n",
        "    print(next(prime_gen))\n"
      ],
      "metadata": {
        "colab": {
          "base_uri": "https://localhost:8080/"
        },
        "id": "mk9DNHWAojHg",
        "outputId": "fbe8ccb3-78a4-41ac-88b8-2c49b0df5c1d"
      },
      "execution_count": 22,
      "outputs": [
        {
          "output_type": "stream",
          "name": "stdout",
          "text": [
            "2\n",
            "3\n",
            "5\n",
            "7\n",
            "11\n",
            "13\n",
            "17\n",
            "19\n",
            "23\n",
            "29\n",
            "31\n",
            "37\n",
            "41\n",
            "43\n",
            "47\n",
            "53\n",
            "59\n",
            "61\n",
            "67\n",
            "71\n"
          ]
        }
      ]
    },
    {
      "cell_type": "code",
      "source": [
        "my_string = 'pwskills'\n",
        "my_list = [char for char in my_string if char in 'pwskills']\n",
        "print(my_list)\n"
      ],
      "metadata": {
        "colab": {
          "base_uri": "https://localhost:8080/"
        },
        "id": "30qSKX0pomFN",
        "outputId": "0920b52d-c034-46b6-a951-e66955800773"
      },
      "execution_count": 23,
      "outputs": [
        {
          "output_type": "stream",
          "name": "stdout",
          "text": [
            "['p', 'w', 's', 'k', 'i', 'l', 'l', 's']\n"
          ]
        }
      ]
    },
    {
      "cell_type": "code",
      "source": [
        "num = int(input(\"Enter a number: \"))\n",
        "original_num = num\n",
        "reverse_num = 0\n",
        "\n",
        "while num > 0:\n",
        "    digit = num % 10\n",
        "    reverse_num = reverse_num * 10 + digit\n",
        "    num //= 10\n",
        "\n",
        "if original_num == reverse_num:\n",
        "    print(original_num, \"is a palindrome number\")\n",
        "else:\n",
        "    print(original_num, \"is not a palindrome number\")\n"
      ],
      "metadata": {
        "colab": {
          "base_uri": "https://localhost:8080/"
        },
        "id": "DnXiNqR0or3C",
        "outputId": "6099dc33-27ef-42c9-c8a5-d65edc0af0c8"
      },
      "execution_count": 24,
      "outputs": [
        {
          "output_type": "stream",
          "name": "stdout",
          "text": [
            "Enter a number: 7\n",
            "7 is a palindrome number\n"
          ]
        }
      ]
    },
    {
      "cell_type": "code",
      "source": [
        "odd_nums = [num for num in range(1, 101) if num % 2 != 0]\n",
        "print(odd_nums)\n"
      ],
      "metadata": {
        "colab": {
          "base_uri": "https://localhost:8080/"
        },
        "id": "w1o2xSPXowjk",
        "outputId": "c56443d2-17a1-47e8-8ca3-cdb767102065"
      },
      "execution_count": 27,
      "outputs": [
        {
          "output_type": "stream",
          "name": "stdout",
          "text": [
            "[1, 3, 5, 7, 9, 11, 13, 15, 17, 19, 21, 23, 25, 27, 29, 31, 33, 35, 37, 39, 41, 43, 45, 47, 49, 51, 53, 55, 57, 59, 61, 63, 65, 67, 69, 71, 73, 75, 77, 79, 81, 83, 85, 87, 89, 91, 93, 95, 97, 99]\n"
          ]
        }
      ]
    },
    {
      "cell_type": "code",
      "source": [
        "# initialize variables\n",
        "n = 10\n",
        "fibonacci_seq = [0, 1]\n",
        "\n",
        "# loop to generate Fibonacci sequence\n",
        "while len(fibonacci_seq) < n:\n",
        "    next_num = fibonacci_seq[-1] + fibonacci_seq[-2]\n",
        "    fibonacci_seq.append(next_num)\n",
        "\n",
        "# print the first 10 Fibonacci numbers\n",
        "print(fibonacci_seq)\n"
      ],
      "metadata": {
        "colab": {
          "base_uri": "https://localhost:8080/"
        },
        "id": "w8pZmw3xo140",
        "outputId": "136b4518-39bc-42d7-be38-0268b2803f72"
      },
      "execution_count": 34,
      "outputs": [
        {
          "output_type": "stream",
          "name": "stdout",
          "text": [
            "[0, 1, 1, 2, 3, 5, 8, 13, 21, 34]\n"
          ]
        }
      ]
    },
    {
      "cell_type": "code",
      "source": [],
      "metadata": {
        "id": "vkcCL09RpZpL"
      },
      "execution_count": null,
      "outputs": []
    }
  ]
}